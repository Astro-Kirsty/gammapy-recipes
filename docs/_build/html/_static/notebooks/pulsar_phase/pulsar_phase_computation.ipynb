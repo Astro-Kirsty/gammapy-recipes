{
 "cells": [
  {
   "cell_type": "markdown",
   "id": "29476e1d",
   "metadata": {},
   "source": [
    "# Phase computation for pulsar using PINT"
   ]
  },
  {
   "cell_type": "markdown",
   "id": "d69ed96d",
   "metadata": {},
   "source": [
    "This notebook has been done for the following version of Gammapy and PINT:\n",
    "\n",
    "Gammapy version : 1.0.1\n",
    "\n",
    "PINT version : 0.9.5"
   ]
  },
  {
   "cell_type": "markdown",
   "id": "d1a30dd7",
   "metadata": {},
   "source": [
    "This notebook shows how to compute and add the phase information into the events files of pulsar observations. This step is needed to perform the pulsar analysis with Gammapy and should be the first step in the high level analysis. For the pulsar analysis we need two ingredients:\n",
    "\n",
    "1. The time of arrivals (TOAs). These times should have very high precision due to the common fast periods of pulsars. Usually these times are already stored in the EventList. For the computation of pulsar timing, times must be corrected in order to be referenced in the Solar System barycenter (SSB) because this system can nearly be regarded as an inertial reference frame with respect to the pulsar.\n",
    "\n",
    "\n",
    "2. The model of rotation of the pulsar, also known as ephemeris, at the epoch of the observations. These ephemerides are stored in an specific format and saved as .par files and contain informations on the periods, derivatives of the periods, coordinates, glitches, etc.\n",
    "\n",
    "__For the following steps of this tutorial, we need the original EventLists from the DL3 files, and a model in .par format.__\n",
    "\n",
    "The main software that we will use to make the barycentric corrections and the phase-folding to the model is the PINT python library, [Luo J., Ransom S. et al., 2021](https://arxiv.org/abs/2012.00074), [ASCL](http://ascl.net/1902.007).\n",
    "For more information about this package, see [PINT documentation](https://nanograv-pint.readthedocs.io/en/latest/). "
   ]
  },
  {
   "cell_type": "markdown",
   "id": "c61c515c",
   "metadata": {},
   "source": [
    "## 0. Dependencies and imports"
   ]
  },
  {
   "cell_type": "markdown",
   "id": "a9c72d26",
   "metadata": {},
   "source": [
    "In order to run this notebook, one needs to have installed Gammapy as well as PINT (see documentation above) in the same environment. We recommend to first install Gammapy and then install PINT using your prefered package manager.\n",
    "\n",
    "\n",
    "`$ conda env create -n gammapy-pint -f gammapy-1.0-environment.yml`\n",
    "\n",
    "`$ conda activate gammapy-pint`\n",
    "\n",
    "`$ pip install pint-pulsar`"
   ]
  },
  {
   "cell_type": "markdown",
   "id": "2329c197",
   "metadata": {},
   "source": [
    "Alternatively, one can also run the yaml environement file provided in the folder of this notebook:\n",
    "\n",
    "`$ conda env create -n gammapy-pint -f gammapy-pint-environment.yml`\n"
   ]
  },
  {
   "cell_type": "code",
   "execution_count": 1,
   "id": "b68d2444",
   "metadata": {
    "execution": {
     "iopub.execute_input": "2024-03-27T11:26:25.357930Z",
     "iopub.status.busy": "2024-03-27T11:26:25.357759Z",
     "iopub.status.idle": "2024-03-27T11:26:25.831345Z",
     "shell.execute_reply": "2024-03-27T11:26:25.830742Z"
    }
   },
   "outputs": [
    {
     "name": "stdout",
     "output_type": "stream",
     "text": [
      "Gammapy version : 1.0.2\n",
      "PINT version : 0.9.8\n"
     ]
    }
   ],
   "source": [
    "import gammapy\n",
    "import pint\n",
    "\n",
    "print(f\"Gammapy version : {gammapy.__version__}\")\n",
    "print(f\"PINT version : {pint.__version__}\")"
   ]
  },
  {
   "cell_type": "code",
   "execution_count": 2,
   "id": "e61b5e3e",
   "metadata": {
    "execution": {
     "iopub.execute_input": "2024-03-27T11:26:25.833998Z",
     "iopub.status.busy": "2024-03-27T11:26:25.833639Z",
     "iopub.status.idle": "2024-03-27T11:26:26.506462Z",
     "shell.execute_reply": "2024-03-27T11:26:26.505816Z"
    }
   },
   "outputs": [],
   "source": [
    "import astropy.units as u\n",
    "from astropy.time import Time\n",
    "from astropy.coordinates import SkyCoord\n",
    "import numpy as np\n",
    "from pathlib import Path\n",
    "from gammapy.data import DataStore, EventList, Observation"
   ]
  },
  {
   "cell_type": "markdown",
   "id": "81ae3a58",
   "metadata": {},
   "source": [
    "And we also need some imports from PINT:"
   ]
  },
  {
   "cell_type": "code",
   "execution_count": 3,
   "id": "22ac4aea",
   "metadata": {
    "execution": {
     "iopub.execute_input": "2024-03-27T11:26:26.509540Z",
     "iopub.status.busy": "2024-03-27T11:26:26.509079Z",
     "iopub.status.idle": "2024-03-27T11:26:26.624488Z",
     "shell.execute_reply": "2024-03-27T11:26:26.623985Z"
    }
   },
   "outputs": [],
   "source": [
    "import pint.models as pmodels\n",
    "from pint import toa"
   ]
  },
  {
   "cell_type": "markdown",
   "id": "5aae5f4b",
   "metadata": {},
   "source": [
    "## 1. Reading DataStore"
   ]
  },
  {
   "cell_type": "markdown",
   "id": "b486ec45",
   "metadata": {},
   "source": [
    "First we neeed to define the data sample. In this notebook we will use two runs from the MAGIC gammapy data sample available in https://github.com/gammapy/gammapy-data"
   ]
  },
  {
   "cell_type": "code",
   "execution_count": 4,
   "id": "d0e182bb",
   "metadata": {
    "execution": {
     "iopub.execute_input": "2024-03-27T11:26:26.627105Z",
     "iopub.status.busy": "2024-03-27T11:26:26.626738Z",
     "iopub.status.idle": "2024-03-27T11:26:26.629431Z",
     "shell.execute_reply": "2024-03-27T11:26:26.628877Z"
    }
   },
   "outputs": [],
   "source": [
    "# Define the directory containing the DL3 data\n",
    "DL3_direc = \"$GAMMAPY_DATA/magic/rad_max/data\""
   ]
  },
  {
   "cell_type": "code",
   "execution_count": 5,
   "id": "b5019a42",
   "metadata": {
    "execution": {
     "iopub.execute_input": "2024-03-27T11:26:26.631734Z",
     "iopub.status.busy": "2024-03-27T11:26:26.631306Z",
     "iopub.status.idle": "2024-03-27T11:26:26.646554Z",
     "shell.execute_reply": "2024-03-27T11:26:26.646010Z"
    }
   },
   "outputs": [],
   "source": [
    "# Read DataStore from a directory\n",
    "data_store = DataStore.from_dir(DL3_direc)"
   ]
  },
  {
   "cell_type": "markdown",
   "id": "b551325a",
   "metadata": {},
   "source": [
    "Let's run this tutorial for the Crab pulsar :"
   ]
  },
  {
   "cell_type": "code",
   "execution_count": 6,
   "id": "9ba16fcc",
   "metadata": {
    "execution": {
     "iopub.execute_input": "2024-03-27T11:26:26.648835Z",
     "iopub.status.busy": "2024-03-27T11:26:26.648528Z",
     "iopub.status.idle": "2024-03-27T11:26:26.651855Z",
     "shell.execute_reply": "2024-03-27T11:26:26.651323Z"
    }
   },
   "outputs": [],
   "source": [
    "target_pos = SkyCoord(\n",
    "    ra=083.6331144560900, dec=+22.0144871383400, unit=\"deg\", frame=\"icrs\"\n",
    ")"
   ]
  },
  {
   "cell_type": "code",
   "execution_count": 7,
   "id": "06bda835",
   "metadata": {
    "execution": {
     "iopub.execute_input": "2024-03-27T11:26:26.654049Z",
     "iopub.status.busy": "2024-03-27T11:26:26.653646Z",
     "iopub.status.idle": "2024-03-27T11:26:26.660513Z",
     "shell.execute_reply": "2024-03-27T11:26:26.659953Z"
    }
   },
   "outputs": [],
   "source": [
    "selection = dict(\n",
    "    type=\"sky_circle\",\n",
    "    frame=\"icrs\",\n",
    "    lon=target_pos.ra,\n",
    "    lat=target_pos.dec,\n",
    "    radius=\"5 deg\",\n",
    ")\n",
    "selected_obs_table = data_store.obs_table.select_observations(selection)"
   ]
  },
  {
   "cell_type": "code",
   "execution_count": 8,
   "id": "f96ccf30",
   "metadata": {
    "execution": {
     "iopub.execute_input": "2024-03-27T11:26:26.662615Z",
     "iopub.status.busy": "2024-03-27T11:26:26.662199Z",
     "iopub.status.idle": "2024-03-27T11:26:26.665420Z",
     "shell.execute_reply": "2024-03-27T11:26:26.664873Z"
    }
   },
   "outputs": [
    {
     "name": "stdout",
     "output_type": "stream",
     "text": [
      " OBS_ID\n",
      "-------\n",
      "5029748\n",
      "5029747\n"
     ]
    }
   ],
   "source": [
    "obs_id = selected_obs_table[\"OBS_ID\"]\n",
    "print(obs_id)"
   ]
  },
  {
   "cell_type": "markdown",
   "id": "9b77aaae",
   "metadata": {},
   "source": [
    "For the following we will take the run 5029747."
   ]
  },
  {
   "cell_type": "code",
   "execution_count": 9,
   "id": "fa6e36d5",
   "metadata": {
    "execution": {
     "iopub.execute_input": "2024-03-27T11:26:26.667386Z",
     "iopub.status.busy": "2024-03-27T11:26:26.667228Z",
     "iopub.status.idle": "2024-03-27T11:26:26.670890Z",
     "shell.execute_reply": "2024-03-27T11:26:26.670425Z"
    }
   },
   "outputs": [],
   "source": [
    "observations = data_store.get_observations(\n",
    "    [5029747], required_irf=\"point-like\"\n",
    ")"
   ]
  },
  {
   "cell_type": "code",
   "execution_count": 10,
   "id": "dec2c1a5",
   "metadata": {
    "execution": {
     "iopub.execute_input": "2024-03-27T11:26:26.673075Z",
     "iopub.status.busy": "2024-03-27T11:26:26.672669Z",
     "iopub.status.idle": "2024-03-27T11:26:26.780999Z",
     "shell.execute_reply": "2024-03-27T11:26:26.780438Z"
    }
   },
   "outputs": [
    {
     "name": "stdout",
     "output_type": "stream",
     "text": [
      "Observations\n",
      "Number of observations: 1\n",
      "Observation\n",
      "\n",
      "\tobs id            : 5029747 \n",
      " \ttstart            : 56569.18\n",
      "\ttstop             : 56569.19\n",
      "\tduration          : 1188.11 s\n",
      "\tpointing (icrs)   : 84.0 deg, 22.2 deg\n",
      "\n",
      "\tdeadtime fraction : 0.8%\n",
      "\n"
     ]
    }
   ],
   "source": [
    "print(observations)"
   ]
  },
  {
   "cell_type": "markdown",
   "id": "0dd88876",
   "metadata": {},
   "source": [
    "## 2. Phase-folding with PINT for one observation"
   ]
  },
  {
   "cell_type": "markdown",
   "id": "162a3ac0",
   "metadata": {},
   "source": [
    "Let's extract the times from the observation:"
   ]
  },
  {
   "cell_type": "code",
   "execution_count": 11,
   "id": "2756e72d",
   "metadata": {
    "execution": {
     "iopub.execute_input": "2024-03-27T11:26:26.783640Z",
     "iopub.status.busy": "2024-03-27T11:26:26.783173Z",
     "iopub.status.idle": "2024-03-27T11:26:26.799711Z",
     "shell.execute_reply": "2024-03-27T11:26:26.799261Z"
    }
   },
   "outputs": [],
   "source": [
    "# Extract times from EventList\n",
    "observation = observations[0]\n",
    "times = observation.events.time"
   ]
  },
  {
   "cell_type": "code",
   "execution_count": 12,
   "id": "1ac8103a",
   "metadata": {
    "execution": {
     "iopub.execute_input": "2024-03-27T11:26:26.801834Z",
     "iopub.status.busy": "2024-03-27T11:26:26.801523Z",
     "iopub.status.idle": "2024-03-27T11:26:26.804890Z",
     "shell.execute_reply": "2024-03-27T11:26:26.804365Z"
    }
   },
   "outputs": [
    {
     "name": "stdout",
     "output_type": "stream",
     "text": [
      "[56569.18112859 56569.18112878 56569.18112978 ... 56569.19487702\n",
      " 56569.19487703 56569.19487876]\n"
     ]
    }
   ],
   "source": [
    "print(times)"
   ]
  },
  {
   "cell_type": "markdown",
   "id": "e93bfbeb",
   "metadata": {},
   "source": [
    "Now we have the TOAs of the events in the system of the telescope. Please note that the actual precision of the times is higher than the diplayed output (and we really need this precision for the pulsar analysis!). In the next step, the timing in the SSB and the phase for each TOA has to be created. "
   ]
  },
  {
   "cell_type": "markdown",
   "id": "e46c5d70",
   "metadata": {},
   "source": [
    "## 2.1 An ephemeris file from Fermi-LAT data."
   ]
  },
  {
   "cell_type": "markdown",
   "id": "fb536b7e",
   "metadata": {},
   "source": [
    "In order to compute the phases of a pulsar, one needs an ephemeris file, usually store as a .par file. \n",
    "\n",
    "In the following, we will use an ephemeris file for the Crab provided by Fermi-LAT, see [Kerr, M.; Ray, P. S.; et al; 2015](https://arxiv.org/abs/1510.05099). This ephemeris file for the Crab pulsar can be found alongside other pulsar ephemeris files at this [confluence page]( https://confluence.slac.stanford.edu/display/GLAMCOG/LAT+Gamma-ray+Pulsar+Timing+Models). \n",
    "\n",
    "However, be aware that most of these ephemeris files are not up-to-date. Therefore they could give bad results on the phase computation. In particular, one should always checked that the MJD of the observations one wants to phased lies between the `START`and `FINISH`entry of the ephemeris file."
   ]
  },
  {
   "cell_type": "code",
   "execution_count": 13,
   "id": "d4f89ba4",
   "metadata": {
    "execution": {
     "iopub.execute_input": "2024-03-27T11:26:26.807135Z",
     "iopub.status.busy": "2024-03-27T11:26:26.806833Z",
     "iopub.status.idle": "2024-03-27T11:26:26.809301Z",
     "shell.execute_reply": "2024-03-27T11:26:26.808783Z"
    }
   },
   "outputs": [],
   "source": [
    "# Path to the ephemeris file\n",
    "ephemeris_file = \"./0534+2200_ApJ_708_1254_2010.par\""
   ]
  },
  {
   "cell_type": "markdown",
   "id": "52eb3086",
   "metadata": {},
   "source": [
    "Note that sometimes one needs to change some of the parameters of the ephemeris file that are not used in gamma-ray astronomy by hand. For instance, here we have removed the 'JUMP' line since it does not have any effect in our computation and raise an error in PINT. The ephemeris file provided with this notebook does not have this line. "
   ]
  },
  {
   "cell_type": "markdown",
   "id": "9de2d5f9",
   "metadata": {},
   "source": [
    "## 2.2 Computing pulsar phases"
   ]
  },
  {
   "cell_type": "markdown",
   "id": "9d8ee2a8",
   "metadata": {},
   "source": [
    "Now that we have the model and the times of arrival for the different events, we can compute the timing corrections and the pulsar phases needed for the pulsar analysis. In this case, we use the PINT package described in the introduction."
   ]
  },
  {
   "cell_type": "markdown",
   "id": "118886ce",
   "metadata": {},
   "source": [
    "First we will explore our model. We print some of the relevant quantities"
   ]
  },
  {
   "cell_type": "code",
   "execution_count": 14,
   "id": "d24e1c92",
   "metadata": {
    "execution": {
     "iopub.execute_input": "2024-03-27T11:26:26.811565Z",
     "iopub.status.busy": "2024-03-27T11:26:26.811265Z",
     "iopub.status.idle": "2024-03-27T11:26:26.907510Z",
     "shell.execute_reply": "2024-03-27T11:26:26.906967Z"
    },
    "scrolled": false
   },
   "outputs": [
    {
     "name": "stderr",
     "output_type": "stream",
     "text": [
      "\u001b[32m2024-03-27 11:26:26.901\u001b[0m | \u001b[1mINFO    \u001b[0m | \u001b[36mpint.models.absolute_phase\u001b[0m:\u001b[36mvalidate\u001b[0m:\u001b[36m74\u001b[0m - \u001b[1mTZRFRQ was 0.0 or None. Setting to infinite frequency.\u001b[0m\n",
      "/usr/share/miniconda3/envs/gammapy-recipes/lib/python3.9/site-packages/pint/models/model_builder.py:198: UserWarning: Unrecognized parfile line 'EPHVER 5'\n",
      "  warnings.warn(f\"Unrecognized parfile line '{p_line}'\", UserWarning)\n",
      "\u001b[32m2024-03-27 11:26:26.903\u001b[0m | \u001b[33m\u001b[1mWARNING \u001b[0m | \u001b[36mpint.models.model_builder\u001b[0m:\u001b[36m__call__\u001b[0m:\u001b[36m202\u001b[0m - \u001b[33m\u001b[1mUNITS is not specified. Assuming TDB...\u001b[0m\n"
     ]
    },
    {
     "name": "stdout",
     "output_type": "stream",
     "text": [
      "AstrometryEquatorial(\n",
      "    MJDParameter(   POSEPOCH            50739.0000000000000000 (d) frozen=True),\n",
      "    floatParameter( PX                  0.0               (mas) frozen=True),\n",
      "    AngleParameter( RAJ                 5:34:31.94000000  (hourangle) frozen=True),\n",
      "    AngleParameter( DECJ                22:00:52.10000000 (deg) frozen=True),\n",
      "    floatParameter( PMRA                -11.8             (mas / yr) +/- 1.0 mas / yr frozen=True),\n",
      "    floatParameter( PMDEC               4.4               (mas / yr) +/- 1.0 mas / yr frozen=True))\n",
      "SolarSystemShapiro(\n",
      "    boolParameter(  PLANET_SHAPIRO      N                 frozen=True))\n",
      "DispersionDM(\n",
      "    floatParameter( DM                  56.785579397589822356 (pc / cm3) frozen=True),\n",
      "    floatParameter( DM1                 0.031279168349770640344 (pc / (yr cm3)) frozen=True),\n",
      "    MJDParameter(   DMEPOCH             55107.8071585532816240 (d) frozen=True))\n",
      "AbsPhase(\n",
      "    MJDParameter(   TZRMJD              55638.1552775999516551 (d) frozen=True),\n",
      "    strParameter(   TZRSITE             coe               frozen=True),\n",
      "    floatParameter( TZRFRQ              inf               (MHz) frozen=True))\n",
      "Spindown(\n",
      "    floatParameter( F0                  29.716913767510206412 (Hz) +/- 7.440760185772888e-08 Hz frozen=True),\n",
      "    MJDParameter(   PEPOCH              55555.0000000000000000 (d) frozen=True),\n",
      "    floatParameter( F1                  -3.7105744257791078768e-10 (Hz / s) +/- 7.182646367277094e-16 Hz / s frozen=True),\n",
      "    floatParameter( F2                  1.1633675551229037574e-20 (Hz / s2) +/- 2.487306981530037e-23 Hz / s2 frozen=True),\n",
      "    floatParameter( F3                  -8.6724769747827286635e-31 (Hz / s3) +/- 0.0 Hz / s3 frozen=True))\n"
     ]
    }
   ],
   "source": [
    "model = pmodels.get_model(ephemeris_file)\n",
    "print(model.components[\"AstrometryEquatorial\"])\n",
    "print(model.components[\"SolarSystemShapiro\"])\n",
    "print(model.components[\"DispersionDM\"])\n",
    "print(model.components[\"AbsPhase\"])\n",
    "print(model.components[\"Spindown\"])"
   ]
  },
  {
   "cell_type": "markdown",
   "id": "0f8cd0d8",
   "metadata": {},
   "source": [
    "There are multiple parameters such as the name of the source, the interval of validity of the model (START to FINISH), the frequencies of rotation and its derivatives (F0,F1,F2). There are other additional parameters that can be checked in the [PINT documentation](https://nanograv-pint.readthedocs.io)"
   ]
  },
  {
   "cell_type": "markdown",
   "id": "56a64435",
   "metadata": {},
   "source": [
    "Now we can compute the phases. For that, we define a list of TOA objects that are the main object of PINT."
   ]
  },
  {
   "cell_type": "code",
   "execution_count": 15,
   "id": "a145cdde",
   "metadata": {
    "execution": {
     "iopub.execute_input": "2024-03-27T11:26:26.909929Z",
     "iopub.status.busy": "2024-03-27T11:26:26.909738Z",
     "iopub.status.idle": "2024-03-27T11:26:44.597210Z",
     "shell.execute_reply": "2024-03-27T11:26:44.596640Z"
    },
    "scrolled": false
   },
   "outputs": [
    {
     "name": "stderr",
     "output_type": "stream",
     "text": [
      "\u001b[32m2024-03-27 11:26:27.247\u001b[0m | \u001b[34m\u001b[1mDEBUG   \u001b[0m | \u001b[36mpint.toa\u001b[0m:\u001b[36m__init__\u001b[0m:\u001b[36m1358\u001b[0m - \u001b[34m\u001b[1mNo pulse number flags found in the TOAs\u001b[0m\n",
      "\u001b[32m2024-03-27 11:26:27.263\u001b[0m | \u001b[34m\u001b[1mDEBUG   \u001b[0m | \u001b[36mpint.toa\u001b[0m:\u001b[36mapply_clock_corrections\u001b[0m:\u001b[36m2200\u001b[0m - \u001b[34m\u001b[1mApplying clock corrections (include_gps = False, include_bipm = False)\u001b[0m\n",
      "\u001b[32m2024-03-27 11:26:27.923\u001b[0m | \u001b[1mINFO    \u001b[0m | \u001b[36mpint.observatory.topo_obs\u001b[0m:\u001b[36mclock_corrections\u001b[0m:\u001b[36m365\u001b[0m - \u001b[1mObservatory magic requires no clock corrections.\u001b[0m\n",
      "\u001b[32m2024-03-27 11:26:31.192\u001b[0m | \u001b[34m\u001b[1mDEBUG   \u001b[0m | \u001b[36mpint.toa\u001b[0m:\u001b[36mcompute_TDBs\u001b[0m:\u001b[36m2251\u001b[0m - \u001b[34m\u001b[1mComputing TDB columns.\u001b[0m\n",
      "\u001b[32m2024-03-27 11:26:31.193\u001b[0m | \u001b[34m\u001b[1mDEBUG   \u001b[0m | \u001b[36mpint.toa\u001b[0m:\u001b[36mcompute_TDBs\u001b[0m:\u001b[36m2272\u001b[0m - \u001b[34m\u001b[1mUsing EPHEM = DE421 for TDB calculation.\u001b[0m\n",
      "\u001b[32m2024-03-27 11:26:32.378\u001b[0m | \u001b[34m\u001b[1mDEBUG   \u001b[0m | \u001b[36mpint.toa\u001b[0m:\u001b[36mcompute_posvels\u001b[0m:\u001b[36m2350\u001b[0m - \u001b[34m\u001b[1mComputing PosVels of observatories and Earth, using DE421\u001b[0m\n",
      "\u001b[32m2024-03-27 11:26:33.420\u001b[0m | \u001b[1mINFO    \u001b[0m | \u001b[36mpint.solar_system_ephemerides\u001b[0m:\u001b[36m_load_kernel_link\u001b[0m:\u001b[36m55\u001b[0m - \u001b[1mSet solar system ephemeris to de421 from download\u001b[0m\n",
      "\u001b[32m2024-03-27 11:26:44.359\u001b[0m | \u001b[34m\u001b[1mDEBUG   \u001b[0m | \u001b[36mpint.toa\u001b[0m:\u001b[36mcompute_posvels\u001b[0m:\u001b[36m2403\u001b[0m - \u001b[34m\u001b[1mSSB obs pos [1.47007462e+11 2.56889811e+10 1.11245045e+10] m\u001b[0m\n",
      "\u001b[32m2024-03-27 11:26:44.587\u001b[0m | \u001b[1mINFO    \u001b[0m | \u001b[36mpint.solar_system_ephemerides\u001b[0m:\u001b[36m_load_kernel_link\u001b[0m:\u001b[36m55\u001b[0m - \u001b[1mSet solar system ephemeris to de421 from download\u001b[0m\n",
      "\u001b[32m2024-03-27 11:26:44.593\u001b[0m | \u001b[34m\u001b[1mDEBUG   \u001b[0m | \u001b[36mpint.toa\u001b[0m:\u001b[36mcompute_posvels\u001b[0m:\u001b[36m2417\u001b[0m - \u001b[34m\u001b[1mAdding columns ssb_obs_pos ssb_obs_vel obs_sun_pos\u001b[0m\n"
     ]
    },
    {
     "name": "stdout",
     "output_type": "stream",
     "text": [
      "CPU times: user 7.02 s, sys: 188 ms, total: 7.21 s\n",
      "Wall time: 17.7 s\n"
     ]
    }
   ],
   "source": [
    "%%time\n",
    "\n",
    "# Put these to True is your observatory has clock correction files.\n",
    "# If it is set to True but your observatory does not have clock correction files, it will be ignored.\n",
    "include_bipm = False\n",
    "include_gps = False\n",
    "\n",
    "# Set this to True or False depending on your ephemeris file.\n",
    "# Here we can see that the 'PLANET_SHAPIRO' entry is 'N' so we set it to True.\n",
    "planets = False\n",
    "\n",
    "# Create a TOA object for each time\n",
    "toas = toa.get_TOAs_array(\n",
    "    times=times,\n",
    "    obs=\"magic\",\n",
    "    errors=1 * u.microsecond,\n",
    "    ephem=\"DE421\",\n",
    "    include_gps=include_gps,\n",
    "    include_bipm=include_bipm,\n",
    "    planets=planets,\n",
    ")"
   ]
  },
  {
   "cell_type": "markdown",
   "id": "db97ea5b",
   "metadata": {},
   "source": [
    "Once we have the TOAs object and the model, the phases are easily computed using the model.phase() method. Note that the phases are computed in the interval [-0.5,0.5]. Most of the times, we use the phases in the interval [0,1] so we have to shift the negative ones."
   ]
  },
  {
   "cell_type": "code",
   "execution_count": 16,
   "id": "6fbf3ad9",
   "metadata": {
    "execution": {
     "iopub.execute_input": "2024-03-27T11:26:44.599538Z",
     "iopub.status.busy": "2024-03-27T11:26:44.599353Z",
     "iopub.status.idle": "2024-03-27T11:26:45.194277Z",
     "shell.execute_reply": "2024-03-27T11:26:45.193696Z"
    }
   },
   "outputs": [
    {
     "name": "stderr",
     "output_type": "stream",
     "text": [
      "\u001b[32m2024-03-27 11:26:44.636\u001b[0m | \u001b[34m\u001b[1mDEBUG   \u001b[0m | \u001b[36mpint.models.glitch\u001b[0m:\u001b[36mglitch_phase\u001b[0m:\u001b[36m213\u001b[0m - \u001b[34m\u001b[1mGlitch phase for glitch 1: 0.0 \u001b[0m\n",
      "\u001b[32m2024-03-27 11:26:44.640\u001b[0m | \u001b[34m\u001b[1mDEBUG   \u001b[0m | \u001b[36mpint.models.absolute_phase\u001b[0m:\u001b[36mget_TZR_toa\u001b[0m:\u001b[36m98\u001b[0m - \u001b[34m\u001b[1mCreating and dealing with the single TZR_toa for absolute phase\u001b[0m\n",
      "\u001b[32m2024-03-27 11:26:44.646\u001b[0m | \u001b[34m\u001b[1mDEBUG   \u001b[0m | \u001b[36mpint.toa\u001b[0m:\u001b[36m__init__\u001b[0m:\u001b[36m1358\u001b[0m - \u001b[34m\u001b[1mNo pulse number flags found in the TOAs\u001b[0m\n",
      "\u001b[32m2024-03-27 11:26:44.646\u001b[0m | \u001b[34m\u001b[1mDEBUG   \u001b[0m | \u001b[36mpint.toa\u001b[0m:\u001b[36mapply_clock_corrections\u001b[0m:\u001b[36m2200\u001b[0m - \u001b[34m\u001b[1mApplying clock corrections (include_gps = False, include_bipm = False)\u001b[0m\n",
      "\u001b[32m2024-03-27 11:26:44.648\u001b[0m | \u001b[34m\u001b[1mDEBUG   \u001b[0m | \u001b[36mpint.toa\u001b[0m:\u001b[36mcompute_TDBs\u001b[0m:\u001b[36m2251\u001b[0m - \u001b[34m\u001b[1mComputing TDB columns.\u001b[0m\n",
      "\u001b[32m2024-03-27 11:26:44.648\u001b[0m | \u001b[34m\u001b[1mDEBUG   \u001b[0m | \u001b[36mpint.toa\u001b[0m:\u001b[36mcompute_TDBs\u001b[0m:\u001b[36m2272\u001b[0m - \u001b[34m\u001b[1mUsing EPHEM = DE421 for TDB calculation.\u001b[0m\n",
      "\u001b[32m2024-03-27 11:26:44.651\u001b[0m | \u001b[34m\u001b[1mDEBUG   \u001b[0m | \u001b[36mpint.toa\u001b[0m:\u001b[36mcompute_posvels\u001b[0m:\u001b[36m2350\u001b[0m - \u001b[34m\u001b[1mComputing PosVels of observatories and Earth, using DE421\u001b[0m\n",
      "\u001b[32m2024-03-27 11:26:44.929\u001b[0m | \u001b[1mINFO    \u001b[0m | \u001b[36mpint.solar_system_ephemerides\u001b[0m:\u001b[36m_load_kernel_link\u001b[0m:\u001b[36m55\u001b[0m - \u001b[1mSet solar system ephemeris to de421 from download\u001b[0m\n",
      "\u001b[32m2024-03-27 11:26:44.931\u001b[0m | \u001b[34m\u001b[1mDEBUG   \u001b[0m | \u001b[36mpint.toa\u001b[0m:\u001b[36mcompute_posvels\u001b[0m:\u001b[36m2403\u001b[0m - \u001b[34m\u001b[1mSSB obs pos [-1.49278181e+08  7.07659442e+06  3.07113250e+06] km\u001b[0m\n",
      "\u001b[32m2024-03-27 11:26:45.150\u001b[0m | \u001b[1mINFO    \u001b[0m | \u001b[36mpint.solar_system_ephemerides\u001b[0m:\u001b[36m_load_kernel_link\u001b[0m:\u001b[36m55\u001b[0m - \u001b[1mSet solar system ephemeris to de421 from download\u001b[0m\n",
      "\u001b[32m2024-03-27 11:26:45.176\u001b[0m | \u001b[34m\u001b[1mDEBUG   \u001b[0m | \u001b[36mpint.toa\u001b[0m:\u001b[36mcompute_posvels\u001b[0m:\u001b[36m2417\u001b[0m - \u001b[34m\u001b[1mAdding columns ssb_obs_pos ssb_obs_vel obs_sun_pos\u001b[0m\n",
      "\u001b[32m2024-03-27 11:26:45.177\u001b[0m | \u001b[34m\u001b[1mDEBUG   \u001b[0m | \u001b[36mpint.models.absolute_phase\u001b[0m:\u001b[36mget_TZR_toa\u001b[0m:\u001b[36m121\u001b[0m - \u001b[34m\u001b[1mDone with TZR_toa\u001b[0m\n",
      "\u001b[32m2024-03-27 11:26:45.188\u001b[0m | \u001b[34m\u001b[1mDEBUG   \u001b[0m | \u001b[36mpint.models.glitch\u001b[0m:\u001b[36mglitch_phase\u001b[0m:\u001b[36m213\u001b[0m - \u001b[34m\u001b[1mGlitch phase for glitch 1: 0.0 \u001b[0m\n"
     ]
    }
   ],
   "source": [
    "# Compute phases\n",
    "phases = model.phase(toas, abs_phase=True)[1]\n",
    "\n",
    "# Shift phases to the interval (0,1]\n",
    "phases = np.where(phases < 0.0, phases + 1.0, phases)"
   ]
  },
  {
   "cell_type": "markdown",
   "id": "466a291e",
   "metadata": {},
   "source": [
    "## 3. Adding phases and metadata to an EventList and put it in a new Observation. "
   ]
  },
  {
   "cell_type": "markdown",
   "id": "9edcf15f",
   "metadata": {},
   "source": [
    "Once the phases are computed we need to create a new EventList table that includes both the original information of the events and the phase information in extra columns. This is necessary for Gammapy to read the phases and use them as an extra variable of each event."
   ]
  },
  {
   "cell_type": "code",
   "execution_count": 17,
   "id": "735ac718",
   "metadata": {
    "execution": {
     "iopub.execute_input": "2024-03-27T11:26:45.196779Z",
     "iopub.status.busy": "2024-03-27T11:26:45.196431Z",
     "iopub.status.idle": "2024-03-27T11:26:45.206792Z",
     "shell.execute_reply": "2024-03-27T11:26:45.206263Z"
    }
   },
   "outputs": [],
   "source": [
    "# Extract the table of the EventList\n",
    "table = observation.events.table"
   ]
  },
  {
   "cell_type": "code",
   "execution_count": 18,
   "id": "f3269a2c",
   "metadata": {
    "execution": {
     "iopub.execute_input": "2024-03-27T11:26:45.209126Z",
     "iopub.status.busy": "2024-03-27T11:26:45.208686Z",
     "iopub.status.idle": "2024-03-27T11:26:45.212621Z",
     "shell.execute_reply": "2024-03-27T11:26:45.212125Z"
    },
    "scrolled": false
   },
   "outputs": [
    {
     "name": "stdout",
     "output_type": "stream",
     "text": [
      "EVENT_ID        TIME            RA       DEC       ENERGY  \n",
      "                 s             deg       deg        TeV    \n",
      "-------- ------------------ --------- --------- -----------\n",
      "    2402  333778852.5099249  84.59457  22.03088  0.18194601\n",
      "    2408  333778852.5267153  84.21462  23.44914  0.08397394\n",
      "    2434 333778852.61315054 83.524704 22.725792  0.10596932\n",
      "    2445  333778852.6690142  83.76957 22.451006  0.19733498\n",
      "    2478  333778852.7627939 83.478516 23.484594  0.08522219\n",
      "    2481  333778852.7778549  83.71517 21.985115   1.0020943\n",
      "    2513  333778852.8644467 82.421196 22.567652  0.14374068\n",
      "    2544  333778852.9826064  83.64136 22.041315  0.10316629\n",
      "    2559  333778853.0269414 84.069176  22.97337 0.047184493\n",
      "    2561  333778853.0339344  84.84237 22.175398 0.118843034\n",
      "     ...                ...       ...       ...         ...\n",
      "  356222  333780039.4520397  84.74482 20.894981 0.043312162\n",
      "  356223  333780039.4600492  84.11615 22.557505  0.08110082\n",
      "  356227 333780039.47105366  83.41534  21.67344   0.2096362\n",
      "  356242  333780039.5179095  83.55165 22.772985  0.17672835\n",
      "  356282 333780039.62997514  84.46133  21.69357  0.05068718\n",
      "  356473  333780040.3386479  84.45441 21.159828   0.1831569\n",
      "  356478  333780040.3548926  83.68336 23.444988  0.06305169\n",
      "  356485  333780040.3741322  84.33517  21.28338 0.060539745\n",
      "  356486  333780040.3755159  84.85886 22.116222 0.123453744\n",
      "  356526 333780040.52476007  84.86929 21.290916  0.13630114\n",
      "Length = 11189 rows\n"
     ]
    }
   ],
   "source": [
    "# Show original table\n",
    "print(table)"
   ]
  },
  {
   "cell_type": "code",
   "execution_count": 19,
   "id": "6fc6024c",
   "metadata": {
    "execution": {
     "iopub.execute_input": "2024-03-27T11:26:45.214559Z",
     "iopub.status.busy": "2024-03-27T11:26:45.214389Z",
     "iopub.status.idle": "2024-03-27T11:26:45.216994Z",
     "shell.execute_reply": "2024-03-27T11:26:45.216564Z"
    }
   },
   "outputs": [],
   "source": [
    "# Add a column for the phases to the table\n",
    "table[\"PHASE\"] = phases.astype(\"float64\")"
   ]
  },
  {
   "cell_type": "markdown",
   "id": "309cc644",
   "metadata": {},
   "source": [
    "Note that you can add multiple columns to a same file, only the name of the column has to be unique, eg `table['PHASE_SRC1']`, `table['PHASE_SRC2']` etc\""
   ]
  },
  {
   "cell_type": "code",
   "execution_count": 20,
   "id": "7f29187e",
   "metadata": {
    "execution": {
     "iopub.execute_input": "2024-03-27T11:26:45.219230Z",
     "iopub.status.busy": "2024-03-27T11:26:45.218856Z",
     "iopub.status.idle": "2024-03-27T11:26:45.225134Z",
     "shell.execute_reply": "2024-03-27T11:26:45.224604Z"
    },
    "scrolled": false
   },
   "outputs": [
    {
     "data": {
      "text/html": [
       "<div><i>Table length=11189</i>\n",
       "<table id=\"table139998816833248\" class=\"table-striped table-bordered table-condensed\">\n",
       "<thead><tr><th>EVENT_ID</th><th>TIME</th><th>RA</th><th>DEC</th><th>ENERGY</th><th>PHASE</th></tr></thead>\n",
       "<thead><tr><th></th><th>s</th><th>deg</th><th>deg</th><th>TeV</th><th></th></tr></thead>\n",
       "<thead><tr><th>int64</th><th>float64</th><th>float32</th><th>float32</th><th>float32</th><th>float64</th></tr></thead>\n",
       "<tr><td>2402</td><td>333778852.5099249</td><td>84.59457</td><td>22.03088</td><td>0.18194601</td><td>0.39349195931383935</td></tr>\n",
       "<tr><td>2408</td><td>333778852.5267153</td><td>84.21462</td><td>23.44914</td><td>0.08397394</td><td>0.8919526790064667</td></tr>\n",
       "<tr><td>2434</td><td>333778852.61315054</td><td>83.524704</td><td>22.725792</td><td>0.10596932</td><td>0.4579789031294724</td></tr>\n",
       "<tr><td>2445</td><td>333778852.6690142</td><td>83.76957</td><td>22.451006</td><td>0.19733498</td><td>0.11641860219368935</td></tr>\n",
       "<tr><td>2478</td><td>333778852.7627939</td><td>83.478516</td><td>23.484594</td><td>0.08522219</td><td>0.9004806857711186</td></tr>\n",
       "<tr><td>2481</td><td>333778852.7778549</td><td>83.71517</td><td>21.985115</td><td>1.0020943</td><td>0.3476011689926769</td></tr>\n",
       "<tr><td>2513</td><td>333778852.8644467</td><td>82.421196</td><td>22.567652</td><td>0.14374068</td><td>0.9182740999289545</td></tr>\n",
       "<tr><td>2544</td><td>333778852.9826064</td><td>83.64136</td><td>22.041315</td><td>0.10316629</td><td>0.42611249421537956</td></tr>\n",
       "<tr><td>2559</td><td>333778853.0269414</td><td>84.069176</td><td>22.97337</td><td>0.047184493</td><td>0.7422975122115125</td></tr>\n",
       "<tr><td>...</td><td>...</td><td>...</td><td>...</td><td>...</td><td>...</td></tr>\n",
       "<tr><td>356222</td><td>333780039.4520397</td><td>84.74482</td><td>20.894981</td><td>0.043312162</td><td>0.4537121484157113</td></tr>\n",
       "<tr><td>356223</td><td>333780039.4600492</td><td>84.11615</td><td>22.557505</td><td>0.08110082</td><td>0.6914920486374702</td></tr>\n",
       "<tr><td>356227</td><td>333780039.47105366</td><td>83.41534</td><td>21.67344</td><td>0.2096362</td><td>0.018183944316962984</td></tr>\n",
       "<tr><td>356242</td><td>333780039.5179095</td><td>83.55165</td><td>22.772985</td><td>0.17672835</td><td>0.40920620046641115</td></tr>\n",
       "<tr><td>356282</td><td>333780039.62997514</td><td>84.46133</td><td>21.69357</td><td>0.05068718</td><td>0.7361270955486778</td></tr>\n",
       "<tr><td>356473</td><td>333780040.3386479</td><td>84.45441</td><td>21.159828</td><td>0.1831569</td><td>0.7746789518818565</td></tr>\n",
       "<tr><td>356478</td><td>333780040.3548926</td><td>83.68336</td><td>23.444988</td><td>0.06305169</td><td>0.2569398572226654</td></tr>\n",
       "<tr><td>356485</td><td>333780040.3741322</td><td>84.33517</td><td>21.28338</td><td>0.060539745</td><td>0.8281109722104576</td></tr>\n",
       "<tr><td>356486</td><td>333780040.3755159</td><td>84.85886</td><td>22.116222</td><td>0.123453744</td><td>0.8691881135544401</td></tr>\n",
       "<tr><td>356526</td><td>333780040.52476007</td><td>84.86929</td><td>21.290916</td><td>0.13630114</td><td>0.29983901925054285</td></tr>\n",
       "</table></div>"
      ],
      "text/plain": [
       "<Table length=11189>\n",
       "EVENT_ID        TIME            RA       DEC       ENERGY          PHASE        \n",
       "                 s             deg       deg        TeV                         \n",
       " int64        float64        float32   float32    float32         float64       \n",
       "-------- ------------------ --------- --------- ----------- --------------------\n",
       "    2402  333778852.5099249  84.59457  22.03088  0.18194601  0.39349195931383935\n",
       "    2408  333778852.5267153  84.21462  23.44914  0.08397394   0.8919526790064667\n",
       "    2434 333778852.61315054 83.524704 22.725792  0.10596932   0.4579789031294724\n",
       "    2445  333778852.6690142  83.76957 22.451006  0.19733498  0.11641860219368935\n",
       "    2478  333778852.7627939 83.478516 23.484594  0.08522219   0.9004806857711186\n",
       "    2481  333778852.7778549  83.71517 21.985115   1.0020943   0.3476011689926769\n",
       "    2513  333778852.8644467 82.421196 22.567652  0.14374068   0.9182740999289545\n",
       "    2544  333778852.9826064  83.64136 22.041315  0.10316629  0.42611249421537956\n",
       "    2559  333778853.0269414 84.069176  22.97337 0.047184493   0.7422975122115125\n",
       "     ...                ...       ...       ...         ...                  ...\n",
       "  356222  333780039.4520397  84.74482 20.894981 0.043312162   0.4537121484157113\n",
       "  356223  333780039.4600492  84.11615 22.557505  0.08110082   0.6914920486374702\n",
       "  356227 333780039.47105366  83.41534  21.67344   0.2096362 0.018183944316962984\n",
       "  356242  333780039.5179095  83.55165 22.772985  0.17672835  0.40920620046641115\n",
       "  356282 333780039.62997514  84.46133  21.69357  0.05068718   0.7361270955486778\n",
       "  356473  333780040.3386479  84.45441 21.159828   0.1831569   0.7746789518818565\n",
       "  356478  333780040.3548926  83.68336 23.444988  0.06305169   0.2569398572226654\n",
       "  356485  333780040.3741322  84.33517  21.28338 0.060539745   0.8281109722104576\n",
       "  356486  333780040.3755159  84.85886 22.116222 0.123453744   0.8691881135544401\n",
       "  356526 333780040.52476007  84.86929 21.290916  0.13630114  0.29983901925054285"
      ]
     },
     "execution_count": 20,
     "metadata": {},
     "output_type": "execute_result"
    }
   ],
   "source": [
    "# Show table with phases\n",
    "table"
   ]
  },
  {
   "cell_type": "markdown",
   "id": "227ab320",
   "metadata": {},
   "source": [
    "Now we can see that the 'PHASE' column has been added to the table"
   ]
  },
  {
   "cell_type": "markdown",
   "id": "ea9ba223",
   "metadata": {},
   "source": [
    "At this point, we also want to add meta data to the table. It is very useful to keep track of what has been done to the file. For instance, if we have multiple pulsars in the same file, we want to be able to know quickly which column correspond to which pulsar. Moreover, experience shows that one often use different ephemeris file for the same pulsar. Therefore, it is very useful to have several phase columns in the same file and to be able to know which column correspond to which ephemeris file, parameters, etc.\n",
    "\n",
    "Since there is not yet a \"standard\" format for such metadata, we propose a template for the essential informations that one wants to save in the header of the event file. First, we look at the present meta info on the table."
   ]
  },
  {
   "cell_type": "code",
   "execution_count": 21,
   "id": "af220557",
   "metadata": {
    "execution": {
     "iopub.execute_input": "2024-03-27T11:26:45.227594Z",
     "iopub.status.busy": "2024-03-27T11:26:45.227257Z",
     "iopub.status.idle": "2024-03-27T11:26:45.231629Z",
     "shell.execute_reply": "2024-03-27T11:26:45.231108Z"
    },
    "scrolled": false
   },
   "outputs": [
    {
     "data": {
      "text/plain": [
       "OrderedDict([('EXTNAME', 'EVENTS'),\n",
       "             ('HDUCLASS', 'GADF'),\n",
       "             ('HDUDOC',\n",
       "              'https://github.com/open-gamma-ray-astro/gamma-astro-data-formats'),\n",
       "             ('HDUVERS', '0.2'),\n",
       "             ('HDUCLAS1', 'EVENTS'),\n",
       "             ('OBS_ID', 5029747),\n",
       "             ('TSTART', 333778852.435217),\n",
       "             ('TSTOP', 333780040.546979),\n",
       "             ('ONTIME', 1188.111761868),\n",
       "             ('LIVETIME', 1178.06621791733),\n",
       "             ('DEADC', 0.991545),\n",
       "             ('EQUINOX', 2000.0),\n",
       "             ('RADECSYS', 'FK5'),\n",
       "             ('ORIGIN', 'MAGIC Collaboration'),\n",
       "             ('TELESCOP', 'MAGIC'),\n",
       "             ('INSTRUME', 'MAGIC stereo'),\n",
       "             ('CREATOR', 'MAGIC_DL3'),\n",
       "             ('VERSION', '0.1.8'),\n",
       "             ('MJDREFI', 52706),\n",
       "             ('MJDREFF', 0.0),\n",
       "             ('TIMEUNIT', 's'),\n",
       "             ('TIMESYS', 'UTC'),\n",
       "             ('TIMEREF', 'local'),\n",
       "             ('OBJECT', 'CrabNebula'),\n",
       "             ('RA_OBJ', 83.63333),\n",
       "             ('DEC_OBJ', 22.01444),\n",
       "             ('OBS_MODE', 'POINTING'),\n",
       "             ('RA_PNT', 83.98333),\n",
       "             ('DEC_PNT', 22.24389),\n",
       "             ('GEOLON', -17.89),\n",
       "             ('GEOLAT', 28.761944),\n",
       "             ('ALTITUDE', 2231.28),\n",
       "             ('ALT_PNT', 69.69974),\n",
       "             ('AZ_PNT', 103.8848)])"
      ]
     },
     "execution_count": 21,
     "metadata": {},
     "output_type": "execute_result"
    }
   ],
   "source": [
    "table.meta"
   ]
  },
  {
   "cell_type": "code",
   "execution_count": 22,
   "id": "c2285fcd",
   "metadata": {
    "execution": {
     "iopub.execute_input": "2024-03-27T11:26:45.233745Z",
     "iopub.status.busy": "2024-03-27T11:26:45.233423Z",
     "iopub.status.idle": "2024-03-27T11:26:45.237873Z",
     "shell.execute_reply": "2024-03-27T11:26:45.237324Z"
    }
   },
   "outputs": [],
   "source": [
    "def get_log(ephemeris_file, phase_column_name=\"PHASE\"):\n",
    "    return (\n",
    "        \"COLUMN_PHASE: \"\n",
    "        + str(phase_column_name)\n",
    "        + \"; PINT_VERS: \"\n",
    "        + pint.__version__\n",
    "        + \"; GAMMAPY_VERS: \"\n",
    "        + gammapy.__version__\n",
    "        + \"; EPHEM_FILE: \"\n",
    "        + ephemeris_file\n",
    "        + \"; PSRJ :\"\n",
    "        + str(model.PSR.value)\n",
    "        + \"; START: \"\n",
    "        + str(model.START.value)\n",
    "        + \"; FINISH: \"\n",
    "        + str(model.FINISH.value)\n",
    "        + \"; TZRMJD: \"\n",
    "        + str(model.TZRMJD.value)\n",
    "        + \"; TZRSITE: \"\n",
    "        + str(model.TZRSITE.value)\n",
    "        + \"; TZRFREQ: \"\n",
    "        + str(model.TZRFRQ.value)\n",
    "        + \"; EPHEM: \"\n",
    "        + str(model.EPHEM.value)\n",
    "        + \"; EPHEM_RA: \"\n",
    "        + str(model.RAJ.value)\n",
    "        + \"; EPHEM_DEC: \"\n",
    "        + str(model.DECJ.value)\n",
    "        + \"; PHASE_OFFSET: \"\n",
    "        + \"default = 0\"\n",
    "        + \"; DATE: \"\n",
    "        + str(Time.now().mjd)\n",
    "        + \";\"\n",
    "    )"
   ]
  },
  {
   "cell_type": "code",
   "execution_count": 23,
   "id": "8c866a5c",
   "metadata": {
    "execution": {
     "iopub.execute_input": "2024-03-27T11:26:45.240180Z",
     "iopub.status.busy": "2024-03-27T11:26:45.239749Z",
     "iopub.status.idle": "2024-03-27T11:26:45.243507Z",
     "shell.execute_reply": "2024-03-27T11:26:45.242970Z"
    }
   },
   "outputs": [
    {
     "name": "stdout",
     "output_type": "stream",
     "text": [
      "COLUMN_PHASE: PHASE; PINT_VERS: 0.9.8; GAMMAPY_VERS: 1.0.2; EPHEM_FILE: ./0534+2200_ApJ_708_1254_2010.par; PSRJ :J0534+2200; START: 54686.1526259; FINISH: 56583.1591704; TZRMJD: 55638.155277599951656; TZRSITE: coe; TZRFREQ: inf; EPHEM: DE405; EPHEM_RA: 5.575538888888889; EPHEM_DEC: 22.01447222222222; PHASE_OFFSET: default = 0; DATE: 60396.4769125122;\n"
     ]
    }
   ],
   "source": [
    "phase_log = get_log(ephemeris_file=ephemeris_file, phase_column_name=\"PHASE\")\n",
    "print(phase_log)"
   ]
  },
  {
   "cell_type": "code",
   "execution_count": 24,
   "id": "5a3e56d2",
   "metadata": {
    "execution": {
     "iopub.execute_input": "2024-03-27T11:26:45.245447Z",
     "iopub.status.busy": "2024-03-27T11:26:45.245279Z",
     "iopub.status.idle": "2024-03-27T11:26:45.247890Z",
     "shell.execute_reply": "2024-03-27T11:26:45.247345Z"
    }
   },
   "outputs": [],
   "source": [
    "# Add the generated string to the meta data of the table\n",
    "table.meta[\"PH_LOG\"] = phase_log"
   ]
  },
  {
   "cell_type": "code",
   "execution_count": 25,
   "id": "f6b44e25",
   "metadata": {
    "execution": {
     "iopub.execute_input": "2024-03-27T11:26:45.250137Z",
     "iopub.status.busy": "2024-03-27T11:26:45.249693Z",
     "iopub.status.idle": "2024-03-27T11:26:45.254108Z",
     "shell.execute_reply": "2024-03-27T11:26:45.253667Z"
    }
   },
   "outputs": [
    {
     "data": {
      "text/plain": [
       "OrderedDict([('EXTNAME', 'EVENTS'),\n",
       "             ('HDUCLASS', 'GADF'),\n",
       "             ('HDUDOC',\n",
       "              'https://github.com/open-gamma-ray-astro/gamma-astro-data-formats'),\n",
       "             ('HDUVERS', '0.2'),\n",
       "             ('HDUCLAS1', 'EVENTS'),\n",
       "             ('OBS_ID', 5029747),\n",
       "             ('TSTART', 333778852.435217),\n",
       "             ('TSTOP', 333780040.546979),\n",
       "             ('ONTIME', 1188.111761868),\n",
       "             ('LIVETIME', 1178.06621791733),\n",
       "             ('DEADC', 0.991545),\n",
       "             ('EQUINOX', 2000.0),\n",
       "             ('RADECSYS', 'FK5'),\n",
       "             ('ORIGIN', 'MAGIC Collaboration'),\n",
       "             ('TELESCOP', 'MAGIC'),\n",
       "             ('INSTRUME', 'MAGIC stereo'),\n",
       "             ('CREATOR', 'MAGIC_DL3'),\n",
       "             ('VERSION', '0.1.8'),\n",
       "             ('MJDREFI', 52706),\n",
       "             ('MJDREFF', 0.0),\n",
       "             ('TIMEUNIT', 's'),\n",
       "             ('TIMESYS', 'UTC'),\n",
       "             ('TIMEREF', 'local'),\n",
       "             ('OBJECT', 'CrabNebula'),\n",
       "             ('RA_OBJ', 83.63333),\n",
       "             ('DEC_OBJ', 22.01444),\n",
       "             ('OBS_MODE', 'POINTING'),\n",
       "             ('RA_PNT', 83.98333),\n",
       "             ('DEC_PNT', 22.24389),\n",
       "             ('GEOLON', -17.89),\n",
       "             ('GEOLAT', 28.761944),\n",
       "             ('ALTITUDE', 2231.28),\n",
       "             ('ALT_PNT', 69.69974),\n",
       "             ('AZ_PNT', 103.8848),\n",
       "             ('PH_LOG',\n",
       "              'COLUMN_PHASE: PHASE; PINT_VERS: 0.9.8; GAMMAPY_VERS: 1.0.2; EPHEM_FILE: ./0534+2200_ApJ_708_1254_2010.par; PSRJ :J0534+2200; START: 54686.1526259; FINISH: 56583.1591704; TZRMJD: 55638.155277599951656; TZRSITE: coe; TZRFREQ: inf; EPHEM: DE405; EPHEM_RA: 5.575538888888889; EPHEM_DEC: 22.01447222222222; PHASE_OFFSET: default = 0; DATE: 60396.4769125122;')])"
      ]
     },
     "execution_count": 25,
     "metadata": {},
     "output_type": "execute_result"
    }
   ],
   "source": [
    "table.meta"
   ]
  },
  {
   "cell_type": "markdown",
   "id": "26592cbb",
   "metadata": {},
   "source": [
    "Once this is done, we can put back the table in a new `EventList` object and in a new `Observation` object. "
   ]
  },
  {
   "cell_type": "code",
   "execution_count": 26,
   "id": "12545bff",
   "metadata": {
    "execution": {
     "iopub.execute_input": "2024-03-27T11:26:45.256140Z",
     "iopub.status.busy": "2024-03-27T11:26:45.255965Z",
     "iopub.status.idle": "2024-03-27T11:26:45.306335Z",
     "shell.execute_reply": "2024-03-27T11:26:45.305804Z"
    }
   },
   "outputs": [
    {
     "name": "stderr",
     "output_type": "stream",
     "text": [
      "'THETA' axis is stored as a scalar -- converting to 1D array.\n",
      "'THETA' axis is stored as a scalar -- converting to 1D array.\n",
      "'THETA' axis is stored as a scalar -- converting to 1D array.\n",
      "'THETA' axis is stored as a scalar -- converting to 1D array.\n"
     ]
    }
   ],
   "source": [
    "# Create new event list and add it to observation object\n",
    "new_event_list = EventList(table)\n",
    "new_obs = observation.copy(in_memory=True, events=new_event_list)"
   ]
  },
  {
   "cell_type": "code",
   "execution_count": 27,
   "id": "1ac16c51",
   "metadata": {
    "execution": {
     "iopub.execute_input": "2024-03-27T11:26:45.308633Z",
     "iopub.status.busy": "2024-03-27T11:26:45.308216Z",
     "iopub.status.idle": "2024-03-27T11:26:45.313310Z",
     "shell.execute_reply": "2024-03-27T11:26:45.312737Z"
    }
   },
   "outputs": [
    {
     "data": {
      "text/html": [
       "<div><i>Table length=11189</i>\n",
       "<table id=\"table139998816833248\" class=\"table-striped table-bordered table-condensed\">\n",
       "<thead><tr><th>EVENT_ID</th><th>TIME</th><th>RA</th><th>DEC</th><th>ENERGY</th><th>PHASE</th></tr></thead>\n",
       "<thead><tr><th></th><th>s</th><th>deg</th><th>deg</th><th>TeV</th><th></th></tr></thead>\n",
       "<thead><tr><th>int64</th><th>float64</th><th>float32</th><th>float32</th><th>float32</th><th>float64</th></tr></thead>\n",
       "<tr><td>2402</td><td>333778852.5099249</td><td>84.59457</td><td>22.03088</td><td>0.18194601</td><td>0.39349195931383935</td></tr>\n",
       "<tr><td>2408</td><td>333778852.5267153</td><td>84.21462</td><td>23.44914</td><td>0.08397394</td><td>0.8919526790064667</td></tr>\n",
       "<tr><td>2434</td><td>333778852.61315054</td><td>83.524704</td><td>22.725792</td><td>0.10596932</td><td>0.4579789031294724</td></tr>\n",
       "<tr><td>2445</td><td>333778852.6690142</td><td>83.76957</td><td>22.451006</td><td>0.19733498</td><td>0.11641860219368935</td></tr>\n",
       "<tr><td>2478</td><td>333778852.7627939</td><td>83.478516</td><td>23.484594</td><td>0.08522219</td><td>0.9004806857711186</td></tr>\n",
       "<tr><td>2481</td><td>333778852.7778549</td><td>83.71517</td><td>21.985115</td><td>1.0020943</td><td>0.3476011689926769</td></tr>\n",
       "<tr><td>2513</td><td>333778852.8644467</td><td>82.421196</td><td>22.567652</td><td>0.14374068</td><td>0.9182740999289545</td></tr>\n",
       "<tr><td>2544</td><td>333778852.9826064</td><td>83.64136</td><td>22.041315</td><td>0.10316629</td><td>0.42611249421537956</td></tr>\n",
       "<tr><td>2559</td><td>333778853.0269414</td><td>84.069176</td><td>22.97337</td><td>0.047184493</td><td>0.7422975122115125</td></tr>\n",
       "<tr><td>...</td><td>...</td><td>...</td><td>...</td><td>...</td><td>...</td></tr>\n",
       "<tr><td>356222</td><td>333780039.4520397</td><td>84.74482</td><td>20.894981</td><td>0.043312162</td><td>0.4537121484157113</td></tr>\n",
       "<tr><td>356223</td><td>333780039.4600492</td><td>84.11615</td><td>22.557505</td><td>0.08110082</td><td>0.6914920486374702</td></tr>\n",
       "<tr><td>356227</td><td>333780039.47105366</td><td>83.41534</td><td>21.67344</td><td>0.2096362</td><td>0.018183944316962984</td></tr>\n",
       "<tr><td>356242</td><td>333780039.5179095</td><td>83.55165</td><td>22.772985</td><td>0.17672835</td><td>0.40920620046641115</td></tr>\n",
       "<tr><td>356282</td><td>333780039.62997514</td><td>84.46133</td><td>21.69357</td><td>0.05068718</td><td>0.7361270955486778</td></tr>\n",
       "<tr><td>356473</td><td>333780040.3386479</td><td>84.45441</td><td>21.159828</td><td>0.1831569</td><td>0.7746789518818565</td></tr>\n",
       "<tr><td>356478</td><td>333780040.3548926</td><td>83.68336</td><td>23.444988</td><td>0.06305169</td><td>0.2569398572226654</td></tr>\n",
       "<tr><td>356485</td><td>333780040.3741322</td><td>84.33517</td><td>21.28338</td><td>0.060539745</td><td>0.8281109722104576</td></tr>\n",
       "<tr><td>356486</td><td>333780040.3755159</td><td>84.85886</td><td>22.116222</td><td>0.123453744</td><td>0.8691881135544401</td></tr>\n",
       "<tr><td>356526</td><td>333780040.52476007</td><td>84.86929</td><td>21.290916</td><td>0.13630114</td><td>0.29983901925054285</td></tr>\n",
       "</table></div>"
      ],
      "text/plain": [
       "<Table length=11189>\n",
       "EVENT_ID        TIME            RA       DEC       ENERGY          PHASE        \n",
       "                 s             deg       deg        TeV                         \n",
       " int64        float64        float32   float32    float32         float64       \n",
       "-------- ------------------ --------- --------- ----------- --------------------\n",
       "    2402  333778852.5099249  84.59457  22.03088  0.18194601  0.39349195931383935\n",
       "    2408  333778852.5267153  84.21462  23.44914  0.08397394   0.8919526790064667\n",
       "    2434 333778852.61315054 83.524704 22.725792  0.10596932   0.4579789031294724\n",
       "    2445  333778852.6690142  83.76957 22.451006  0.19733498  0.11641860219368935\n",
       "    2478  333778852.7627939 83.478516 23.484594  0.08522219   0.9004806857711186\n",
       "    2481  333778852.7778549  83.71517 21.985115   1.0020943   0.3476011689926769\n",
       "    2513  333778852.8644467 82.421196 22.567652  0.14374068   0.9182740999289545\n",
       "    2544  333778852.9826064  83.64136 22.041315  0.10316629  0.42611249421537956\n",
       "    2559  333778853.0269414 84.069176  22.97337 0.047184493   0.7422975122115125\n",
       "     ...                ...       ...       ...         ...                  ...\n",
       "  356222  333780039.4520397  84.74482 20.894981 0.043312162   0.4537121484157113\n",
       "  356223  333780039.4600492  84.11615 22.557505  0.08110082   0.6914920486374702\n",
       "  356227 333780039.47105366  83.41534  21.67344   0.2096362 0.018183944316962984\n",
       "  356242  333780039.5179095  83.55165 22.772985  0.17672835  0.40920620046641115\n",
       "  356282 333780039.62997514  84.46133  21.69357  0.05068718   0.7361270955486778\n",
       "  356473  333780040.3386479  84.45441 21.159828   0.1831569   0.7746789518818565\n",
       "  356478  333780040.3548926  83.68336 23.444988  0.06305169   0.2569398572226654\n",
       "  356485  333780040.3741322  84.33517  21.28338 0.060539745   0.8281109722104576\n",
       "  356486  333780040.3755159  84.85886 22.116222 0.123453744   0.8691881135544401\n",
       "  356526 333780040.52476007  84.86929 21.290916  0.13630114  0.29983901925054285"
      ]
     },
     "execution_count": 27,
     "metadata": {},
     "output_type": "execute_result"
    }
   ],
   "source": [
    "new_obs.events.table"
   ]
  },
  {
   "cell_type": "markdown",
   "id": "934d147a",
   "metadata": {},
   "source": [
    "## 4. Save new Event List and writing a modify HDU index table"
   ]
  },
  {
   "cell_type": "markdown",
   "id": "e369d2dc",
   "metadata": {},
   "source": [
    "In the following, we show how to write the files in a directory contained in the original datastore directory. This follows the logic of DL3 data store and facilitate the manipulation of the HDU table.\n",
    "\n",
    "If one does not want to save the events files and directly perform the pulsar analysis, this step is not required as well as the step of the meta data handling. However, be aware that for large dataset, the computation of phases can take tens of minutes. "
   ]
  },
  {
   "cell_type": "code",
   "execution_count": 28,
   "id": "f3c8410c",
   "metadata": {
    "execution": {
     "iopub.execute_input": "2024-03-27T11:26:45.315528Z",
     "iopub.status.busy": "2024-03-27T11:26:45.315188Z",
     "iopub.status.idle": "2024-03-27T11:26:45.318777Z",
     "shell.execute_reply": "2024-03-27T11:26:45.318308Z"
    }
   },
   "outputs": [
    {
     "data": {
      "text/plain": [
       "PosixPath('/home/runner/work/gammapy-recipes/gammapy-recipes/gammapy-datasets/1.0.2/magic/rad_max/data')"
      ]
     },
     "execution_count": 28,
     "metadata": {},
     "output_type": "execute_result"
    }
   ],
   "source": [
    "data_store.hdu_table.base_dir"
   ]
  },
  {
   "cell_type": "code",
   "execution_count": 29,
   "id": "8fd2ce31",
   "metadata": {
    "execution": {
     "iopub.execute_input": "2024-03-27T11:26:45.320738Z",
     "iopub.status.busy": "2024-03-27T11:26:45.320560Z",
     "iopub.status.idle": "2024-03-27T11:26:45.323746Z",
     "shell.execute_reply": "2024-03-27T11:26:45.323305Z"
    }
   },
   "outputs": [],
   "source": [
    "# Define output directory and filename\n",
    "datastore_dir = str(data_store.hdu_table.base_dir) + \"/\"\n",
    "output_directory = \"pulsar_events_file/\"\n",
    "output_path = datastore_dir + output_directory\n",
    "filename = f\"dl3_pulsar_{observation.obs_id:04d}.fits.gz\"\n",
    "file_path = output_path + filename\n",
    "\n",
    "Path(output_path).mkdir(parents=True, exist_ok=True)"
   ]
  },
  {
   "cell_type": "code",
   "execution_count": 30,
   "id": "e6e38fc1",
   "metadata": {
    "execution": {
     "iopub.execute_input": "2024-03-27T11:26:45.325950Z",
     "iopub.status.busy": "2024-03-27T11:26:45.325616Z",
     "iopub.status.idle": "2024-03-27T11:26:45.329021Z",
     "shell.execute_reply": "2024-03-27T11:26:45.328467Z"
    }
   },
   "outputs": [
    {
     "data": {
      "text/plain": [
       "'/home/runner/work/gammapy-recipes/gammapy-recipes/gammapy-datasets/1.0.2/magic/rad_max/data/pulsar_events_file/'"
      ]
     },
     "execution_count": 30,
     "metadata": {},
     "output_type": "execute_result"
    }
   ],
   "source": [
    "output_path"
   ]
  },
  {
   "cell_type": "code",
   "execution_count": 31,
   "id": "f339c797",
   "metadata": {
    "execution": {
     "iopub.execute_input": "2024-03-27T11:26:45.331194Z",
     "iopub.status.busy": "2024-03-27T11:26:45.330781Z",
     "iopub.status.idle": "2024-03-27T11:26:45.489597Z",
     "shell.execute_reply": "2024-03-27T11:26:45.488969Z"
    },
    "scrolled": true
   },
   "outputs": [
    {
     "name": "stdout",
     "output_type": "stream",
     "text": [
      "Writing outputfile in /home/runner/work/gammapy-recipes/gammapy-recipes/gammapy-datasets/1.0.2/magic/rad_max/data/pulsar_events_file/dl3_pulsar_5029747.fits.gz\n"
     ]
    }
   ],
   "source": [
    "# Save the observation object in the specified file_path\n",
    "print(\"Writing outputfile in \" + str(file_path))\n",
    "observation.events.write(\n",
    "    filename=file_path, gti=observation.gti, overwrite=True\n",
    ")"
   ]
  },
  {
   "cell_type": "markdown",
   "id": "7250c1af",
   "metadata": {},
   "source": [
    "Once the file has been written, we want to write a modified version of the HDU table. This is mandatory if we want to open the phased events file together with its associated IRFs. "
   ]
  },
  {
   "cell_type": "code",
   "execution_count": 32,
   "id": "4b8dd431",
   "metadata": {
    "execution": {
     "iopub.execute_input": "2024-03-27T11:26:45.492294Z",
     "iopub.status.busy": "2024-03-27T11:26:45.491941Z",
     "iopub.status.idle": "2024-03-27T11:26:45.497464Z",
     "shell.execute_reply": "2024-03-27T11:26:45.496931Z"
    }
   },
   "outputs": [
    {
     "data": {
      "text/html": [
       "<div><i>HDUIndexTable length=10</i>\n",
       "<table id=\"table139998795982544\" class=\"table-striped table-bordered table-condensed\">\n",
       "<thead><tr><th>OBS_ID</th><th>HDU_TYPE</th><th>HDU_CLASS</th><th>FILE_DIR</th><th>FILE_NAME</th><th>HDU_NAME</th></tr></thead>\n",
       "<thead><tr><th>int64</th><th>bytes30</th><th>bytes30</th><th>bytes100</th><th>bytes50</th><th>bytes30</th></tr></thead>\n",
       "<tr><td>5029748</td><td>events</td><td>events</td><td>./</td><td>20131004_05029748_DL3_CrabNebula-W0.40+215.fits</td><td>EVENTS</td></tr>\n",
       "<tr><td>5029748</td><td>gti</td><td>gti</td><td>./</td><td>20131004_05029748_DL3_CrabNebula-W0.40+215.fits</td><td>GTI</td></tr>\n",
       "<tr><td>5029748</td><td>rad_max</td><td>rad_max_2d</td><td>./</td><td>20131004_05029748_DL3_CrabNebula-W0.40+215.fits</td><td>RAD_MAX</td></tr>\n",
       "<tr><td>5029748</td><td>aeff</td><td>aeff_2d</td><td>./</td><td>20131004_05029748_DL3_CrabNebula-W0.40+215.fits</td><td>EFFECTIVE AREA</td></tr>\n",
       "<tr><td>5029748</td><td>edisp</td><td>edisp_2d</td><td>./</td><td>20131004_05029748_DL3_CrabNebula-W0.40+215.fits</td><td>ENERGY DISPERSION</td></tr>\n",
       "<tr><td>5029747</td><td>events</td><td>events</td><td>./</td><td>20131004_05029747_DL3_CrabNebula-W0.40+035.fits</td><td>EVENTS</td></tr>\n",
       "<tr><td>5029747</td><td>gti</td><td>gti</td><td>./</td><td>20131004_05029747_DL3_CrabNebula-W0.40+035.fits</td><td>GTI</td></tr>\n",
       "<tr><td>5029747</td><td>rad_max</td><td>rad_max_2d</td><td>./</td><td>20131004_05029747_DL3_CrabNebula-W0.40+035.fits</td><td>RAD_MAX</td></tr>\n",
       "<tr><td>5029747</td><td>aeff</td><td>aeff_2d</td><td>./</td><td>20131004_05029747_DL3_CrabNebula-W0.40+035.fits</td><td>EFFECTIVE AREA</td></tr>\n",
       "<tr><td>5029747</td><td>edisp</td><td>edisp_2d</td><td>./</td><td>20131004_05029747_DL3_CrabNebula-W0.40+035.fits</td><td>ENERGY DISPERSION</td></tr>\n",
       "</table></div>"
      ],
      "text/plain": [
       "<HDUIndexTable length=10>\n",
       " OBS_ID HDU_TYPE ...      HDU_NAME    \n",
       " int64  bytes30  ...      bytes30     \n",
       "------- -------- ... -----------------\n",
       "5029748   events ...            EVENTS\n",
       "5029748      gti ...               GTI\n",
       "5029748  rad_max ...           RAD_MAX\n",
       "5029748     aeff ...    EFFECTIVE AREA\n",
       "5029748    edisp ... ENERGY DISPERSION\n",
       "5029747   events ...            EVENTS\n",
       "5029747      gti ...               GTI\n",
       "5029747  rad_max ...           RAD_MAX\n",
       "5029747     aeff ...    EFFECTIVE AREA\n",
       "5029747    edisp ... ENERGY DISPERSION"
      ]
     },
     "execution_count": 32,
     "metadata": {},
     "output_type": "execute_result"
    }
   ],
   "source": [
    "# Print the current data store HDU table.\n",
    "new_hdu = data_store.hdu_table.copy()\n",
    "new_hdu"
   ]
  },
  {
   "cell_type": "code",
   "execution_count": 33,
   "id": "6f37e101",
   "metadata": {
    "execution": {
     "iopub.execute_input": "2024-03-27T11:26:45.499587Z",
     "iopub.status.busy": "2024-03-27T11:26:45.499179Z",
     "iopub.status.idle": "2024-03-27T11:26:45.502364Z",
     "shell.execute_reply": "2024-03-27T11:26:45.501887Z"
    }
   },
   "outputs": [],
   "source": [
    "for entry in new_hdu:\n",
    "    if entry[\"HDU_NAME\"] == \"EVENTS\" and entry[\"OBS_ID\"] == observation.obs_id:\n",
    "        entry[\"FILE_DIR\"] = \"./\" + str(output_directory)\n",
    "        entry[\"FILE_NAME\"] = filename"
   ]
  },
  {
   "cell_type": "code",
   "execution_count": 34,
   "id": "d89a7739",
   "metadata": {
    "execution": {
     "iopub.execute_input": "2024-03-27T11:26:45.504469Z",
     "iopub.status.busy": "2024-03-27T11:26:45.504078Z",
     "iopub.status.idle": "2024-03-27T11:26:45.508565Z",
     "shell.execute_reply": "2024-03-27T11:26:45.507988Z"
    }
   },
   "outputs": [
    {
     "data": {
      "text/html": [
       "<div><i>HDUIndexTable length=10</i>\n",
       "<table id=\"table139998795982544\" class=\"table-striped table-bordered table-condensed\">\n",
       "<thead><tr><th>OBS_ID</th><th>HDU_TYPE</th><th>HDU_CLASS</th><th>FILE_DIR</th><th>FILE_NAME</th><th>HDU_NAME</th></tr></thead>\n",
       "<thead><tr><th>int64</th><th>bytes30</th><th>bytes30</th><th>bytes100</th><th>bytes50</th><th>bytes30</th></tr></thead>\n",
       "<tr><td>5029748</td><td>events</td><td>events</td><td>./</td><td>20131004_05029748_DL3_CrabNebula-W0.40+215.fits</td><td>EVENTS</td></tr>\n",
       "<tr><td>5029748</td><td>gti</td><td>gti</td><td>./</td><td>20131004_05029748_DL3_CrabNebula-W0.40+215.fits</td><td>GTI</td></tr>\n",
       "<tr><td>5029748</td><td>rad_max</td><td>rad_max_2d</td><td>./</td><td>20131004_05029748_DL3_CrabNebula-W0.40+215.fits</td><td>RAD_MAX</td></tr>\n",
       "<tr><td>5029748</td><td>aeff</td><td>aeff_2d</td><td>./</td><td>20131004_05029748_DL3_CrabNebula-W0.40+215.fits</td><td>EFFECTIVE AREA</td></tr>\n",
       "<tr><td>5029748</td><td>edisp</td><td>edisp_2d</td><td>./</td><td>20131004_05029748_DL3_CrabNebula-W0.40+215.fits</td><td>ENERGY DISPERSION</td></tr>\n",
       "<tr><td>5029747</td><td>events</td><td>events</td><td>./pulsar_events_file/</td><td>dl3_pulsar_5029747.fits.gz</td><td>EVENTS</td></tr>\n",
       "<tr><td>5029747</td><td>gti</td><td>gti</td><td>./</td><td>20131004_05029747_DL3_CrabNebula-W0.40+035.fits</td><td>GTI</td></tr>\n",
       "<tr><td>5029747</td><td>rad_max</td><td>rad_max_2d</td><td>./</td><td>20131004_05029747_DL3_CrabNebula-W0.40+035.fits</td><td>RAD_MAX</td></tr>\n",
       "<tr><td>5029747</td><td>aeff</td><td>aeff_2d</td><td>./</td><td>20131004_05029747_DL3_CrabNebula-W0.40+035.fits</td><td>EFFECTIVE AREA</td></tr>\n",
       "<tr><td>5029747</td><td>edisp</td><td>edisp_2d</td><td>./</td><td>20131004_05029747_DL3_CrabNebula-W0.40+035.fits</td><td>ENERGY DISPERSION</td></tr>\n",
       "</table></div>"
      ],
      "text/plain": [
       "<HDUIndexTable length=10>\n",
       " OBS_ID HDU_TYPE ...      HDU_NAME    \n",
       " int64  bytes30  ...      bytes30     \n",
       "------- -------- ... -----------------\n",
       "5029748   events ...            EVENTS\n",
       "5029748      gti ...               GTI\n",
       "5029748  rad_max ...           RAD_MAX\n",
       "5029748     aeff ...    EFFECTIVE AREA\n",
       "5029748    edisp ... ENERGY DISPERSION\n",
       "5029747   events ...            EVENTS\n",
       "5029747      gti ...               GTI\n",
       "5029747  rad_max ...           RAD_MAX\n",
       "5029747     aeff ...    EFFECTIVE AREA\n",
       "5029747    edisp ... ENERGY DISPERSION"
      ]
     },
     "execution_count": 34,
     "metadata": {},
     "output_type": "execute_result"
    }
   ],
   "source": [
    "new_hdu"
   ]
  },
  {
   "cell_type": "markdown",
   "id": "19453d2d",
   "metadata": {},
   "source": [
    "We see that the `FILE_DIR`and `FILE_NAME`entry have been modified for our phased events file."
   ]
  },
  {
   "cell_type": "markdown",
   "id": "e08bf493",
   "metadata": {},
   "source": [
    "Finally, we need to save the new HDU table in the origianl DL3 directory. Here one should be very careful to not name the new HDU file with the same name as the original HDU file of the data store. Otherwise, the original HDU file will be overwrited. "
   ]
  },
  {
   "cell_type": "code",
   "execution_count": 35,
   "id": "b1633cd5",
   "metadata": {
    "execution": {
     "iopub.execute_input": "2024-03-27T11:26:45.510689Z",
     "iopub.status.busy": "2024-03-27T11:26:45.510412Z",
     "iopub.status.idle": "2024-03-27T11:26:45.521520Z",
     "shell.execute_reply": "2024-03-27T11:26:45.520994Z"
    }
   },
   "outputs": [],
   "source": [
    "new_hdu.write(\n",
    "    datastore_dir + \"hdu-index-pulsar.fits.gz\", format=\"fits\", overwrite=True\n",
    ")"
   ]
  },
  {
   "cell_type": "markdown",
   "id": "e92cf68c",
   "metadata": {},
   "source": [
    "**Note: Here we use only one approach that could be useful, showing the steps to save the new Event files in a random directory and generate a new modified HDU index table. However, the user is free to chose the absolute path of the EventList and DataStore.  For instance, another approach could be making a full copy of the DataStore, or changing the location of the pulsar event files to one that could be more convinient for the user.**"
   ]
  },
  {
   "cell_type": "markdown",
   "id": "6dfca2b8",
   "metadata": {},
   "source": [
    "## 5. Opening the new DataStore"
   ]
  },
  {
   "cell_type": "markdown",
   "id": "e1036448",
   "metadata": {},
   "source": [
    "Once all of this is done, we just have to open the data store using `DataStore.from_dir()`and passing the pulsar HDU table to it :"
   ]
  },
  {
   "cell_type": "code",
   "execution_count": 36,
   "id": "88a0e9c1",
   "metadata": {
    "execution": {
     "iopub.execute_input": "2024-03-27T11:26:45.523852Z",
     "iopub.status.busy": "2024-03-27T11:26:45.523517Z",
     "iopub.status.idle": "2024-03-27T11:26:45.537115Z",
     "shell.execute_reply": "2024-03-27T11:26:45.536595Z"
    }
   },
   "outputs": [],
   "source": [
    "pulsar_datastore = DataStore.from_dir(\n",
    "    DL3_direc, hdu_table_filename=\"hdu-index-pulsar.fits.gz\"\n",
    ")"
   ]
  },
  {
   "cell_type": "code",
   "execution_count": 37,
   "id": "f7c60c18",
   "metadata": {
    "execution": {
     "iopub.execute_input": "2024-03-27T11:26:45.539197Z",
     "iopub.status.busy": "2024-03-27T11:26:45.538882Z",
     "iopub.status.idle": "2024-03-27T11:26:45.543864Z",
     "shell.execute_reply": "2024-03-27T11:26:45.543346Z"
    }
   },
   "outputs": [
    {
     "data": {
      "text/plain": [
       "['events', 'gti', 'aeff', 'edisp', 'rad_max']"
      ]
     },
     "execution_count": 37,
     "metadata": {},
     "output_type": "execute_result"
    }
   ],
   "source": [
    "observations = pulsar_datastore.get_observations(\n",
    "    [5029747], required_irf=\"point-like\"\n",
    ")\n",
    "observations[0].available_hdus"
   ]
  },
  {
   "cell_type": "code",
   "execution_count": 38,
   "id": "4ae8ebd2",
   "metadata": {
    "execution": {
     "iopub.execute_input": "2024-03-27T11:26:45.545837Z",
     "iopub.status.busy": "2024-03-27T11:26:45.545678Z",
     "iopub.status.idle": "2024-03-27T11:26:45.559836Z",
     "shell.execute_reply": "2024-03-27T11:26:45.559308Z"
    }
   },
   "outputs": [
    {
     "data": {
      "text/html": [
       "<div><i>Table length=11189</i>\n",
       "<table id=\"table139998816833104\" class=\"table-striped table-bordered table-condensed\">\n",
       "<thead><tr><th>EVENT_ID</th><th>TIME</th><th>RA</th><th>DEC</th><th>ENERGY</th></tr></thead>\n",
       "<thead><tr><th></th><th>s</th><th>deg</th><th>deg</th><th>TeV</th></tr></thead>\n",
       "<thead><tr><th>int64</th><th>float64</th><th>float32</th><th>float32</th><th>float32</th></tr></thead>\n",
       "<tr><td>2402</td><td>333778852.5099249</td><td>84.59457</td><td>22.03088</td><td>0.18194601</td></tr>\n",
       "<tr><td>2408</td><td>333778852.5267153</td><td>84.21462</td><td>23.44914</td><td>0.08397394</td></tr>\n",
       "<tr><td>2434</td><td>333778852.61315054</td><td>83.524704</td><td>22.725792</td><td>0.10596932</td></tr>\n",
       "<tr><td>2445</td><td>333778852.6690142</td><td>83.76957</td><td>22.451006</td><td>0.19733498</td></tr>\n",
       "<tr><td>2478</td><td>333778852.7627939</td><td>83.478516</td><td>23.484594</td><td>0.08522219</td></tr>\n",
       "<tr><td>2481</td><td>333778852.7778549</td><td>83.71517</td><td>21.985115</td><td>1.0020943</td></tr>\n",
       "<tr><td>2513</td><td>333778852.8644467</td><td>82.421196</td><td>22.567652</td><td>0.14374068</td></tr>\n",
       "<tr><td>2544</td><td>333778852.9826064</td><td>83.64136</td><td>22.041315</td><td>0.10316629</td></tr>\n",
       "<tr><td>2559</td><td>333778853.0269414</td><td>84.069176</td><td>22.97337</td><td>0.047184493</td></tr>\n",
       "<tr><td>...</td><td>...</td><td>...</td><td>...</td><td>...</td></tr>\n",
       "<tr><td>356222</td><td>333780039.4520397</td><td>84.74482</td><td>20.894981</td><td>0.043312162</td></tr>\n",
       "<tr><td>356223</td><td>333780039.4600492</td><td>84.11615</td><td>22.557505</td><td>0.08110082</td></tr>\n",
       "<tr><td>356227</td><td>333780039.47105366</td><td>83.41534</td><td>21.67344</td><td>0.2096362</td></tr>\n",
       "<tr><td>356242</td><td>333780039.5179095</td><td>83.55165</td><td>22.772985</td><td>0.17672835</td></tr>\n",
       "<tr><td>356282</td><td>333780039.62997514</td><td>84.46133</td><td>21.69357</td><td>0.05068718</td></tr>\n",
       "<tr><td>356473</td><td>333780040.3386479</td><td>84.45441</td><td>21.159828</td><td>0.1831569</td></tr>\n",
       "<tr><td>356478</td><td>333780040.3548926</td><td>83.68336</td><td>23.444988</td><td>0.06305169</td></tr>\n",
       "<tr><td>356485</td><td>333780040.3741322</td><td>84.33517</td><td>21.28338</td><td>0.060539745</td></tr>\n",
       "<tr><td>356486</td><td>333780040.3755159</td><td>84.85886</td><td>22.116222</td><td>0.123453744</td></tr>\n",
       "<tr><td>356526</td><td>333780040.52476007</td><td>84.86929</td><td>21.290916</td><td>0.13630114</td></tr>\n",
       "</table></div>"
      ],
      "text/plain": [
       "<Table length=11189>\n",
       "EVENT_ID        TIME            RA       DEC       ENERGY  \n",
       "                 s             deg       deg        TeV    \n",
       " int64        float64        float32   float32    float32  \n",
       "-------- ------------------ --------- --------- -----------\n",
       "    2402  333778852.5099249  84.59457  22.03088  0.18194601\n",
       "    2408  333778852.5267153  84.21462  23.44914  0.08397394\n",
       "    2434 333778852.61315054 83.524704 22.725792  0.10596932\n",
       "    2445  333778852.6690142  83.76957 22.451006  0.19733498\n",
       "    2478  333778852.7627939 83.478516 23.484594  0.08522219\n",
       "    2481  333778852.7778549  83.71517 21.985115   1.0020943\n",
       "    2513  333778852.8644467 82.421196 22.567652  0.14374068\n",
       "    2544  333778852.9826064  83.64136 22.041315  0.10316629\n",
       "    2559  333778853.0269414 84.069176  22.97337 0.047184493\n",
       "     ...                ...       ...       ...         ...\n",
       "  356222  333780039.4520397  84.74482 20.894981 0.043312162\n",
       "  356223  333780039.4600492  84.11615 22.557505  0.08110082\n",
       "  356227 333780039.47105366  83.41534  21.67344   0.2096362\n",
       "  356242  333780039.5179095  83.55165 22.772985  0.17672835\n",
       "  356282 333780039.62997514  84.46133  21.69357  0.05068718\n",
       "  356473  333780040.3386479  84.45441 21.159828   0.1831569\n",
       "  356478  333780040.3548926  83.68336 23.444988  0.06305169\n",
       "  356485  333780040.3741322  84.33517  21.28338 0.060539745\n",
       "  356486  333780040.3755159  84.85886 22.116222 0.123453744\n",
       "  356526 333780040.52476007  84.86929 21.290916  0.13630114"
      ]
     },
     "execution_count": 38,
     "metadata": {},
     "output_type": "execute_result"
    }
   ],
   "source": [
    "observations[0].events.table"
   ]
  },
  {
   "cell_type": "markdown",
   "id": "d37ae9b2",
   "metadata": {},
   "source": [
    "We can see that we recover both the IRFs and the events file with the phase column."
   ]
  },
  {
   "cell_type": "markdown",
   "id": "972ba493",
   "metadata": {},
   "source": [
    "## 6. Pulsar analysis tools with gammapy"
   ]
  },
  {
   "cell_type": "markdown",
   "id": "1fe89d60",
   "metadata": {},
   "source": [
    "Once we have the corret DataStore and the modified EventList with the phase information, we can do the pulsar analysis using different tools for Gammapy to compute the phaseogram, maps, SED, lightcurve, etc... To do so, one can check the following [Gammapy tutorial](https://docs.gammapy.org/1.0/tutorials/analysis-time/pulsar_analysis.html#sphx-glr-tutorials-analysis-time-pulsar-analysis-py)."
   ]
  },
  {
   "cell_type": "markdown",
   "id": "3d495311",
   "metadata": {},
   "source": [
    "\n",
    "Recipe made by [Alvaros Mas](https://github.com/alvmas), [Maxime Regeard](https://github.com/MRegeard), [Jan Lukas Schubert](https://github.com/jalu98)."
   ]
  }
 ],
 "metadata": {
  "kernelspec": {
   "display_name": "Python 3 (ipykernel)",
   "language": "python",
   "name": "python3"
  },
  "language_info": {
   "codemirror_mode": {
    "name": "ipython",
    "version": 3
   },
   "file_extension": ".py",
   "mimetype": "text/x-python",
   "name": "python",
   "nbconvert_exporter": "python",
   "pygments_lexer": "ipython3",
   "version": "3.9.19"
  }
 },
 "nbformat": 4,
 "nbformat_minor": 5
}
