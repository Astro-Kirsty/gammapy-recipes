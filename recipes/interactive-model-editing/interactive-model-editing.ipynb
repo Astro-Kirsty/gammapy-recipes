{
 "cells": [
  {
   "cell_type": "markdown",
   "metadata": {},
   "source": [
    "## Recipe to show the interactively edit the Sky model on the notebook  \n",
    "\n",
    "Example showing how to transform the gammapy model to a pandas dataframe, a widely used tabular format and modifying the parameters interactively on the notebook.  \n",
    "Plain text models in the XML or yaml format can not be sorted or filtered. Here we propose to use `qgrid` to explore and edit the Model.  \n",
    "\n",
    "\n",
    "*Qgrid is a Jupyter notebook widget which uses SlickGrid to render pandas DataFrames within a Jupyter notebook. This allows you to explore your DataFrames with intuitive scrolling, sorting, and filtering controls, as well as edit your DataFrames by double clicking cells.* [Github](https://github.com/quantopian/qgrid)  \n",
    "\n",
    "\n",
    "See GIF movie demo [here](https://github.com/quantopian/qgrid/blob/master/docs/images/filtering_demo.gif).\n",
    "\n",
    "Qgrid can be installed via conda:  \n",
    "`conda install -c conda-forge qgrid`  \n",
    "Works using Jupyter notebook.\n",
    "Currently doesn't work using Jupyter Lab 3.0.  \n",
    "\n",
    "There are alternatives to qgrid like [ipysheet](https://github.com/QuantStack/ipysheet) or [ipyaggrid](https://dgothrek.gitlab.io/ipyaggrid)."
   ]
  },
  {
   "cell_type": "code",
   "execution_count": 1,
   "metadata": {},
   "outputs": [
    {
     "data": {
      "application/vnd.jupyter.widget-view+json": {
       "model_id": "c706501e8cfa45a3bcccf618eb238601",
       "version_major": 2,
       "version_minor": 0
      },
      "text/plain": [
       "QgridWidget(grid_options={'fullWidthRows': True, 'syncColumnCellResize': True, 'forceFitColumns': True, 'defau…"
      ]
     },
     "metadata": {},
     "output_type": "display_data"
    }
   ],
   "source": [
    "from gammapy.modeling.models import Models\n",
    "from astropy.table import Table\n",
    "\n",
    "#read gammapy models\n",
    "models = Models.read(\"$GAMMAPY_DATA/tests/models/gc_example_models.yaml\")\n",
    "df= models.to_parameters_table().to_pandas()\n",
    "\n",
    "import qgrid \n",
    "qgrid_widget=qgrid.show_grid(df,grid_options={'maxVisibleRows': 10})\n",
    "qgrid_widget\n",
    "#You can sort, filter, freeze/thaw parameters\n",
    "#e.g show all spectral indices, only parameters of a given source, only the spatial parameters, etc\n",
    "#all changes values are recorded and will need to be loaded in the gammapy model in a separated cell."
   ]
  },
  {
   "cell_type": "markdown",
   "metadata": {},
   "source": [
    "### Load the changed parameters and verify that the model has been updated "
   ]
  },
  {
   "cell_type": "code",
   "execution_count": 2,
   "metadata": {},
   "outputs": [
    {
     "data": {
      "text/html": [
       "<i>Table length=23</i>\n",
       "<table id=\"table5005115520\" class=\"table-striped table-bordered table-condensed\">\n",
       "<thead><tr><th>model</th><th>type</th><th>name</th><th>value</th><th>unit</th><th>min</th><th>max</th><th>frozen</th><th>error</th></tr></thead>\n",
       "<thead><tr><th>str18</th><th>str8</th><th>str9</th><th>float64</th><th>str14</th><th>float64</th><th>float64</th><th>bool</th><th>int64</th></tr></thead>\n",
       "<tr><td>gc</td><td>spectral</td><td>index</td><td>2.0000e+00</td><td></td><td>nan</td><td>nan</td><td>False</td><td>0.000e+00</td></tr>\n",
       "<tr><td>gc</td><td>spectral</td><td>amplitude</td><td>3.0000e-12</td><td>cm-2 s-1 TeV-1</td><td>nan</td><td>nan</td><td>False</td><td>0.000e+00</td></tr>\n",
       "<tr><td>gc</td><td>spectral</td><td>reference</td><td>1.0000e+00</td><td>TeV</td><td>nan</td><td>nan</td><td>True</td><td>0.000e+00</td></tr>\n",
       "<tr><td>gc</td><td>spectral</td><td>lambda_</td><td>1.0000e-01</td><td>TeV-1</td><td>nan</td><td>nan</td><td>False</td><td>0.000e+00</td></tr>\n",
       "<tr><td>gc</td><td>spectral</td><td>alpha</td><td>1.0000e+00</td><td></td><td>nan</td><td>nan</td><td>True</td><td>0.000e+00</td></tr>\n",
       "<tr><td>gc</td><td>spatial</td><td>lon_0</td><td>0.0000e+00</td><td>deg</td><td>nan</td><td>nan</td><td>False</td><td>0.000e+00</td></tr>\n",
       "<tr><td>gc</td><td>spatial</td><td>lat_0</td><td>0.0000e+00</td><td>deg</td><td>-9.000e+01</td><td>9.000e+01</td><td>False</td><td>0.000e+00</td></tr>\n",
       "<tr><td>gll_iem_v06_cutout</td><td>spectral</td><td>norm</td><td>1.0000e+00</td><td></td><td>nan</td><td>nan</td><td>False</td><td>0.000e+00</td></tr>\n",
       "<tr><td>gll_iem_v06_cutout</td><td>spectral</td><td>tilt</td><td>0.0000e+00</td><td></td><td>nan</td><td>nan</td><td>True</td><td>0.000e+00</td></tr>\n",
       "<tr><td>gll_iem_v06_cutout</td><td>spectral</td><td>reference</td><td>1.0000e+00</td><td>TeV</td><td>nan</td><td>nan</td><td>True</td><td>0.000e+00</td></tr>\n",
       "<tr><td>...</td><td>...</td><td>...</td><td>...</td><td>...</td><td>...</td><td>...</td><td>...</td><td>...</td></tr>\n",
       "<tr><td>g09</td><td>spectral</td><td>index</td><td>2.0000e+00</td><td></td><td>nan</td><td>nan</td><td>False</td><td>0.000e+00</td></tr>\n",
       "<tr><td>g09</td><td>spectral</td><td>amplitude</td><td>3.0000e-12</td><td>cm-2 s-1 TeV-1</td><td>nan</td><td>nan</td><td>False</td><td>0.000e+00</td></tr>\n",
       "<tr><td>g09</td><td>spectral</td><td>reference</td><td>1.0000e+00</td><td>TeV</td><td>nan</td><td>nan</td><td>True</td><td>0.000e+00</td></tr>\n",
       "<tr><td>g09</td><td>spectral</td><td>lambda_</td><td>1.0000e-01</td><td>TeV-1</td><td>nan</td><td>nan</td><td>False</td><td>0.000e+00</td></tr>\n",
       "<tr><td>g09</td><td>spectral</td><td>alpha</td><td>1.0000e+00</td><td></td><td>nan</td><td>nan</td><td>True</td><td>0.000e+00</td></tr>\n",
       "<tr><td>g09</td><td>spatial</td><td>lon_0</td><td>9.0000e-01</td><td>deg</td><td>nan</td><td>nan</td><td>False</td><td>0.000e+00</td></tr>\n",
       "<tr><td>g09</td><td>spatial</td><td>lat_0</td><td>1.0000e-01</td><td>deg</td><td>-9.000e+01</td><td>9.000e+01</td><td>False</td><td>0.000e+00</td></tr>\n",
       "<tr><td>g09-bkg</td><td>spectral</td><td>norm</td><td>1.0000e+00</td><td></td><td>nan</td><td>nan</td><td>False</td><td>0.000e+00</td></tr>\n",
       "<tr><td>g09-bkg</td><td>spectral</td><td>tilt</td><td>0.0000e+00</td><td></td><td>nan</td><td>nan</td><td>True</td><td>0.000e+00</td></tr>\n",
       "<tr><td>g09-bkg</td><td>spectral</td><td>reference</td><td>1.0000e+00</td><td>TeV</td><td>nan</td><td>nan</td><td>True</td><td>0.000e+00</td></tr>\n",
       "</table>"
      ],
      "text/plain": [
       "<Table length=23>\n",
       "      model          type      name     value    ...    max    frozen   error  \n",
       "      str18          str8      str9    float64   ...  float64   bool    int64  \n",
       "------------------ -------- --------- ---------- ... --------- ------ ---------\n",
       "                gc spectral     index 2.0000e+00 ...       nan  False 0.000e+00\n",
       "                gc spectral amplitude 3.0000e-12 ...       nan  False 0.000e+00\n",
       "                gc spectral reference 1.0000e+00 ...       nan   True 0.000e+00\n",
       "                gc spectral   lambda_ 1.0000e-01 ...       nan  False 0.000e+00\n",
       "                gc spectral     alpha 1.0000e+00 ...       nan   True 0.000e+00\n",
       "                gc  spatial     lon_0 0.0000e+00 ...       nan  False 0.000e+00\n",
       "                gc  spatial     lat_0 0.0000e+00 ... 9.000e+01  False 0.000e+00\n",
       "gll_iem_v06_cutout spectral      norm 1.0000e+00 ...       nan  False 0.000e+00\n",
       "gll_iem_v06_cutout spectral      tilt 0.0000e+00 ...       nan   True 0.000e+00\n",
       "gll_iem_v06_cutout spectral reference 1.0000e+00 ...       nan   True 0.000e+00\n",
       "               ...      ...       ...        ... ...       ...    ...       ...\n",
       "               g09 spectral     index 2.0000e+00 ...       nan  False 0.000e+00\n",
       "               g09 spectral amplitude 3.0000e-12 ...       nan  False 0.000e+00\n",
       "               g09 spectral reference 1.0000e+00 ...       nan   True 0.000e+00\n",
       "               g09 spectral   lambda_ 1.0000e-01 ...       nan  False 0.000e+00\n",
       "               g09 spectral     alpha 1.0000e+00 ...       nan   True 0.000e+00\n",
       "               g09  spatial     lon_0 9.0000e-01 ...       nan  False 0.000e+00\n",
       "               g09  spatial     lat_0 1.0000e-01 ... 9.000e+01  False 0.000e+00\n",
       "           g09-bkg spectral      norm 1.0000e+00 ...       nan  False 0.000e+00\n",
       "           g09-bkg spectral      tilt 0.0000e+00 ...       nan   True 0.000e+00\n",
       "           g09-bkg spectral reference 1.0000e+00 ...       nan   True 0.000e+00"
      ]
     },
     "execution_count": 2,
     "metadata": {},
     "output_type": "execute_result"
    }
   ],
   "source": [
    "qgrid_df = qgrid_widget.get_changed_df() # get changed values\n",
    "models.update_parameters_from_table(Table.from_pandas(qgrid_df)) #update model with changed values\n",
    "models.to_parameters_table() #print model to verify that values were updated"
   ]
  },
  {
   "cell_type": "code",
   "execution_count": null,
   "metadata": {
    "tags": [
     "nbsphinx-thumbnail"
    ]
   },
   "outputs": [],
   "source": [
    "#Display thumbnails for nbsphinx-thumbnail\n",
    "from IPython.display import Image\n",
    "display(Image(filename='edit-interactive.png'))"
   ]
  }
 ],
 "metadata": {
  "kernelspec": {
   "display_name": "Python 3",
   "language": "python",
   "name": "python3"
  },
  "language_info": {
   "codemirror_mode": {
    "name": "ipython",
    "version": 3
   },
   "file_extension": ".py",
   "mimetype": "text/x-python",
   "name": "python",
   "nbconvert_exporter": "python",
   "pygments_lexer": "ipython3",
   "version": "3.7.0"
  }
 },
 "nbformat": 4,
 "nbformat_minor": 4
}
