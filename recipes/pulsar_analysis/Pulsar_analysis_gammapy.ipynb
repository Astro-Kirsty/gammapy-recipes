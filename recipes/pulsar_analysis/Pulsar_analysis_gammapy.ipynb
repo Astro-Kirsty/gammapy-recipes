{
 "cells": [
  {
   "cell_type": "markdown",
   "id": "b19e519d",
   "metadata": {},
   "source": [
    "## Introduction"
   ]
  },
  {
   "cell_type": "markdown",
   "id": "d1a30dd7",
   "metadata": {},
   "source": [
    "This recipe shows how to add the phase information into the EventLists of pulsar observations. This step is needed to perform the pulsar analysis with gammapy and should be the first step in the high level analysis. For the pulsar analysis we need two ingredients:\n",
    "\n",
    "1. The time of arrivals (TOAs). These times should have very high precision due to the common fast periods of pulsars. Usually these times are already stored in the EventList tables. For the computation of the pulsar timing they have to be corrected to be referenced to the Solar System barycenter (SSB) because this system can nearly be regarded as an inertial frame with respect to the pulsar. Sometimes, (for rather historical reasons) the times are stored in specific files, called .tim files.\n",
    "\n",
    "\n",
    "2. The model of rotation of the pulsar, also known as ephemeris, at the epoch of the observations. These ephemerides are stored in an specific format and saved as .par files and contain information of the periods, derivatives of the periods, coordinates, glitches, etc.\n",
    "\n",
    "__For following the steps of this tutorial, we need the original EventLists from the DL3 files, and a model in .par format.__\n",
    "\n",
    "The main software that will help us to make the barycentric corrections and the phase-folding to the model is the PINT library. For more information about how this package works, see the following link: https://nanograv-pint.readthedocs.io/en/latest/. "
   ]
  },
  {
   "cell_type": "markdown",
   "id": "c61c515c",
   "metadata": {},
   "source": [
    "## 0. Imports and dependencies"
   ]
  },
  {
   "cell_type": "markdown",
   "id": "144e8090",
   "metadata": {},
   "source": [
    "The dependencies that we will be using in this tutorial are essentials (astropy, matplotlib, numpy). We need also to install PINT for the phase computation (see https://nanograv-pint.readthedocs.io/en/latest/installation.html for more information)."
   ]
  },
  {
   "cell_type": "markdown",
   "id": "4d43545b",
   "metadata": {},
   "source": [
    "The version of gammapy used in this tutorial is 1.0"
   ]
  },
  {
   "cell_type": "code",
   "execution_count": null,
   "id": "c1ce1bb5",
   "metadata": {},
   "outputs": [],
   "source": [
    "import gammapy\n",
    "import astropy\n",
    "\n",
    "print(f'Version of gammapy: {gammapy.__version__}')\n",
    "print(f'Version of astropy: {astropy.__version__}')"
   ]
  },
  {
   "cell_type": "code",
   "execution_count": null,
   "id": "e61b5e3e",
   "metadata": {},
   "outputs": [],
   "source": [
    "import astropy.units as u\n",
    "import matplotlib.pyplot as plt\n",
    "import pint.models as models\n",
    "import numpy as np\n",
    "import os\n",
    "from pathlib import Path"
   ]
  },
  {
   "cell_type": "code",
   "execution_count": null,
   "id": "22adb2ce",
   "metadata": {},
   "outputs": [],
   "source": [
    "from gammapy.utils.regions import SphericalCircleSkyRegion\n",
    "from gammapy.data import DataStore, EventList, Observation, Observations\n",
    "from gammapy.data import GTI\n",
    "from astropy.coordinates import SkyCoord\n",
    "from gammapy.makers import (\n",
    "    SafeMaskMaker,\n",
    "    PhaseBackgroundMaker,\n",
    "    SpectrumDatasetMaker,\n",
    ")\n",
    "from gammapy.datasets import SpectrumDataset, Datasets\n",
    "from gammapy.maps import Map, WcsGeom, MapAxis, RegionGeom"
   ]
  },
  {
   "cell_type": "markdown",
   "id": "5aae5f4b",
   "metadata": {},
   "source": [
    "## 1. Reading DataStore"
   ]
  },
  {
   "cell_type": "code",
   "execution_count": null,
   "id": "d0e182bb",
   "metadata": {},
   "outputs": [],
   "source": [
    "# Define the directory containing the DL3 data\n",
    "DL3_direc = \"/Users/Jan-Lukas/Desktop/Uni/Promotion/gammapy/gammapy-data/magic/rad_max/data\"\n",
    "#DL3_direc='/Users/alvarom/Desktop/Doctorado/fermipulsar/gammapy-datasets/1.0/magic/rad_max/data/'"
   ]
  },
  {
   "cell_type": "code",
   "execution_count": null,
   "id": "b5019a42",
   "metadata": {},
   "outputs": [],
   "source": [
    "#Read DataStore from a directory\n",
    "total_datastore = DataStore.from_dir(DL3_direc)"
   ]
  },
  {
   "cell_type": "code",
   "execution_count": null,
   "id": "a884abf0",
   "metadata": {},
   "outputs": [],
   "source": [
    "#Extract observations from desired obs_ids\n",
    "obs_ids = None\n",
    "\n",
    "if obs_ids is None:\n",
    "    total_obs_list = total_datastore.obs_table[\"OBS_ID\"].data\n",
    "else:\n",
    "    total_obs_list = obs_ids\n",
    "    \n",
    "observations = total_datastore.get_observations(total_obs_list, required_irf = \"point-like\")"
   ]
  },
  {
   "cell_type": "markdown",
   "id": "0dd88876",
   "metadata": {},
   "source": [
    "## 2. Phase-folding with PINT for one observation"
   ]
  },
  {
   "cell_type": "markdown",
   "id": "162a3ac0",
   "metadata": {},
   "source": [
    "Let's extract the times from the observations:"
   ]
  },
  {
   "cell_type": "code",
   "execution_count": null,
   "id": "2756e72d",
   "metadata": {},
   "outputs": [],
   "source": [
    "#Extract times from EventList\n",
    "observation = observations[1]\n",
    "times = observation.events.time"
   ]
  },
  {
   "cell_type": "code",
   "execution_count": null,
   "id": "1ac8103a",
   "metadata": {},
   "outputs": [],
   "source": [
    "times"
   ]
  },
  {
   "cell_type": "markdown",
   "id": "e93bfbeb",
   "metadata": {},
   "source": [
    "Now we have the TOAs of the events in the system of the telescope. Please note that the actual precision of the times is higher than the diplayed output (and we really need this precision for the pulsar analysis!). In the next step, the timing in the SSB and the phase for each TOA has to be created. "
   ]
  },
  {
   "cell_type": "markdown",
   "id": "be064003",
   "metadata": {},
   "source": [
    "At this point we have two ways to proceed leading to the same results. One can choose between onr or another depending on their analysis case."
   ]
  },
  {
   "cell_type": "markdown",
   "id": "ff8a0796",
   "metadata": {},
   "source": [
    "## 2.1 First way: creating a temporary .tim file"
   ]
  },
  {
   "cell_type": "markdown",
   "id": "70a2c1ec",
   "metadata": {},
   "source": [
    "The first method is to create a .tim file to be used as the input of PINT. This step makes the analysis with PINT straight-forward, without needing to know the internal function of PINT. PINT uses this .tim file to create all the TOA objects and to do the needed corrections automatically."
   ]
  },
  {
   "cell_type": "markdown",
   "id": "9fa32773",
   "metadata": {},
   "source": [
    "### 2.1.1 Creating a basic .tim file with the TOAs"
   ]
  },
  {
   "cell_type": "markdown",
   "id": "6dabecfa",
   "metadata": {},
   "source": [
    "First we need to set a random name for the .tim file (in case you want to keep them) and the observatory name used by PINT (same as tempo2)."
   ]
  },
  {
   "cell_type": "code",
   "execution_count": null,
   "id": "a17bd1cf",
   "metadata": {},
   "outputs": [],
   "source": [
    "timname = 'times.tim'\n",
    "obs = 'magic'"
   ]
  },
  {
   "cell_type": "markdown",
   "id": "70d571fd",
   "metadata": {},
   "source": [
    "We create the .tim file"
   ]
  },
  {
   "cell_type": "code",
   "execution_count": null,
   "id": "d35dcd39",
   "metadata": {},
   "outputs": [],
   "source": [
    "timelist = list(times.to_value('mjd','long'))\n",
    "\n",
    "timFile = open(timname,'w+')\n",
    "timFile.write('FORMAT 1 \\n')\n",
    "for i in range(0,len(timelist)):\n",
    "        timFile.write(str(obs) + ' ' + '0.0 ' + str(times[i]) + ' 0.0 ' + str(obs) + ' \\n')\n",
    "timFile.close()"
   ]
  },
  {
   "cell_type": "code",
   "execution_count": null,
   "id": "cb978b04",
   "metadata": {},
   "outputs": [],
   "source": [
    "!head times.tim"
   ]
  },
  {
   "cell_type": "markdown",
   "id": "b70c5664",
   "metadata": {},
   "source": [
    "#### Some more details about .tim files\n",
    "\n",
    "A .tim file is basically a text file containing five columns:\n",
    "* Filename/Identifier: _telescope/observatory_\n",
    "* Observing Frequency: `0.0`\n",
    "* Arrival Time (MJD): _time_\n",
    "* Uncertainty (µs): `0.0`\n",
    "* Telescope Code: _telescope identifier_\n",
    "\n",
    "The .tim files are still a relict from tempo2 (which was developed mainly for the radio astronomy), so there are parameters such as the observing frequency which don't really make sense for the gamma-ray astronomy. So the observing frequency and the uncertainty are usually set to 0 for gamma-ray astronomy. "
   ]
  },
  {
   "cell_type": "markdown",
   "id": "530a549f",
   "metadata": {},
   "source": [
    "### 2.1.2. Setting and exploring model"
   ]
  },
  {
   "cell_type": "code",
   "execution_count": null,
   "id": "d4f89ba4",
   "metadata": {},
   "outputs": [],
   "source": [
    "ephemeris_file = '/Users/alvarom/Desktop/Doctorado/fermipulsar/crab_ephemeris_model.par'\n",
    "\n",
    "ephemeris_file = '/Users/Jan-Lukas/Desktop/Uni/Promotion/Pulsar_Analyse/pulsar_analysis_crab/parfiles/eph_0531+21_57479_57494_57509_J.par'"
   ]
  },
  {
   "cell_type": "code",
   "execution_count": null,
   "id": "562604cf",
   "metadata": {},
   "outputs": [],
   "source": [
    "%%time \n",
    "m, t = models.get_model_and_toas(ephemeris_file, timname, planets = True,usepickle = False)"
   ]
  },
  {
   "cell_type": "markdown",
   "id": "d19ce0b6",
   "metadata": {},
   "source": [
    "PINT has already read the model and created the TOAs with all the corrections. Let's inspect the model, which follows the .par format:"
   ]
  },
  {
   "cell_type": "code",
   "execution_count": null,
   "id": "26da9b72",
   "metadata": {},
   "outputs": [],
   "source": [
    "print(m)"
   ]
  },
  {
   "cell_type": "markdown",
   "id": "2ee8e1cd",
   "metadata": {},
   "source": [
    "The model contains information such as the pulsar name (PSR), the start (START) and end (FINISH) date for which this particular ephmeris is valid, the coordinates of the pulsar (RAJ, DECJ), and the pulsar frequency (F0) and its derivatives (F1, F2).\n",
    "\n",
    "A model in PINT consists of two things: \n",
    "\n",
    "* The delay functions which specify all the delays to take into account when transforming the arrival time to the barycenter of the solar system.\n",
    "* The Phase functions which describe the pulsar paying respect to the spindown model and the absolute phase definition."
   ]
  },
  {
   "cell_type": "markdown",
   "id": "8c2350cc",
   "metadata": {},
   "source": [
    "__Remember that this model is only valid for a certain epoch so always check that the epoch of your observations are within the range of validity of the ephemeris.__"
   ]
  },
  {
   "cell_type": "markdown",
   "id": "02a51cc5",
   "metadata": {},
   "source": [
    "### 2.1.3 Compute phases using PINT"
   ]
  },
  {
   "cell_type": "markdown",
   "id": "b6820bb5",
   "metadata": {},
   "source": [
    "Let's obtain the barycentric times and the phases computed by PINT:"
   ]
  },
  {
   "cell_type": "code",
   "execution_count": null,
   "id": "56129b6f",
   "metadata": {},
   "outputs": [],
   "source": [
    "%%time\n",
    "barycent_toas = m.get_barycentric_toas(t)\n",
    "phases = m.phase(t,abs_phase=True).frac\n",
    "phases = np.array(phases)"
   ]
  },
  {
   "cell_type": "code",
   "execution_count": null,
   "id": "d605ffaf",
   "metadata": {},
   "outputs": [],
   "source": [
    "# create histogram of the phases\n",
    "plt.hist(phases)\n",
    "plt.show()"
   ]
  },
  {
   "cell_type": "markdown",
   "id": "a91c6a1b",
   "metadata": {},
   "source": [
    "PINT compute the phases between -0.5 and 0.5. Normally, for pulsar analysis we work in the range [0,1], so we need to shift the negative phases."
   ]
  },
  {
   "cell_type": "code",
   "execution_count": null,
   "id": "00d2fbcf",
   "metadata": {},
   "outputs": [],
   "source": [
    "phases = np.where(phases < 0.0 , phases + 1.0 , phases)"
   ]
  },
  {
   "cell_type": "code",
   "execution_count": null,
   "id": "4c4af072",
   "metadata": {},
   "outputs": [],
   "source": [
    "# create histogram of the shifted phases\n",
    "plt.hist(phases)\n",
    "plt.show()"
   ]
  },
  {
   "cell_type": "markdown",
   "id": "89af62fd",
   "metadata": {},
   "source": [
    "Now we see that the phases range from 0 to 1."
   ]
  },
  {
   "cell_type": "markdown",
   "id": "64cac1a6",
   "metadata": {},
   "source": [
    "### 2.1.4 Removing tim file (optional)"
   ]
  },
  {
   "cell_type": "markdown",
   "id": "86c15284",
   "metadata": {},
   "source": [
    "Since the original times are located in the EventList we can remove the .tim file created to be used by PINT."
   ]
  },
  {
   "cell_type": "code",
   "execution_count": null,
   "id": "8d7c2e9a",
   "metadata": {},
   "outputs": [],
   "source": [
    "os.remove(str(os.getcwd()) + '/' + timname)"
   ]
  },
  {
   "cell_type": "markdown",
   "id": "bcc74638",
   "metadata": {},
   "source": [
    "## 2.2 Second way: Using internal functions of PINT "
   ]
  },
  {
   "cell_type": "markdown",
   "id": "9d8ee2a8",
   "metadata": {},
   "source": [
    "Actually, this should be the desirable way of proceeding but we need to understand better the functionalities of PINT. We do not need to create a .tim file, and we can create directly the TOAs object used in PINT by our own and perform the corrections step by step."
   ]
  },
  {
   "cell_type": "code",
   "execution_count": null,
   "id": "6921ec83",
   "metadata": {},
   "outputs": [],
   "source": [
    "from pint import toa\n",
    "from pint import models\n",
    "from pint.observatory.topo_obs import TopoObs\n",
    "from pint.models import get_model"
   ]
  },
  {
   "cell_type": "code",
   "execution_count": null,
   "id": "d24e1c92",
   "metadata": {},
   "outputs": [],
   "source": [
    "model = get_model(ephemeris_file)"
   ]
  },
  {
   "cell_type": "code",
   "execution_count": null,
   "id": "a145cdde",
   "metadata": {},
   "outputs": [],
   "source": [
    "%%time\n",
    "include_bipm = True\n",
    "include_gps = True\n",
    "\n",
    "toa_list = list(toa.TOA(t, 4.5, obs='magic', ephem='DE421', include_bipm=str(include_bipm), \n",
    "                                include_gps=str(include_gps)) for t in times)\n",
    "        \n",
    "ts = toa.TOAs(toalist=toa_list)\n",
    "ts.clock_corr_info={'include_bipm': str(include_bipm), 'include_gps': str(include_gps)}\n",
    "\n",
    "ts.apply_clock_corrections(include_gps=include_gps,include_bipm=include_bipm)\n",
    "\n",
    "ts.compute_TDBs(ephem='DE421')\n",
    "ts.compute_posvels(ephem='DE421',planets=True)\n",
    "        \n",
    "phss = model.phase(ts,abs_phase=True)[1]\n",
    "    \n",
    "# shift phases to the interval (0,1]\n",
    "phases_2 = np.where(phss < 0.0 , phss + 1.0 , phss)"
   ]
  },
  {
   "cell_type": "code",
   "execution_count": null,
   "id": "bd08f7a4",
   "metadata": {},
   "outputs": [],
   "source": []
  },
  {
   "cell_type": "markdown",
   "id": "f8c99bf4",
   "metadata": {},
   "source": [
    "## 3. Creating New Event List"
   ]
  },
  {
   "cell_type": "code",
   "execution_count": null,
   "id": "f15f6c73",
   "metadata": {},
   "outputs": [],
   "source": [
    "#Create new EventList with the phases\n",
    "table = observation.events.table"
   ]
  },
  {
   "cell_type": "code",
   "execution_count": null,
   "id": "f0c7c796",
   "metadata": {},
   "outputs": [],
   "source": [
    "# show original table\n",
    "table"
   ]
  },
  {
   "cell_type": "code",
   "execution_count": null,
   "id": "785ebd61",
   "metadata": {},
   "outputs": [],
   "source": [
    "# add phases to table\n",
    "table['PHASE'] = phases.astype('float64')\n",
    "table.sort('TIME')"
   ]
  },
  {
   "cell_type": "code",
   "execution_count": null,
   "id": "7c8889f9",
   "metadata": {},
   "outputs": [],
   "source": [
    "# show table with phases\n",
    "table"
   ]
  },
  {
   "cell_type": "markdown",
   "id": "7c867d25",
   "metadata": {},
   "source": [
    "As you can see now the column 'PHASE' is added to the table."
   ]
  },
  {
   "cell_type": "markdown",
   "id": "934d147a",
   "metadata": {},
   "source": [
    "## 4. Save new Event List"
   ]
  },
  {
   "cell_type": "code",
   "execution_count": null,
   "id": "499e6f3e",
   "metadata": {},
   "outputs": [],
   "source": [
    "# create new event list and add it to observation object\n",
    "new_event_list = EventList(table)\n",
    "observation._events = new_event_list"
   ]
  },
  {
   "cell_type": "code",
   "execution_count": null,
   "id": "8fd2ce31",
   "metadata": {},
   "outputs": [],
   "source": [
    "# define output directory and filename\n",
    "output_directory = './pulsar_data/'  \n",
    "filename = f'dl3_pulsar_{observation.obs_id:04d}.fits'\n",
    "file_path = output_directory + filename\n",
    "\n",
    "Path(output_directory).mkdir(parents=True, exist_ok=True)"
   ]
  },
  {
   "cell_type": "code",
   "execution_count": null,
   "id": "f339c797",
   "metadata": {
    "scrolled": true
   },
   "outputs": [],
   "source": [
    "# save the observation object in the specified file_path\n",
    "print('Writing outputfile in '+str(file_path))\n",
    "observation.events.write(filename = file_path, gti = observation.gti, overwrite=True)"
   ]
  },
  {
   "cell_type": "markdown",
   "id": "6dfca2b8",
   "metadata": {},
   "source": [
    "## 5. Reading the new EventList files with the original DataStore information"
   ]
  },
  {
   "cell_type": "code",
   "execution_count": null,
   "id": "8b017dbb",
   "metadata": {},
   "outputs": [],
   "source": []
  },
  {
   "cell_type": "code",
   "execution_count": null,
   "id": "88a0e9c1",
   "metadata": {},
   "outputs": [],
   "source": []
  },
  {
   "cell_type": "markdown",
   "id": "31caa263",
   "metadata": {},
   "source": [
    "-------------"
   ]
  },
  {
   "cell_type": "markdown",
   "id": "3c544d07",
   "metadata": {},
   "source": [
    "## Making a phaseogram with basic statistics"
   ]
  },
  {
   "cell_type": "code",
   "execution_count": null,
   "id": "a3251096",
   "metadata": {},
   "outputs": [],
   "source": [
    "# define on and off region within the phase space\n",
    "off_phase_range = (0.6, 0.9)\n",
    "on_phase_range = (0.35, 0.45)"
   ]
  },
  {
   "cell_type": "code",
   "execution_count": null,
   "id": "fe368053",
   "metadata": {},
   "outputs": [],
   "source": [
    "#define source position and on radius\n",
    "pos_target = SkyCoord(ra=83.63 * u.deg, dec=22.01 * u.deg, frame=\"icrs\")          \n",
    "on_radius = 0.2*u.deg\n",
    "\n",
    "on_region = SphericalCircleSkyRegion(pos_target, on_radius)"
   ]
  },
  {
   "cell_type": "code",
   "execution_count": null,
   "id": "56eddac0",
   "metadata": {},
   "outputs": [],
   "source": [
    "true_energy_axis = MapAxis.from_energy_bounds( 0.003, 10, 100, unit=\"TeV\", name=\"energy_true\")\n",
    "reco_energy_axis = MapAxis.from_energy_bounds(0.01, 10, 30, unit=\"TeV\", name=\"energy\")\n",
    "\n",
    "\n",
    "geom=RegionGeom.create(region = on_region, axes=[reco_energy_axis])\n",
    "    \n",
    "#Define empty Dataset\n",
    "dataset_empty = SpectrumDataset.create(geom=geom,energy_axis_true=true_energy_axis)\n",
    "\n",
    "#Define dataset maker\n",
    "dataset_maker = SpectrumDatasetMaker(containment_correction=False, selection=[\"counts\", \"exposure\", \"edisp\"], use_region_center=True)  \n",
    "\n",
    "# Define background maker with the phase regions\n",
    "phase_bkg_maker = PhaseBackgroundMaker(on_phase=on_phase_range, off_phase=off_phase_range)\n",
    "\n",
    "dataset = dataset_maker.run(dataset_empty, observation)\n",
    "dataset_on_off = phase_bkg_maker.run(dataset, observation)"
   ]
  },
  {
   "cell_type": "code",
   "execution_count": null,
   "id": "8812fd20",
   "metadata": {},
   "outputs": [],
   "source": [
    "stats_info = dataset_on_off.info_dict()"
   ]
  },
  {
   "cell_type": "code",
   "execution_count": null,
   "id": "dc1c0ea4",
   "metadata": {},
   "outputs": [],
   "source": [
    "stats_info"
   ]
  },
  {
   "cell_type": "markdown",
   "id": "429cabea",
   "metadata": {},
   "source": [
    "## Draw the histogram"
   ]
  },
  {
   "cell_type": "code",
   "execution_count": null,
   "id": "4db62639",
   "metadata": {},
   "outputs": [],
   "source": [
    "phases_on_region = observation.events.select_region(on_region).table['PHASE']"
   ]
  },
  {
   "cell_type": "code",
   "execution_count": null,
   "id": "32d78f81",
   "metadata": {},
   "outputs": [],
   "source": [
    "plt.figure(figsize=(15,6))\n",
    "plt.title('Phaseogram of the sample',fontsize=20)\n",
    "plt.hist(phases_on_region,bins=20, edgecolor='blue',facecolor='xkcd:sky blue',histtype='stepfilled')\n",
    "plt.hist(phases_on_region+1,bins=20, edgecolor='blue',facecolor='xkcd:sky blue',histtype='stepfilled')\n",
    "plt.fill_between(np.linspace(on_phase_range[0],on_phase_range[1]),0,650,color='C3',alpha=0.4)\n",
    "plt.fill_between(np.linspace(on_phase_range[0],on_phase_range[1])+1,0,650,color='C3',alpha=0.4, label='ON region')\n",
    "plt.fill_between(np.linspace(off_phase_range[0],off_phase_range[1]),0,650,color='k',alpha=0.3, hatch='/', label='OFF region')\n",
    "plt.fill_between(np.linspace(off_phase_range[0],off_phase_range[1])+1,0,650,color='k',alpha=0.3, hatch='/')\n",
    "plt.xlabel('Phase')\n",
    "plt.ylabel('Counts')\n",
    "plt.text(1.6,23,'Stats: \\n Significance:{0:.2f}$\\sigma$ \\n N(ON):{1:.0f} \\n N(off):{2:.0f} \\n Nex:{3:.0f} \\n alpha:{4:.2f}'.format(stats_info['sqrt_ts'], stats_info['counts'],stats_info['counts_off'],stats_info['excess'],stats_info['alpha']),\n",
    "         fontsize=16,color='black',bbox=dict(facecolor='white', edgecolor='black'))\n",
    "plt.text(-0.05,55,' Nentries:{0:.0f} \\n Tobs:{1:.2f}'.format(len(table),stats_info['livetime'].to(u.Unit('h'))),\n",
    "        fontsize=16,weight='bold',color='black',bbox=dict(facecolor='white', edgecolor='black'))\n",
    "plt.ylim(20,60)\n",
    "plt.legend(fontsize=15)\n",
    "plt.show()"
   ]
  },
  {
   "cell_type": "markdown",
   "id": "3fb6e9cc",
   "metadata": {},
   "source": [
    "You can see the phasogram for your pulsar analysis. Please note that in this case we don't see peaks where we would expect them because the used datased is too small. "
   ]
  },
  {
   "cell_type": "code",
   "execution_count": null,
   "id": "61d6687e",
   "metadata": {},
   "outputs": [],
   "source": []
  }
 ],
 "metadata": {
  "kernelspec": {
   "display_name": "Python 3 (ipykernel)",
   "language": "python",
   "name": "python3"
  },
  "language_info": {
   "codemirror_mode": {
    "name": "ipython",
    "version": 3
   },
   "file_extension": ".py",
   "mimetype": "text/x-python",
   "name": "python",
   "nbconvert_exporter": "python",
   "pygments_lexer": "ipython3",
   "version": "3.8.8"
  }
 },
 "nbformat": 4,
 "nbformat_minor": 5
}
