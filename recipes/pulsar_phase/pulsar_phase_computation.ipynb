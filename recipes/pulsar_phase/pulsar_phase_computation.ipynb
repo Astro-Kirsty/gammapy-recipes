{
 "cells": [
  {
   "cell_type": "markdown",
   "id": "29476e1d",
   "metadata": {},
   "source": [
    "# Phase computation for pulsar using PINT"
   ]
  },
  {
   "cell_type": "markdown",
   "id": "d69ed96d",
   "metadata": {},
   "source": [
    "This notebook has been done for the following version of Gammapy and PINT:\n",
    "\n",
    "Gammapy version : 1.0\n",
    "\n",
    "PINT version : 0.9.3"
   ]
  },
  {
   "cell_type": "markdown",
   "id": "d1a30dd7",
   "metadata": {},
   "source": [
    "This notebook shows how to compute and add the phase information into the events files of pulsar observations. This step is needed to perform the pulsar analysis with Gammapy and should be the first step in the high level analysis. For the pulsar analysis we need two ingredients:\n",
    "\n",
    "1. The time of arrivals (TOAs). These times should have very high precision due to the common fast periods of pulsars. Usually these times are already stored in the EventList. For the computation of pulsar timing, times must be corrected in order to be referenced in the Solar System barycenter (SSB) because this system can nearly be regarded as an inertial reference frame with respect to the pulsar.\n",
    "\n",
    "\n",
    "2. The model of rotation of the pulsar, also known as ephemeris, at the epoch of the observations. These ephemerides are stored in an specific format and saved as .par files and contain informations on the periods, derivatives of the periods, coordinates, glitches, etc.\n",
    "\n",
    "__For the following steps of this tutorial, we need the original EventLists from the DL3 files, and a model in .par format.__\n",
    "\n",
    "The main software that we will use to make the barycentric corrections and the phase-folding to the model is the PINT python library, [Luo J., Ransom S. et al., 2021](https://arxiv.org/abs/2012.00074), [ASCL](http://ascl.net/1902.007).\n",
    "For more information about this package, see [PINT documentation](https://nanograv-pint.readthedocs.io/en/latest/). "
   ]
  },
  {
   "cell_type": "markdown",
   "id": "c61c515c",
   "metadata": {},
   "source": [
    "## 0. Dependencies and imports"
   ]
  },
  {
   "cell_type": "markdown",
   "id": "a9c72d26",
   "metadata": {},
   "source": [
    "In order to run this notebook, one need to have install Gammapy as well as PINT (see documentation above) in the same environment. We recommend to first install Gammapy and then install PINT using your prefered package manager.\n",
    "\n",
    "\n",
    "`$ conda env create -n gammapy-pint -f gammapy-1.0-environment.yml`\n",
    "\n",
    "`$ conda activate gammapy-pint`\n",
    "\n",
    "`$ pip install pint-pulsar`"
   ]
  },
  {
   "cell_type": "markdown",
   "id": "2329c197",
   "metadata": {},
   "source": [
    "Alternatively, one can also run the yaml environement file provided in the folder of this notebook:\n",
    "\n",
    "`$ conda env create -n gammapy-pint -f gammapy-pint-environment.yml`\n"
   ]
  },
  {
   "cell_type": "code",
   "execution_count": 3,
   "id": "b68d2444",
   "metadata": {},
   "outputs": [
    {
     "name": "stdout",
     "output_type": "stream",
     "text": [
      "Gammapy version : 1.0\n",
      "PINT version : 0.9.3\n"
     ]
    }
   ],
   "source": [
    "import gammapy\n",
    "import pint\n",
    "\n",
    "print(f\"Gammapy version : {gammapy.__version__}\")\n",
    "print(f\"PINT version : {pint.__version__}\")"
   ]
  },
  {
   "cell_type": "code",
   "execution_count": 4,
   "id": "e61b5e3e",
   "metadata": {},
   "outputs": [],
   "source": [
    "import astropy.units as u\n",
    "from astropy.time import Time\n",
    "from astropy.coordinates import SkyCoord\n",
    "import numpy as np\n",
    "from pathlib import Path\n",
    "from gammapy.data import DataStore, EventList, Observation"
   ]
  },
  {
   "cell_type": "markdown",
   "id": "81ae3a58",
   "metadata": {},
   "source": [
    "And we also need some imports from PINT:"
   ]
  },
  {
   "cell_type": "code",
   "execution_count": 5,
   "id": "22ac4aea",
   "metadata": {},
   "outputs": [],
   "source": [
    "import pint.models as pmodels\n",
    "from pint import toa"
   ]
  },
  {
   "cell_type": "markdown",
   "id": "5aae5f4b",
   "metadata": {},
   "source": [
    "## 1. Reading DataStore"
   ]
  },
  {
   "cell_type": "markdown",
   "id": "b486ec45",
   "metadata": {},
   "source": [
    "First we neeed to define the data sample. In this notebook we will use two runs from the MAGIC gammapy data sample available in https://github.com/gammapy/gammapy-data"
   ]
  },
  {
   "cell_type": "code",
   "execution_count": 6,
   "id": "d0e182bb",
   "metadata": {},
   "outputs": [],
   "source": [
    "# Define the directory containing the DL3 data\n",
    "DL3_direc = \"$GAMMAPY_DATA/magic/rad_max/data\""
   ]
  },
  {
   "cell_type": "code",
   "execution_count": 7,
   "id": "b5019a42",
   "metadata": {},
   "outputs": [],
   "source": [
    "# Read DataStore from a directory\n",
    "data_store = DataStore.from_dir(DL3_direc)"
   ]
  },
  {
   "cell_type": "markdown",
   "id": "b551325a",
   "metadata": {},
   "source": [
    "Let's run this tutorial for the Crab pulsar :"
   ]
  },
  {
   "cell_type": "code",
   "execution_count": 8,
   "id": "9ba16fcc",
   "metadata": {},
   "outputs": [],
   "source": [
    "target_pos = SkyCoord(ra = 083.6331144560900, dec = +22.0144871383400, unit = 'deg', frame = 'icrs')"
   ]
  },
  {
   "cell_type": "code",
   "execution_count": 9,
   "id": "06bda835",
   "metadata": {},
   "outputs": [],
   "source": [
    "selection = dict(\n",
    "    type=\"sky_circle\",\n",
    "    frame=\"icrs\",\n",
    "    lon=target_pos.ra,\n",
    "    lat=target_pos.dec,\n",
    "    radius=\"5 deg\",\n",
    ")\n",
    "selected_obs_table = data_store.obs_table.select_observations(selection)"
   ]
  },
  {
   "cell_type": "code",
   "execution_count": 10,
   "id": "f96ccf30",
   "metadata": {},
   "outputs": [
    {
     "name": "stdout",
     "output_type": "stream",
     "text": [
      " OBS_ID\n",
      "-------\n",
      "5029748\n",
      "5029747\n"
     ]
    }
   ],
   "source": [
    "obs_id = selected_obs_table['OBS_ID']\n",
    "print(obs_id)"
   ]
  },
  {
   "cell_type": "markdown",
   "id": "9b77aaae",
   "metadata": {},
   "source": [
    "For the following we will take the run 5029747."
   ]
  },
  {
   "cell_type": "code",
   "execution_count": 11,
   "id": "fa6e36d5",
   "metadata": {},
   "outputs": [],
   "source": [
    "observations = data_store.get_observations([5029747], required_irf = \"point-like\")"
   ]
  },
  {
   "cell_type": "code",
   "execution_count": 12,
   "id": "dec2c1a5",
   "metadata": {},
   "outputs": [
    {
     "name": "stdout",
     "output_type": "stream",
     "text": [
      "Observations\n",
      "Number of observations: 1\n",
      "Observation\n",
      "\n",
      "\tobs id            : 5029747 \n",
      " \ttstart            : 56569.18\n",
      "\ttstop             : 56569.19\n",
      "\tduration          : 1188.11 s\n",
      "\tpointing (icrs)   : 84.0 deg, 22.2 deg\n",
      "\n",
      "\tdeadtime fraction : 0.8%\n",
      "\n"
     ]
    }
   ],
   "source": [
    "print(observations)"
   ]
  },
  {
   "cell_type": "markdown",
   "id": "0dd88876",
   "metadata": {},
   "source": [
    "## 2. Phase-folding with PINT for one observation"
   ]
  },
  {
   "cell_type": "markdown",
   "id": "162a3ac0",
   "metadata": {},
   "source": [
    "Let's extract the times from the observation:"
   ]
  },
  {
   "cell_type": "code",
   "execution_count": 13,
   "id": "2756e72d",
   "metadata": {},
   "outputs": [],
   "source": [
    "# Extract times from EventList\n",
    "observation = observations[0]\n",
    "times = observation.events.time"
   ]
  },
  {
   "cell_type": "code",
   "execution_count": 14,
   "id": "1ac8103a",
   "metadata": {},
   "outputs": [
    {
     "name": "stdout",
     "output_type": "stream",
     "text": [
      "[56569.18112859 56569.18112878 56569.18112978 ... 56569.19487702\n",
      " 56569.19487703 56569.19487876]\n"
     ]
    }
   ],
   "source": [
    "print(times)"
   ]
  },
  {
   "cell_type": "markdown",
   "id": "e93bfbeb",
   "metadata": {},
   "source": [
    "Now we have the TOAs of the events in the system of the telescope. Please note that the actual precision of the times is higher than the diplayed output (and we really need this precision for the pulsar analysis!). In the next step, the timing in the SSB and the phase for each TOA has to be created. "
   ]
  },
  {
   "cell_type": "markdown",
   "id": "e46c5d70",
   "metadata": {},
   "source": [
    "## 2.1 An ephemeris file from Fermi-LAT data."
   ]
  },
  {
   "cell_type": "markdown",
   "id": "fb536b7e",
   "metadata": {},
   "source": [
    "In order to compute the phases of a pulsar, one needs an ephemeris file, usually store as a .par file. \n",
    "\n",
    "In the following, we will use an ephemeris file for the Crab provided by Fermi-LAT, see [Kerr, M.; Ray, P. S.; et al; 2015](https://arxiv.org/abs/1510.05099). This ephemeris file for the Crab pulsar can be found alongside other pulsar ephemeris files at this [confluence page]( https://confluence.slac.stanford.edu/display/GLAMCOG/LAT+Gamma-ray+Pulsar+Timing+Models). \n",
    "\n",
    "However, be aware that most of these ephemeris files are not up-to-date. Therefore they could give bad results on the phase computation. In particular, one should always checked that the MJD of the observations one wants to phased lies between the `START`and `FINISH`entry of the ephemeris file."
   ]
  },
  {
   "cell_type": "code",
   "execution_count": 15,
   "id": "d4f89ba4",
   "metadata": {},
   "outputs": [],
   "source": [
    "# Path to the ephemeris file\n",
    "ephemeris_file = './0534+2200_ApJ_708_1254_2010.par'"
   ]
  },
  {
   "cell_type": "markdown",
   "id": "52eb3086",
   "metadata": {},
   "source": [
    "Note that sometimes one needs to change some of the parameters of the ephemeris file that are not used in gamma-ray astronomy by hand. For instance, here we have removed the 'JUMP' line since it does not have any effect in our computation and raise an error in PINT. The ephemeris file provided with this notebook does not have this line. "
   ]
  },
  {
   "cell_type": "markdown",
   "id": "9de2d5f9",
   "metadata": {},
   "source": [
    "## 2.2 Computing pulsar phases"
   ]
  },
  {
   "cell_type": "markdown",
   "id": "9d8ee2a8",
   "metadata": {},
   "source": [
    "Now that we have the model and the times of arrival for the different events, we can compute the timing corrections and the pulsar phases needed for the pulsar analysis. In this case, we use the PINT package described in the introduction."
   ]
  },
  {
   "cell_type": "markdown",
   "id": "118886ce",
   "metadata": {},
   "source": [
    "First we will explore our model that should look at follows:"
   ]
  },
  {
   "cell_type": "code",
   "execution_count": 16,
   "id": "d24e1c92",
   "metadata": {
    "scrolled": false
   },
   "outputs": [
    {
     "name": "stderr",
     "output_type": "stream",
     "text": [
      "2023-03-06 09:44:51.648 | INFO     | pint.models.absolute_phase:validate:72 - TZRFRQ was 0.0 or None. Setting to infinite frequency.\n"
     ]
    },
    {
     "name": "stdout",
     "output_type": "stream",
     "text": [
      "# Created: 2023-03-06T09:44:51.650445\n",
      "# PINT_version: 0.9.3\n",
      "# User: mregeard\n",
      "# Host: Maximes-MacBook.local\n",
      "# OS: macOS-13.1-x86_64-i386-64bit\n",
      "# Format: pint\n",
      "PSRJ                           J0534+2200\n",
      "TRACK                                  -2\n",
      "EPHEM                               DE405\n",
      "CLK                               TT(TAI)\n",
      "START              54686.1526259000000000\n",
      "FINISH             56583.1591704000000000\n",
      "DILATEFREQ                              N\n",
      "DMDATA                                  N\n",
      "NTOA                                  272\n",
      "CHI2                                  0.0\n",
      "RAJ                      5:34:31.94000000\n",
      "DECJ                    22:00:52.10000000\n",
      "PMRA                                -11.8 0 1.0\n",
      "PMDEC                                 4.4 0 1.0\n",
      "PX                                    0.0\n",
      "POSEPOCH           50739.0000000000000000\n",
      "F0                  29.716913767510206412 0 7.4407601857728877803e-08\n",
      "F1              -3.7105744257791078768e-10 0 7.1826463672770942706e-16\n",
      "F2              1.1633675551229037574e-20 0 2.4873069815300371171e-23\n",
      "F3              -8.6724769747827286635e-31 0 0.0\n",
      "PEPOCH             55555.0000000000000000\n",
      "TZRMJD             55638.1552775999516551\n",
      "TZRSITE                               coe\n",
      "TZRFRQ                                inf\n",
      "SIFUNC                                2.0 0 0.0\n",
      "IFUNC1               54658.15528904736857              0.0233293128\n",
      "IFUNC2               54661.65528904736857              0.0234380536\n",
      "IFUNC3               54665.15528904736857              0.0235667779\n",
      "IFUNC4               54668.65528904736857              0.0237273337\n",
      "IFUNC5               54672.15528904736857              0.0239296665\n",
      "IFUNC6               54675.65528904736857              0.0241780838\n",
      "IFUNC7               54679.15528904736857              0.0244691675\n",
      "IFUNC8               54682.65528904736857              0.0247916498\n",
      "IFUNC9               54686.15528904736857              0.0251281426\n",
      "IFUNC10             54689.655289170099422              0.0254582362\n",
      "IFUNC11             54693.155289292830275              0.0257622255\n",
      "IFUNC12             54696.655289269416244              0.0260246286\n",
      "IFUNC13             54700.155289246002212              0.0262367496\n",
      "IFUNC14             54703.655289093185274              0.0263977845\n",
      "IFUNC15             54707.155288940368337              0.0265143107\n",
      "IFUNC16             54710.655289020447526              0.0265983628\n",
      "IFUNC17              54714.15528910053399              0.0266646007\n",
      "IFUNC18             54717.655289088339487              0.0267272419\n",
      "IFUNC19             54721.155289076137706              0.0267974452\n",
      "IFUNC20             54724.655289103728137              0.0268816837\n",
      "IFUNC21             54728.155289131311292              0.0269813831\n",
      "IFUNC22             54731.655289174668724              0.0270937889\n",
      "IFUNC23             54735.155289218026155              0.0272137387\n",
      "IFUNC24             54738.655289220871055              0.0273358209\n",
      "IFUNC25              54742.15528922372323               0.027456338\n",
      "IFUNC26              54745.65528929525317              0.0275745743\n",
      "IFUNC27             54749.155289366790385              0.0276930673\n",
      "IFUNC28             54752.655289204041765              0.0278168444\n",
      "IFUNC29              54756.15528904130042               0.027951852\n",
      "IFUNC30              54759.65528909866407              0.0281030033\n",
      "IFUNC31              54763.15528915602772              0.0282723615\n",
      "IFUNC32              54766.65528922773956              0.0284579397\n",
      "IFUNC33              54770.15528929944412              0.0286534417\n",
      "IFUNC34              54773.65528917768097              0.0288490476\n",
      "IFUNC35             54777.155289055910544              0.0290330905\n",
      "IFUNC36              54780.65528917399206              0.0291942719\n",
      "IFUNC37               54784.1552892920663              0.0293239325\n",
      "IFUNC38              54787.65528923758393              0.0294178889\n",
      "IFUNC39             54791.155289183108835              0.0294774436\n",
      "IFUNC40             54794.655289195630758              0.0295093583\n",
      "IFUNC41              54798.15528920815268              0.0295247998\n",
      "IFUNC42             54801.655289207010355              0.0295374791\n",
      "IFUNC43              54805.15528920586803              0.0295613551\n",
      "IFUNC44              54808.65528912393347              0.0296083399\n",
      "IFUNC45             54812.155289041991637              0.0296864163\n",
      "IFUNC46             54815.655289193731733              0.0297984688\n",
      "IFUNC47              54819.15528934547183              0.0299419723\n",
      "IFUNC48             54822.655289398433524              0.0301095143\n",
      "IFUNC49              54826.15528945139522              0.0302899796\n",
      "IFUNC50             54829.655286302273453              0.0304701399\n",
      "IFUNC51             54833.155283153151686              0.0306363586\n",
      "IFUNC52              54836.65528031370195              0.0307761517\n",
      "IFUNC53              54840.15527747424494              0.0308794231\n",
      "IFUNC54              54843.65527749068133              0.0309392759\n",
      "IFUNC55             54847.155277507117717              0.0309523884\n",
      "IFUNC56             54850.655277623227448              0.0309190032\n",
      "IFUNC57             54854.155277739344456              0.0308426053\n",
      "IFUNC58              54857.65527768262109              0.0307293697\n",
      "IFUNC59                54861.155277625905              0.0305874477\n",
      "IFUNC60             54864.655277623416623              0.0304261455\n",
      "IFUNC61              54868.15527762092097              0.0302550452\n",
      "IFUNC62             54871.655277641468274              0.0300831273\n",
      "IFUNC63              54875.15527766201558              0.0299179735\n",
      "IFUNC64              54878.65527752930211              0.0297651452\n",
      "IFUNC65             54882.155277396588644               0.029627839\n",
      "IFUNC66             54885.655277509678854              0.0295068991\n",
      "IFUNC67             54889.155277622769063              0.0294012165\n",
      "IFUNC68              54892.65527762973943              0.0293084727\n",
      "IFUNC69             54896.155277636717074              0.0292261039\n",
      "IFUNC70             54899.655277513353212              0.0291522949\n",
      "IFUNC71              54903.15527738998935              0.0290867756\n",
      "IFUNC72             54906.655277480713266              0.0290312126\n",
      "IFUNC73             54910.155277571437182              0.0289890543\n",
      "IFUNC74             54913.655277519574156              0.0289648013\n",
      "IFUNC75             54917.155277467718406              0.0289628109\n",
      "IFUNC76              54920.65527747919259              0.0289858616\n",
      "IFUNC77               54924.1552774906595              0.0290337916\n",
      "IFUNC78             54927.655277505051345              0.0291025364\n",
      "IFUNC79              54931.15527751944319              0.0291838337\n",
      "IFUNC80              54934.65527752732305              0.0292657347\n",
      "IFUNC81             54938.155277535202913              0.0293338943\n",
      "IFUNC82             54941.655277639401902              0.0293734364\n",
      "IFUNC83             54945.155277743593615              0.0293710548\n",
      "IFUNC84             54948.655277708872745              0.0293169399\n",
      "IFUNC85               54952.1552776741446              0.0292061452\n",
      "IFUNC86             54955.655277670935902              0.0290391142\n",
      "IFUNC87              54959.15527766771993              0.0288212629\n",
      "IFUNC88             54962.655277675628895              0.0285617142\n",
      "IFUNC89             54966.155277683530585              0.0282714632\n",
      "IFUNC90             54969.655277724479674              0.0279613711\n",
      "IFUNC91             54973.155277765428764              0.0276404167\n",
      "IFUNC92             54976.655277686229965              0.0273145683\n",
      "IFUNC93             54980.155277607031167              0.0269864848\n",
      "IFUNC94             54983.655277624638984              0.0266560611\n",
      "IFUNC95             54987.155277642254077               0.026321632\n",
      "IFUNC96              54990.65527763004502              0.0259814956\n",
      "IFUNC97              54994.15527761784324              0.0256353502\n",
      "IFUNC98              54997.65527769842447              0.0252852639\n",
      "IFUNC99               55001.1552777790057              0.0249359196\n",
      "IFUNC100            55004.655277776058938              0.0245940597\n",
      "IFUNC101            55008.155277773112175              0.0242672547\n",
      "IFUNC102             55011.65527774603106               0.023962293\n",
      "IFUNC103             55015.15527771894267              0.0236835848\n",
      "IFUNC104            55018.655277709462098              0.0234319784\n",
      "IFUNC105             55022.15527769997425              0.0232042912\n",
      "IFUNC106             55025.65527754741197              0.0229936945\n",
      "IFUNC107            55029.155277394856967              0.0227908873\n",
      "IFUNC108            55032.655277414429293                0.02258581\n",
      "IFUNC109             55036.15527743400162              0.0223695237\n",
      "IFUNC110            55039.655277566605946              0.0221358386\n",
      "IFUNC111            55043.155277699210274              0.0218823387\n",
      "IFUNC112             55046.65527772574569              0.0216105871\n",
      "IFUNC113            55050.155277752288384               0.021325488\n",
      "IFUNC114            55053.655277707883215              0.0210339717\n",
      "IFUNC115            55057.155277663478046              0.0207433171\n",
      "IFUNC116            55060.655277591104095              0.0204594997\n",
      "IFUNC117             55064.15527751872287               0.020185933\n",
      "IFUNC118            55067.655277570636827              0.0199228644\n",
      "IFUNC119            55071.155277622550784              0.0196675269\n",
      "IFUNC120             55074.65527757027303              0.0194149642\n",
      "IFUNC121            55078.155277517987997              0.0191592969\n",
      "IFUNC122            55081.655277583442512              0.0188950981\n",
      "IFUNC123             55085.15527764888975              0.0186185435\n",
      "IFUNC124             55088.65527752538037              0.0183280642\n",
      "IFUNC125            55092.155277401878266              0.0180243678\n",
      "IFUNC126            55095.655277479207143              0.0177098501\n",
      "IFUNC127            55099.155277556543297              0.0173875703\n",
      "IFUNC128            55102.655277548918093                0.01706006\n",
      "IFUNC129            55106.155277541300165              0.0167282711\n",
      "IFUNC130            55109.655277545527497              0.0163909197\n",
      "IFUNC131            55113.155277549762104              0.0160443833\n",
      "IFUNC132            55116.655277508260042              0.0156831648\n",
      "IFUNC133             55120.15527746675798              0.0153008049\n",
      "IFUNC134             55123.65527755858784              0.0148910188\n",
      "IFUNC135            55127.155277650417702              0.0144487898\n",
      "IFUNC136            55130.655277606150776              0.0139711739\n",
      "IFUNC137            55134.155277561876574               0.013457647\n",
      "IFUNC138             55137.65527759773977              0.0129099424\n",
      "IFUNC139            55141.155277633595688              0.0123314472\n",
      "IFUNC140            55144.655277563637355              0.0117263222\n",
      "IFUNC141            55148.155277493671747              0.0110985646\n",
      "IFUNC142            55151.655277478967037              0.0104512288\n",
      "IFUNC143            55155.155277464262326              0.0097859661\n",
      "IFUNC144            55158.655277456215117              0.0091029585\n",
      "IFUNC145            55162.155277448160632              0.0084012201\n",
      "IFUNC146             55165.65527744818246              0.0076791595\n",
      "IFUNC147            55169.155277448197012              0.0069352438\n",
      "IFUNC148            55172.655277459802164              0.0061686023\n",
      "IFUNC149            55176.155277471407317              0.0053794388\n",
      "IFUNC150             55179.65527744928113              0.0045691883\n",
      "IFUNC151            55183.155277427154942              0.0037404241\n",
      "IFUNC152            55186.655277475671028              0.0028965823\n",
      "IFUNC153            55190.155277524179837              0.0020416066\n",
      "IFUNC154             55193.65527751537593              0.0011796162\n",
      "IFUNC155            55197.155277506579296              0.0003146722\n",
      "IFUNC156            55200.655277500140073             -0.0005493332\n",
      "IFUNC157             55204.15527749370085             -0.0014086875\n",
      "IFUNC158             55207.65527747941087             -0.0022598337\n",
      "IFUNC159            55211.155277465113613             -0.0030993836\n",
      "IFUNC160            55214.655277568475867             -0.0039242312\n",
      "IFUNC161             55218.15527767183812             -0.0047317826\n",
      "IFUNC162            55221.655277715406555             -0.0055202749\n",
      "IFUNC163             55225.15527775897499             -0.0062891059\n",
      "IFUNC164             55228.65527776613453             -0.0070390723\n",
      "IFUNC165            55232.155277773286798             -0.0077724182\n",
      "IFUNC166             55235.65527768211905             -0.0084926269\n",
      "IFUNC167              55239.1552775909513             -0.0092039466\n",
      "IFUNC168             55242.65527766005107              -0.009910708\n",
      "IFUNC169            55246.155277729143563             -0.0106165464\n",
      "IFUNC170            55249.655277638135885              -0.011323678\n",
      "IFUNC171            55253.155277547128208             -0.0120323809\n",
      "IFUNC172            55256.655277531928732             -0.0127407953\n",
      "IFUNC173            55260.155277516729257             -0.0134450976\n",
      "IFUNC174            55263.655277626508905             -0.0141400299\n",
      "IFUNC175            55267.155277736288554             -0.0148196922\n",
      "IFUNC176            55270.655277653728263             -0.0154784565\n",
      "IFUNC177             55274.15527757116797             -0.0161118446\n",
      "IFUNC178             55277.65527755045332             -0.0167172212\n",
      "IFUNC179             55281.15527752973867             -0.0172942051\n",
      "IFUNC180             55284.65527759629913             -0.0178447543\n",
      "IFUNC181            55288.155277662852313               -0.01837295\n",
      "IFUNC182            55291.655277528050647             -0.0188845494\n",
      "IFUNC183            55295.155277393256256             -0.0193864063\n",
      "IFUNC184             55298.65527745608415             -0.0198858576\n",
      "IFUNC185            55302.155277518912044              -0.020390156\n",
      "IFUNC186              55305.6552775066084             -0.0209059921\n",
      "IFUNC187             55309.15527749431203             -0.0214391185\n",
      "IFUNC188            55312.655277592704806             -0.0219940618\n",
      "IFUNC189             55316.15527769109758             -0.0225739014\n",
      "IFUNC190            55319.655277744277555             -0.0231801013\n",
      "IFUNC191             55323.15527779745753             -0.0238123992\n",
      "IFUNC192             55326.65527773724898             -0.0244687757\n",
      "IFUNC193            55330.155277677033155             -0.0251455399\n",
      "IFUNC194             55333.65527774624934             -0.0258375592\n",
      "IFUNC195            55337.155277815465524             -0.0265386444\n",
      "IFUNC196            55340.655277732381364             -0.0272420637\n",
      "IFUNC197            55344.155277649297204             -0.0279411266\n",
      "IFUNC198            55347.655277612269856             -0.0286297462\n",
      "IFUNC199            55351.155277575242508             -0.0293028875\n",
      "IFUNC200            55354.655277554535132             -0.0299568196\n",
      "IFUNC201            55358.155277533827757             -0.0305891356\n",
      "IFUNC202            55361.655277527584985             -0.0311985564\n",
      "IFUNC203             55365.15527752134949             -0.0317845906\n",
      "IFUNC204            55368.655277462865342             -0.0323471627\n",
      "IFUNC205            55372.155277404381195             -0.0328863318\n",
      "IFUNC206            55375.655277454352472             -0.0334021988\n",
      "IFUNC207            55379.155277504331025              -0.033895045\n",
      "IFUNC208            55382.655277586600278             -0.0343656723\n",
      "IFUNC209             55386.15527766886953             -0.0348158387\n",
      "IFUNC210             55389.65527756018855             -0.0352486368\n",
      "IFUNC211            55393.155277451507573             -0.0356686464\n",
      "IFUNC212            55396.655277623212896             -0.0360817324\n",
      "IFUNC213            55400.155277794925496             -0.0364944334\n",
      "IFUNC214            55403.655277640151326             -0.0369129977\n",
      "IFUNC215            55407.155277485377155             -0.0373422256\n",
      "IFUNC216             55410.65527764173021             -0.0377843613\n",
      "IFUNC217             55414.15527779808326             -0.0382383077\n",
      "IFUNC218             55417.65527773128997              -0.038699401\n",
      "IFUNC219            55421.155277664503956             -0.0391598897\n",
      "IFUNC220            55424.655277627105534             -0.0396101128\n",
      "IFUNC221            55428.155277589699836             -0.0400402209\n",
      "IFUNC222            55431.655277520134405               -0.04044214\n",
      "IFUNC223            55435.155277450568974             -0.0408113972\n",
      "IFUNC224             55438.65527741562255             -0.0411484199\n",
      "IFUNC225            55442.155277380676125             -0.0414589996\n",
      "IFUNC226            55445.655277518679213             -0.0417537635\n",
      "IFUNC227              55449.1552776566823             -0.0420466905\n",
      "IFUNC228             55452.65527753173228             -0.0423529049\n",
      "IFUNC229             55456.15527740678226             -0.0426861379\n",
      "IFUNC230            55459.655277552425105             -0.0430563265\n",
      "IFUNC231            55463.155277698060672             -0.0434678084\n",
      "IFUNC232            55466.655277582387498             -0.0439184594\n",
      "IFUNC233            55470.155277466714324             -0.0443999464\n",
      "IFUNC234             55473.65527760592522             -0.0448990496\n",
      "IFUNC235            55477.155277745136118             -0.0453998073\n",
      "IFUNC236            55480.655277609243058             -0.0458860856\n",
      "IFUNC237             55484.15527747334272             -0.0463441024\n",
      "IFUNC238            55487.655277556543297             -0.0467644652\n",
      "IFUNC239            55491.155277639743872             -0.0471433894\n",
      "IFUNC240            55494.655277688099886             -0.0474829363\n",
      "IFUNC241              55498.1552777364559             -0.0477902987\n",
      "IFUNC242            55501.655277725556516             -0.0480763359\n",
      "IFUNC243             55505.15527771465713             -0.0483536748\n",
      "IFUNC244             55508.65527761181147             -0.0486347412\n",
      "IFUNC245             55512.15527750896581             -0.0489300549\n",
      "IFUNC246            55515.655277577519882             -0.0492470276\n",
      "IFUNC247             55519.15527764606668             -0.0495893803\n",
      "IFUNC248            55522.655277538382506             -0.0499571634\n",
      "IFUNC249            55526.155277430691058             -0.0503472601\n",
      "IFUNC250             55529.65527740361722             -0.0507541932\n",
      "IFUNC251             55533.15527737654338              -0.051171045\n",
      "IFUNC252             55536.65527740773541             -0.0515903325\n",
      "IFUNC253            55540.155277438927442               -0.05200474\n",
      "IFUNC254            55543.655277548772574             -0.0524076749\n",
      "IFUNC255            55547.155277658624982              -0.052793661\n",
      "IFUNC256            55550.655277717603894             -0.0531586088\n",
      "IFUNC257            55554.155277776590083             -0.0534999973\n",
      "IFUNC258            55557.655277597026725             -0.0538169778\n",
      "IFUNC259            55561.155277417463367             -0.0541103805\n",
      "IFUNC260             55564.65527759277029             -0.0543825864\n",
      "IFUNC261            55568.155277768077212             -0.0546372254\n",
      "IFUNC262             55571.65527770556946             -0.0548786915\n",
      "IFUNC263            55575.155277643068985             -0.0551115101\n",
      "IFUNC264            55578.655277654295787             -0.0553396444\n",
      "IFUNC265             55582.15527766552259             -0.0555658679\n",
      "IFUNC266            55585.655277551850304             -0.0557913414\n",
      "IFUNC267            55589.155277438170742             -0.0560155097\n",
      "IFUNC268            55592.655277487065177             -0.0562363706\n",
      "IFUNC269            55596.155277535959613             -0.0564510854\n",
      "IFUNC270            55599.655277591948106              -0.056656815\n",
      "IFUNC271              55603.1552776479366             -0.0568515941\n",
      "IFUNC272              55606.6552775713717             -0.0570350345\n",
      "IFUNC273             55610.15527749479952             -0.0572086685\n",
      "IFUNC274            55613.655277529927844             -0.0573758203\n",
      "IFUNC275            55617.155277565056167             -0.0575410009\n",
      "IFUNC276            55620.655277520650998             -0.0577089367\n",
      "IFUNC277            55624.155277476253104             -0.0578834426\n",
      "IFUNC278             55627.65527759111137             -0.0580663954\n",
      "IFUNC279            55631.155277705976914              -0.058257057\n",
      "IFUNC280            55634.655277653495432              -0.058451922\n",
      "IFUNC281            55638.155277601021226             -0.0586451473\n",
      "IFUNC282             55641.65527759346878             -0.0588294854\n",
      "IFUNC283            55645.155277585916338             -0.0589975232\n",
      "IFUNC284            55648.655277487589046             -0.0591429528\n",
      "IFUNC285             55652.15527738926903             -0.0592615938\n",
      "IFUNC286            55655.655277411889983             -0.0593519447\n",
      "IFUNC287             55659.15527743450366             -0.0594151587\n",
      "IFUNC288            55662.655277379824838             -0.0594544783\n",
      "IFUNC289            55666.155277325146017             -0.0594742978\n",
      "IFUNC290             55669.65527745315194              -0.059479107\n",
      "IFUNC291             55673.15527758115786             -0.0594725976\n",
      "IFUNC292            55676.655277607285825             -0.0594571562\n",
      "IFUNC293             55680.15527763341379             -0.0594338613\n",
      "IFUNC294            55683.655277650053904             -0.0594029553\n",
      "IFUNC295             55687.15527766669402             -0.0593646277\n",
      "IFUNC296            55690.655277617668617             -0.0593198499\n",
      "IFUNC297            55694.155277568635938             -0.0592709791\n",
      "IFUNC298            55697.655277649922937             -0.0592219001\n",
      "IFUNC299             55701.15527773121721             -0.0591775955\n",
      "IFUNC300            55704.655277669837233             -0.0591431899\n",
      "IFUNC301            55708.155277608457254             -0.0591226662\n",
      "IFUNC302            55711.655277635647508             -0.0591175611\n",
      "IFUNC303             55715.15527766283776             -0.0591259801\n",
      "IFUNC304            55718.655277610938356             -0.0591422166\n",
      "IFUNC305             55722.15527755903895             -0.0591571318\n",
      "IFUNC306            55725.655277585705335             -0.0591592724\n",
      "IFUNC307             55729.15527761237172             -0.0591365242\n",
      "IFUNC308            55732.655277568570455             -0.0590779604\n",
      "IFUNC309             55736.15527752476919             -0.0589754855\n",
      "IFUNC310             55739.65527761002886             -0.0588249092\n",
      "IFUNC311             55743.15527769529581             -0.0586262137\n",
      "IFUNC312            55746.655277560646937               -0.05838296\n",
      "IFUNC313            55750.155277425998065             -0.0581009822\n",
      "IFUNC314             55753.65527741814003             -0.0577866851\n",
      "IFUNC315            55757.155277410281997             -0.0574453503\n",
      "IFUNC316            55760.655277447665867             -0.0570798486\n",
      "IFUNC317            55764.155277485057013              -0.056690052\n",
      "IFUNC318            55767.655277616955573             -0.0562730563\n",
      "IFUNC319            55771.155277748854132             -0.0558241265\n",
      "IFUNC320             55774.65527763334103             -0.0553380903\n",
      "IFUNC321             55778.15527751782065             -0.0548107978\n",
      "IFUNC322            55781.655277598809334             -0.0542402529\n",
      "IFUNC323            55785.155277679790743             -0.0536271112\n",
      "IFUNC324            55788.655277596320957             -0.0529744078\n",
      "IFUNC325             55792.15527751285117             -0.0522865859\n",
      "IFUNC326             55795.65527752215712             -0.0515680834\n",
      "IFUNC327            55799.155277531470347             -0.0508218596\n",
      "IFUNC328            55802.655277587466117             -0.0500482667\n",
      "IFUNC329            55806.155277643461886             -0.0492445898\n",
      "IFUNC330            55809.655277713893156             -0.0484054111\n",
      "IFUNC331            55813.155277784324426             -0.0475237415\n",
      "IFUNC332             55816.65527775180817             -0.0465926607\n",
      "IFUNC333            55820.155277719291917             -0.0456070674\n",
      "IFUNC334            55823.655277728314104             -0.0445651041\n",
      "IFUNC335             55827.15527773733629             -0.0434688883\n",
      "IFUNC336            55830.655277633544756             -0.0423243552\n",
      "IFUNC337            55834.155277529760497             -0.0411402322\n",
      "IFUNC338            55837.655277485559054             -0.0399263868\n",
      "IFUNC339             55841.15527744135761             -0.0386919494\n",
      "IFUNC340             55844.65527742545237              -0.037443669\n",
      "IFUNC341             55848.15527740953985             -0.0361849077\n",
      "IFUNC342             55851.65527742494305              -0.034915514\n",
      "IFUNC343            55855.155277440338978             -0.0336325934\n",
      "IFUNC344            55858.655277526937425             -0.0323319639\n",
      "IFUNC345            55862.155277613528597             -0.0310099033\n",
      "IFUNC346            55865.655277605597803             -0.0296647218\n",
      "IFUNC347            55869.155277597659733             -0.0282977333\n",
      "IFUNC348            55872.655277560363174             -0.0269133561\n",
      "IFUNC349            55876.155277523066616             -0.0255183033\n",
      "IFUNC350            55879.655277590980404             -0.0241200676\n",
      "IFUNC351            55883.155277658894192             -0.0227250998\n",
      "IFUNC352            55886.655277676974947             -0.0213371766\n",
      "IFUNC353            55890.155277695062978             -0.0199564204\n",
      "IFUNC354            55893.655277558711532             -0.0185792764\n",
      "IFUNC355            55897.155277422367362             -0.0171995109\n",
      "IFUNC356            55900.655277594421932             -0.0158100272\n",
      "IFUNC357              55904.1552777664765             -0.0144050687\n",
      "IFUNC358            55907.655277760444733             -0.0129822563\n",
      "IFUNC359            55911.155277754412964             -0.0115439202\n",
      "IFUNC360              55914.6552777096731             -0.0100973396\n",
      "IFUNC361             55918.15527766492596             -0.0086537572\n",
      "IFUNC362            55921.655277594203653             -0.0072263384\n",
      "IFUNC363            55925.155277523481345             -0.0058275109\n",
      "IFUNC364             55928.65527751112677             -0.0044662962\n",
      "IFUNC365             55932.15527749877947             -0.0031462686\n",
      "IFUNC366             55935.65527748275781             -0.0018646538\n",
      "IFUNC367            55939.155277466736152              -0.000612826\n",
      "IFUNC368            55942.655277474921604              0.0006218602\n",
      "IFUNC369             55946.15527748309978              0.0018532795\n",
      "IFUNC370            55949.655277427169494              0.0030933951\n",
      "IFUNC371            55953.155277371239208              0.0043494644\n",
      "IFUNC372            55956.655277564554126              0.0056222182\n",
      "IFUNC373             55960.15527775787632               0.006905419\n",
      "IFUNC374             55963.65527762412239              0.0081868939\n",
      "IFUNC375            55967.155277490375738              0.0094508009\n",
      "IFUNC376            55970.655277571560873              0.0106806097\n",
      "IFUNC377            55974.155277652753284              0.0118621316\n",
      "IFUNC378            55977.655277596393717              0.0129859327\n",
      "IFUNC379            55981.155277540041425              0.0140486292\n",
      "IFUNC380            55984.655277499994554              0.0150528352\n",
      "IFUNC381            55988.155277459947683              0.0160058531\n",
      "IFUNC382             55991.65527745651343              0.0169174832\n",
      "IFUNC383            55995.155277453071903              0.0177975178\n",
      "IFUNC384             55998.65527759964607              0.0186535247\n",
      "IFUNC385            56002.155277746220236              0.0194894228\n",
      "IFUNC386            56005.655277726858913              0.0203051261\n",
      "IFUNC387             56009.15527770749759              0.0210972517\n",
      "IFUNC388            56012.655277667348855              0.0218606155\n",
      "IFUNC389            56016.155277627192845              0.0225900577\n",
      "IFUNC390            56019.655277565077995              0.0232820745\n",
      "IFUNC391            56023.155277502963145              0.0239358176\n",
      "IFUNC392            56026.655277617312095              0.0245532108\n",
      "IFUNC393             56030.15527773166832              0.0251381909\n",
      "IFUNC394            56033.655277626909083              0.0256953256\n",
      "IFUNC395             56037.15527752214257              0.0262282314\n",
      "IFUNC396            56040.655277548736194              0.0267382706\n",
      "IFUNC397            56044.155277575322543              0.0272239272\n",
      "IFUNC398            56047.655277636476967              0.0276810684\n",
      "IFUNC399            56051.155277697624115              0.0281040519\n",
      "IFUNC400            56054.655277707162895              0.0284873961\n",
      "IFUNC401             56058.15527771670895              0.0288275605\n",
      "IFUNC402             56061.65527768755419              0.0291243393\n",
      "IFUNC403            56065.155277658399427              0.0293814576\n",
      "IFUNC404             56068.65527756276424              0.0296061624\n",
      "IFUNC405            56072.155277467129054              0.0298078693\n",
      "IFUNC406            56075.655277584715805              0.0299961857\n",
      "IFUNC407            56079.155277702302556              0.0301788122\n",
      "IFUNC408            56082.655277609854238              0.0303598862\n",
      "IFUNC409            56086.155277517398645              0.0305392368\n",
      "IFUNC410            56089.655277494894108               0.030712806\n",
      "IFUNC411            56093.155277472382295              0.0308741963\n",
      "IFUNC412            56096.655277446552645              0.0310170092\n",
      "IFUNC413            56100.155277420722996              0.0311374191\n",
      "IFUNC414             56103.65527457917051               0.031236335\n",
      "IFUNC415            56107.155271737610747              0.0313205749\n",
      "IFUNC416             56110.65526882973063              0.0314026948\n",
      "IFUNC417            56114.155265921843238              0.0314994271\n",
      "IFUNC418            56117.655265953449998              0.0316290201\n",
      "IFUNC419            56121.155265985056758              0.0318080433\n",
      "IFUNC420            56124.655265944529674              0.0320483681\n",
      "IFUNC421             56128.15526590400259              0.0323550102\n",
      "IFUNC422            56131.655266009634943              0.0327253306\n",
      "IFUNC423             56135.15526611526002              0.0331497835\n",
      "IFUNC424            56138.655266129309894              0.0336140404\n",
      "IFUNC425            56142.155266143359768              0.0341020005\n",
      "IFUNC426            56145.655266119625594              0.0345989941\n",
      "IFUNC427            56149.155266095884144               0.035094444\n",
      "IFUNC428             56152.65526607207721              0.0355833899\n",
      "IFUNC429            56156.155266048270278              0.0360665527\n",
      "IFUNC430            56159.655266132118413              0.0365489699\n",
      "IFUNC431            56163.155266215973825               0.037037573\n",
      "IFUNC432             56166.65526606790081              0.0375383226\n",
      "IFUNC433            56170.155265919827798              0.0380536146\n",
      "IFUNC434             56173.65526586335909              0.0385805901\n",
      "IFUNC435            56177.155265806890384              0.0391107516\n",
      "IFUNC436            56180.655265831868746              0.0396309672\n",
      "IFUNC437            56184.155265856854385              0.0401256021\n",
      "IFUNC438            56187.655265839792264              0.0405792556\n",
      "IFUNC439            56191.155265822730144              0.0409794449\n",
      "IFUNC440            56194.655265896886704               0.041318609\n",
      "IFUNC441            56198.155265971043264              0.0415949925\n",
      "IFUNC442            56201.655266075220425              0.0418122564\n",
      "IFUNC443             56205.15526617940486               0.041977982\n",
      "IFUNC444            56208.655266111381934              0.0421015027\n",
      "IFUNC445            56212.155266043366282              0.0421916479\n",
      "IFUNC446             56215.65526600643352              0.0422549827\n",
      "IFUNC447            56219.155265969508037              0.0422949701\n",
      "IFUNC448            56222.655266090609075              0.0423122252\n",
      "IFUNC449            56226.155266211702838               0.042305728\n",
      "IFUNC450             56229.65526610976667              0.0422746008\n",
      "IFUNC451            56233.155266007830505              0.0422199011\n",
      "IFUNC452            56236.655265907829744              0.0421458751\n",
      "IFUNC453            56240.155265807828982              0.0420602567\n",
      "IFUNC454            56243.655265853558376              0.0419734517\n",
      "IFUNC455             56247.15526589928777              0.0418967488\n",
      "IFUNC456            56250.655266013804066              0.0418399675\n",
      "IFUNC457            56254.155266128320363              0.0418091232\n",
      "IFUNC458            56257.655266037043475              0.0418047102\n",
      "IFUNC459            56261.155265945773863               0.041821075\n",
      "IFUNC460             56264.65526598766155              0.0418470939\n",
      "IFUNC461             56268.15526602954924              0.0418680581\n",
      "IFUNC462             56271.65526605728519              0.0418683689\n",
      "IFUNC463            56275.155266085028416              0.0418344462\n",
      "IFUNC464            56278.655266072048107              0.0417571885\n",
      "IFUNC465            56282.155266059075075              0.0416334269\n",
      "IFUNC466            56285.655266032081272              0.0414660489\n",
      "IFUNC467             56289.15526600508747              0.0412627846\n",
      "IFUNC468             56292.65526600087469              0.0410339637\n",
      "IFUNC469             56296.15526599666191              0.0407897941\n",
      "IFUNC470            56299.655265903980762              0.0405378178\n",
      "IFUNC471            56303.155265811299614              0.0402811491\n",
      "IFUNC472            56306.655265987974417               0.040017899\n",
      "IFUNC473            56310.155266164656496              0.0397419003\n",
      "IFUNC474            56313.655266140092863              0.0394445234\n",
      "IFUNC475            56317.155266115536506              0.0391171185\n",
      "IFUNC476             56320.65526618515287              0.0387534668\n",
      "IFUNC477             56324.15526625476923               0.038351638\n",
      "IFUNC478            56327.655266157191363              0.0379148004\n",
      "IFUNC479             56331.15526605962077               0.037450794\n",
      "IFUNC480             56334.65526614817645              0.0369705805\n",
      "IFUNC481            56338.155266236732132              0.0364859534\n",
      "IFUNC482            56341.655266139277956              0.0360070595\n",
      "IFUNC483             56345.15526604182378              0.0355403174\n",
      "IFUNC484            56348.655266090463556              0.0350872059\n",
      "IFUNC485            56352.155266139103333              0.0346441705\n",
      "IFUNC486            56355.655266026420577               0.034203618\n",
      "IFUNC487            56359.155265913730545              0.0337557112\n",
      "IFUNC488            56362.655266016001406              0.0332904904\n",
      "IFUNC489             56366.15526611826499              0.0327997955\n",
      "IFUNC490             56369.65526606603089              0.0322785394\n",
      "IFUNC491            56373.155266013789515              0.0317250704\n",
      "IFUNC492              56376.6552659367444               0.031140615\n",
      "IFUNC493            56380.155265859699284              0.0305280289\n",
      "IFUNC494             56383.65526593948016              0.0298902681\n",
      "IFUNC495             56387.15526601926831              0.0292290483\n",
      "IFUNC496             56390.65526600308658              0.0285441037\n",
      "IFUNC497            56394.155265986912127              0.0278332834\n",
      "IFUNC498            56397.655266003654106              0.0270934874\n",
      "IFUNC499             56401.15526602040336              0.0263222124\n",
      "IFUNC500             56404.65526601777674              0.0255192969\n",
      "IFUNC501             56408.15526601515012              0.0246883859\n",
      "IFUNC502             56411.65526601091551              0.0238376849\n",
      "IFUNC503             56415.15526600668818              0.0229797366\n",
      "IFUNC504            56418.655265940942627              0.0221301853\n",
      "IFUNC505            56422.155265875197074              0.0213057369\n",
      "IFUNC506            56425.655265918030636               0.020521722\n",
      "IFUNC507              56429.1552659608642              0.0197897692\n",
      "IFUNC508            56432.655266090485384              0.0191160761\n",
      "IFUNC509             56436.15526622010657              0.0185006375\n",
      "IFUNC510            56439.655266186491644               0.017937575\n",
      "IFUNC511             56443.15526615287672               0.017416474\n",
      "IFUNC512            56446.655266068039055              0.0169244242\n",
      "IFUNC513            56450.155265983194113              0.0164483212\n",
      "IFUNC514            56453.655265941895777              0.0159769638\n",
      "IFUNC515            56457.155265900597442               0.015502553\n",
      "IFUNC516            56460.655265873014287              0.0150213636\n",
      "IFUNC517             56464.15526584543113              0.0145335544\n",
      "IFUNC518            56467.655265942550614              0.0140422723\n",
      "IFUNC519            56471.155266039670096              0.0135523423\n",
      "IFUNC520            56474.655265930035966              0.0130688842\n",
      "IFUNC521            56478.155265820409113              0.0125961635\n",
      "IFUNC522            56481.655265973015048              0.0121368815\n",
      "IFUNC523            56485.155266125620983              0.0116919664\n",
      "IFUNC524            56488.655266096655396              0.0112607949\n",
      "IFUNC525            56492.155266067682533              0.0108416747\n",
      "IFUNC526            56495.655266029607446              0.0104323877\n",
      "IFUNC527            56499.155265991525084              0.0100306212\n",
      "IFUNC528            56502.655265966553998              0.0096341929\n",
      "IFUNC529            56506.155265941575635              0.0092410735\n",
      "IFUNC530             56509.65526595153642               0.008849292\n",
      "IFUNC531            56513.155265961504483              0.0084568539\n",
      "IFUNC532             56516.65526598867291              0.0080617905\n",
      "IFUNC533             56520.15526601584861              0.0076623975\n",
      "IFUNC534            56523.655266085879703              0.0072576367\n",
      "IFUNC535            56527.155266155910795              0.0068475859\n",
      "IFUNC536            56530.655265990564658              0.0064337758\n",
      "IFUNC537             56534.15526582521852              0.0060192501\n",
      "IFUNC538             56537.65526601360034              0.0056082516\n",
      "IFUNC539            56541.155266201974882              0.0052055435\n",
      "IFUNC540             56544.65526614661212              0.0048154973\n",
      "IFUNC541             56548.15526609124936              0.0044411843\n",
      "IFUNC542            56551.655265946988948              0.0040837503\n",
      "IFUNC543            56555.155265802728536              0.0037423212\n",
      "IFUNC544             56558.65526598260476              0.0034145784\n",
      "IFUNC545             56562.15526616247371              0.0030979705\n",
      "IFUNC546            56565.655266010966443              0.0027913441\n",
      "IFUNC547              56569.1552658594519              0.0024966239\n",
      "IFUNC548             56572.65526600497833              0.0022200923\n",
      "IFUNC549            56576.155266150504758              0.0019728553\n",
      "IFUNC550            56579.655266085210314              0.0017702185\n",
      "IFUNC551            56583.155266019908595              0.0016299324\n",
      "IFUNC552            56586.655266019908595              0.0015695325\n",
      "IFUNC553            56590.155266019908595              0.0016032517\n",
      "IFUNC554            56593.655266019908595              0.0017391451\n",
      "IFUNC555            56597.155266019908595              0.0019771089\n",
      "IFUNC556            56600.655266019908595               0.002308367\n",
      "IFUNC557            56604.155266019908595              0.0027167581\n",
      "IFUNC558            56607.655266019908595              0.0031818254\n",
      "IFUNC559            56611.155266019908595              0.0036833228\n",
      "GLEP_1             55875.6754399999999980\n",
      "GLPH_1                                0.0\n",
      "GLF0_1              3.791986792292205e-07\n",
      "GLF1_1             -6.758471134475984e-14\n",
      "GLF2_1             -5.940109499759643e-22\n",
      "GLF0D_1             1.199959850289066e-06\n",
      "GLTD_1                 13.613075016131585\n",
      "PLANET_SHAPIRO                          N\n",
      "DM                  56.785579397589822356\n",
      "DM1               0.031279168349770640344\n",
      "DMEPOCH            55107.8071585532816240\n",
      "\n"
     ]
    },
    {
     "name": "stderr",
     "output_type": "stream",
     "text": [
      "/Users/mregeard/anaconda3/envs/gammapy-1.0-pint/lib/python3.9/site-packages/pint/models/model_builder.py:110: UserWarning: Unrecognized parfile line 'EPHVER 5'\n",
      "  warnings.warn(f\"Unrecognized parfile line '{p_line}'\", UserWarning)\n"
     ]
    }
   ],
   "source": [
    "model = pmodels.get_model(ephemeris_file)\n",
    "print(model)"
   ]
  },
  {
   "cell_type": "markdown",
   "id": "0f8cd0d8",
   "metadata": {},
   "source": [
    "There are multiple parameters such as the name of the source, the interval of validity of the model (START to FINISH), the frequencies of rotation and its derivatives (F0,F1,F2). There are other additional parameters that can be checked in the [PINT documentation](https://nanograv-pint.readthedocs.io)"
   ]
  },
  {
   "cell_type": "markdown",
   "id": "56a64435",
   "metadata": {},
   "source": [
    "Now we can compute the phases. For that, we define a list of TOA objects that are the main object of PINT."
   ]
  },
  {
   "cell_type": "code",
   "execution_count": 17,
   "id": "a145cdde",
   "metadata": {
    "scrolled": true
   },
   "outputs": [
    {
     "name": "stderr",
     "output_type": "stream",
     "text": [
      "2023-03-06 09:44:52.362 | DEBUG    | pint.toa:__init__:1327 - No pulse number flags found in the TOAs\n",
      "2023-03-06 09:44:52.372 | DEBUG    | pint.toa:apply_clock_corrections:2132 - Applying clock corrections (include_gps = False, include_bipm = False)\n",
      "2023-03-06 09:44:52.809 | INFO     | pint.observatory.topo_obs:clock_corrections:353 - Observatory magic requires no clock corrections.\n",
      "2023-03-06 09:44:55.126 | DEBUG    | pint.toa:compute_TDBs:2182 - Computing TDB columns.\n",
      "2023-03-06 09:44:55.127 | DEBUG    | pint.toa:compute_TDBs:2207 - Using EPHEM = DE421 for TDB calculation.\n",
      "2023-03-06 09:44:55.972 | DEBUG    | pint.toa:compute_posvels:2298 - Computing PosVels of observatories and Earth, using DE421\n",
      "2023-03-06 09:44:57.048 | INFO     | pint.solar_system_ephemerides:_load_kernel_link:53 - Set solar system ephemeris to de421 from download\n",
      "2023-03-06 09:44:58.067 | DEBUG    | pint.toa:compute_posvels:2353 - SSB obs pos [1.47007462e+11 2.56889811e+10 1.11245045e+10] m\n",
      "2023-03-06 09:44:58.886 | INFO     | pint.solar_system_ephemerides:_load_kernel_link:53 - Set solar system ephemeris to de421 from download\n",
      "2023-03-06 09:44:58.914 | DEBUG    | pint.toa:compute_posvels:2367 - Adding columns ssb_obs_pos ssb_obs_vel obs_sun_pos\n"
     ]
    },
    {
     "name": "stdout",
     "output_type": "stream",
     "text": [
      "CPU times: user 5.44 s, sys: 110 ms, total: 5.55 s\n",
      "Wall time: 7.26 s\n"
     ]
    }
   ],
   "source": [
    "%%time\n",
    "\n",
    "# Put these to True is your observatory has clock correction files. \n",
    "# If it is set to True but your observatory does not have clock correction files, it will be ignored.\n",
    "include_bipm = False\n",
    "include_gps = False\n",
    "\n",
    "# Set this to True or False depending on your ephemeris file.\n",
    "# Here we can see that the 'PLANET_SHAPIRO' entry is 'N' so we set it to True.\n",
    "planets = False\n",
    "\n",
    "# Create a TOA object for each time\n",
    "toa_list = list(toa.TOA(MJD=t, error=1 * u.microsecond, obs='magic') for t in times)\n",
    "\n",
    "# Create a TOAs object from a list of TOA\n",
    "ts = toa.get_TOAs_list(toa_list,\n",
    "                       ephem='DE421', \n",
    "                       include_gps=include_gps,  \n",
    "                       include_bipm=include_bipm, \n",
    "                       planets=planets) "
   ]
  },
  {
   "cell_type": "markdown",
   "id": "db97ea5b",
   "metadata": {},
   "source": [
    "Once we have the TOAs object and the model, the phases are easily computed using the model.phase() method. Note that the phases are computed in the interval [-0.5,0.5]. Most of the times, we use the phases in the interval [0,1] so we have to shift the negative ones."
   ]
  },
  {
   "cell_type": "code",
   "execution_count": 18,
   "id": "6fbf3ad9",
   "metadata": {},
   "outputs": [
    {
     "name": "stderr",
     "output_type": "stream",
     "text": [
      "2023-03-06 09:44:59.053 | DEBUG    | pint.models.glitch:glitch_phase:212 - Glitch phase for glitch 1: 0.0 \n",
      "2023-03-06 09:44:59.068 | DEBUG    | pint.models.absolute_phase:get_TZR_toa:97 - Creating and dealing with the single TZR_toa for absolute phase\n",
      "2023-03-06 09:44:59.069 | DEBUG    | pint.toa:__init__:1327 - No pulse number flags found in the TOAs\n",
      "2023-03-06 09:44:59.069 | DEBUG    | pint.toa:apply_clock_corrections:2132 - Applying clock corrections (include_gps = False, include_bipm = False)\n",
      "2023-03-06 09:44:59.070 | DEBUG    | pint.toa:compute_TDBs:2182 - Computing TDB columns.\n",
      "2023-03-06 09:44:59.070 | DEBUG    | pint.toa:compute_TDBs:2207 - Using EPHEM = DE421 for TDB calculation.\n",
      "2023-03-06 09:44:59.072 | DEBUG    | pint.toa:compute_posvels:2298 - Computing PosVels of observatories and Earth, using DE421\n",
      "2023-03-06 09:44:59.800 | INFO     | pint.solar_system_ephemerides:_load_kernel_link:53 - Set solar system ephemeris to de421 from download\n",
      "2023-03-06 09:44:59.814 | DEBUG    | pint.toa:compute_posvels:2353 - SSB obs pos [-1.49278181e+08  7.07659442e+06  3.07113250e+06] km\n",
      "2023-03-06 09:45:00.634 | INFO     | pint.solar_system_ephemerides:_load_kernel_link:53 - Set solar system ephemeris to de421 from download\n",
      "2023-03-06 09:45:00.645 | DEBUG    | pint.toa:compute_posvels:2367 - Adding columns ssb_obs_pos ssb_obs_vel obs_sun_pos\n",
      "2023-03-06 09:45:00.649 | DEBUG    | pint.models.absolute_phase:get_TZR_toa:110 - Done with TZR_toa\n",
      "2023-03-06 09:45:00.732 | DEBUG    | pint.models.glitch:glitch_phase:212 - Glitch phase for glitch 1: 0.0 \n"
     ]
    }
   ],
   "source": [
    "# Compute phases\n",
    "phases = model.phase(ts,abs_phase=True)[1]\n",
    "                \n",
    "# Shift phases to the interval (0,1]\n",
    "phases = np.where(phases < 0.0 , phases + 1.0 , phases)"
   ]
  },
  {
   "cell_type": "markdown",
   "id": "466a291e",
   "metadata": {},
   "source": [
    "## 3. Adding phases and metadata to an EventList and put it in a new Observation. "
   ]
  },
  {
   "cell_type": "markdown",
   "id": "9edcf15f",
   "metadata": {},
   "source": [
    "Once the phases are computed we need to create a new EventList table that includes both the original information of the events and the phase information in extra columns. This is necessary for Gammapy to read the phases and use them as an extra variable of each event."
   ]
  },
  {
   "cell_type": "code",
   "execution_count": 19,
   "id": "735ac718",
   "metadata": {},
   "outputs": [],
   "source": [
    "# Extract the table of the EventList\n",
    "table = observation.events.table"
   ]
  },
  {
   "cell_type": "code",
   "execution_count": 20,
   "id": "f3269a2c",
   "metadata": {
    "scrolled": false
   },
   "outputs": [
    {
     "data": {
      "text/html": [
       "<div><i>Table length=11189</i>\n",
       "<table id=\"table6182399760\" class=\"table-striped table-bordered table-condensed\">\n",
       "<thead><tr><th>EVENT_ID</th><th>TIME</th><th>RA</th><th>DEC</th><th>ENERGY</th></tr></thead>\n",
       "<thead><tr><th></th><th>s</th><th>deg</th><th>deg</th><th>TeV</th></tr></thead>\n",
       "<thead><tr><th>int64</th><th>float64</th><th>float32</th><th>float32</th><th>float32</th></tr></thead>\n",
       "<tr><td>2402</td><td>333778852.5099249</td><td>84.59457</td><td>22.03088</td><td>0.18194601</td></tr>\n",
       "<tr><td>2408</td><td>333778852.5267153</td><td>84.21462</td><td>23.44914</td><td>0.08397394</td></tr>\n",
       "<tr><td>2434</td><td>333778852.61315054</td><td>83.524704</td><td>22.725792</td><td>0.10596932</td></tr>\n",
       "<tr><td>2445</td><td>333778852.6690142</td><td>83.76957</td><td>22.451006</td><td>0.19733498</td></tr>\n",
       "<tr><td>2478</td><td>333778852.7627939</td><td>83.478516</td><td>23.484594</td><td>0.08522219</td></tr>\n",
       "<tr><td>2481</td><td>333778852.7778549</td><td>83.71517</td><td>21.985115</td><td>1.0020943</td></tr>\n",
       "<tr><td>2513</td><td>333778852.8644467</td><td>82.421196</td><td>22.567652</td><td>0.14374068</td></tr>\n",
       "<tr><td>2544</td><td>333778852.9826064</td><td>83.64136</td><td>22.041315</td><td>0.10316629</td></tr>\n",
       "<tr><td>2559</td><td>333778853.0269414</td><td>84.069176</td><td>22.97337</td><td>0.047184493</td></tr>\n",
       "<tr><td>2561</td><td>333778853.0339344</td><td>84.84237</td><td>22.175398</td><td>0.118843034</td></tr>\n",
       "<tr><td>2612</td><td>333778853.20117164</td><td>82.21805</td><td>21.617695</td><td>0.2293238</td></tr>\n",
       "<tr><td>2666</td><td>333778853.3477573</td><td>83.10489</td><td>22.165325</td><td>0.13139088</td></tr>\n",
       "<tr><td>2687</td><td>333778853.42124623</td><td>84.232056</td><td>22.624523</td><td>0.12255095</td></tr>\n",
       "<tr><td>2744</td><td>333778853.6358385</td><td>83.538376</td><td>23.062138</td><td>0.05365582</td></tr>\n",
       "<tr><td>2773</td><td>333778853.72578907</td><td>83.128845</td><td>22.573744</td><td>0.060143396</td></tr>\n",
       "<tr><td>2846</td><td>333778853.9389342</td><td>84.5564</td><td>21.062351</td><td>0.078672685</td></tr>\n",
       "<tr><td>2848</td><td>333778853.94359934</td><td>84.63283</td><td>22.767942</td><td>0.066196926</td></tr>\n",
       "<tr><td>2917</td><td>333778854.18804204</td><td>84.70885</td><td>22.951252</td><td>0.16177177</td></tr>\n",
       "<tr><td>2962</td><td>333778854.3340173</td><td>84.176834</td><td>22.481804</td><td>0.19015822</td></tr>\n",
       "<tr><td>...</td><td>...</td><td>...</td><td>...</td><td>...</td></tr>\n",
       "<tr><td>356033</td><td>333780038.87027675</td><td>84.868324</td><td>22.122936</td><td>0.053648368</td></tr>\n",
       "<tr><td>356036</td><td>333780038.89050585</td><td>84.28431</td><td>22.485682</td><td>0.1434038</td></tr>\n",
       "<tr><td>356064</td><td>333780038.9660876</td><td>83.56388</td><td>23.119524</td><td>0.044686373</td></tr>\n",
       "<tr><td>356068</td><td>333780038.9721074</td><td>85.152534</td><td>22.07673</td><td>0.16445196</td></tr>\n",
       "<tr><td>356116</td><td>333780039.1024301</td><td>84.09231</td><td>22.101425</td><td>0.074603334</td></tr>\n",
       "<tr><td>356125</td><td>333780039.1388719</td><td>84.2133</td><td>22.039534</td><td>0.057559364</td></tr>\n",
       "<tr><td>356138</td><td>333780039.17792755</td><td>83.998665</td><td>22.431725</td><td>0.14909887</td></tr>\n",
       "<tr><td>356167</td><td>333780039.2743846</td><td>84.22705</td><td>22.348415</td><td>0.19341666</td></tr>\n",
       "<tr><td>356192</td><td>333780039.33778954</td><td>84.08523</td><td>22.571606</td><td>0.07879259</td></tr>\n",
       "<tr><td>356222</td><td>333780039.4520397</td><td>84.74482</td><td>20.894981</td><td>0.043312162</td></tr>\n",
       "<tr><td>356223</td><td>333780039.4600492</td><td>84.11615</td><td>22.557505</td><td>0.08110082</td></tr>\n",
       "<tr><td>356227</td><td>333780039.47105366</td><td>83.41534</td><td>21.67344</td><td>0.2096362</td></tr>\n",
       "<tr><td>356242</td><td>333780039.5179095</td><td>83.55165</td><td>22.772985</td><td>0.17672835</td></tr>\n",
       "<tr><td>356282</td><td>333780039.62997514</td><td>84.46133</td><td>21.69357</td><td>0.05068718</td></tr>\n",
       "<tr><td>356473</td><td>333780040.3386479</td><td>84.45441</td><td>21.159828</td><td>0.1831569</td></tr>\n",
       "<tr><td>356478</td><td>333780040.3548926</td><td>83.68336</td><td>23.444988</td><td>0.06305169</td></tr>\n",
       "<tr><td>356485</td><td>333780040.3741322</td><td>84.33517</td><td>21.28338</td><td>0.060539745</td></tr>\n",
       "<tr><td>356486</td><td>333780040.3755159</td><td>84.85886</td><td>22.116222</td><td>0.123453744</td></tr>\n",
       "<tr><td>356526</td><td>333780040.52476007</td><td>84.86929</td><td>21.290916</td><td>0.13630114</td></tr>\n",
       "</table></div>"
      ],
      "text/plain": [
       "<Table length=11189>\n",
       "EVENT_ID        TIME            RA       DEC       ENERGY  \n",
       "                 s             deg       deg        TeV    \n",
       " int64        float64        float32   float32    float32  \n",
       "-------- ------------------ --------- --------- -----------\n",
       "    2402  333778852.5099249  84.59457  22.03088  0.18194601\n",
       "    2408  333778852.5267153  84.21462  23.44914  0.08397394\n",
       "    2434 333778852.61315054 83.524704 22.725792  0.10596932\n",
       "    2445  333778852.6690142  83.76957 22.451006  0.19733498\n",
       "    2478  333778852.7627939 83.478516 23.484594  0.08522219\n",
       "    2481  333778852.7778549  83.71517 21.985115   1.0020943\n",
       "    2513  333778852.8644467 82.421196 22.567652  0.14374068\n",
       "    2544  333778852.9826064  83.64136 22.041315  0.10316629\n",
       "    2559  333778853.0269414 84.069176  22.97337 0.047184493\n",
       "    2561  333778853.0339344  84.84237 22.175398 0.118843034\n",
       "    2612 333778853.20117164  82.21805 21.617695   0.2293238\n",
       "    2666  333778853.3477573  83.10489 22.165325  0.13139088\n",
       "    2687 333778853.42124623 84.232056 22.624523  0.12255095\n",
       "    2744  333778853.6358385 83.538376 23.062138  0.05365582\n",
       "    2773 333778853.72578907 83.128845 22.573744 0.060143396\n",
       "    2846  333778853.9389342   84.5564 21.062351 0.078672685\n",
       "    2848 333778853.94359934  84.63283 22.767942 0.066196926\n",
       "    2917 333778854.18804204  84.70885 22.951252  0.16177177\n",
       "    2962  333778854.3340173 84.176834 22.481804  0.19015822\n",
       "     ...                ...       ...       ...         ...\n",
       "  356033 333780038.87027675 84.868324 22.122936 0.053648368\n",
       "  356036 333780038.89050585  84.28431 22.485682   0.1434038\n",
       "  356064  333780038.9660876  83.56388 23.119524 0.044686373\n",
       "  356068  333780038.9721074 85.152534  22.07673  0.16445196\n",
       "  356116  333780039.1024301  84.09231 22.101425 0.074603334\n",
       "  356125  333780039.1388719   84.2133 22.039534 0.057559364\n",
       "  356138 333780039.17792755 83.998665 22.431725  0.14909887\n",
       "  356167  333780039.2743846  84.22705 22.348415  0.19341666\n",
       "  356192 333780039.33778954  84.08523 22.571606  0.07879259\n",
       "  356222  333780039.4520397  84.74482 20.894981 0.043312162\n",
       "  356223  333780039.4600492  84.11615 22.557505  0.08110082\n",
       "  356227 333780039.47105366  83.41534  21.67344   0.2096362\n",
       "  356242  333780039.5179095  83.55165 22.772985  0.17672835\n",
       "  356282 333780039.62997514  84.46133  21.69357  0.05068718\n",
       "  356473  333780040.3386479  84.45441 21.159828   0.1831569\n",
       "  356478  333780040.3548926  83.68336 23.444988  0.06305169\n",
       "  356485  333780040.3741322  84.33517  21.28338 0.060539745\n",
       "  356486  333780040.3755159  84.85886 22.116222 0.123453744\n",
       "  356526 333780040.52476007  84.86929 21.290916  0.13630114"
      ]
     },
     "execution_count": 20,
     "metadata": {},
     "output_type": "execute_result"
    }
   ],
   "source": [
    "# Show original table\n",
    "table"
   ]
  },
  {
   "cell_type": "code",
   "execution_count": 21,
   "id": "6fc6024c",
   "metadata": {},
   "outputs": [],
   "source": [
    "# Add a column for the phases to the table\n",
    "table['PHASE'] = phases.astype('float64')"
   ]
  },
  {
   "cell_type": "markdown",
   "id": "309cc644",
   "metadata": {},
   "source": [
    "Note that you can add multiple columns to a same file, only the name of the column has to be unique, eg `table['PHASE_SRC1']`, `table['PHASE_SRC2']` etc\""
   ]
  },
  {
   "cell_type": "code",
   "execution_count": 22,
   "id": "7f29187e",
   "metadata": {
    "scrolled": false
   },
   "outputs": [
    {
     "data": {
      "text/html": [
       "<div><i>Table length=11189</i>\n",
       "<table id=\"table6182399760\" class=\"table-striped table-bordered table-condensed\">\n",
       "<thead><tr><th>EVENT_ID</th><th>TIME</th><th>RA</th><th>DEC</th><th>ENERGY</th><th>PHASE</th></tr></thead>\n",
       "<thead><tr><th></th><th>s</th><th>deg</th><th>deg</th><th>TeV</th><th></th></tr></thead>\n",
       "<thead><tr><th>int64</th><th>float64</th><th>float32</th><th>float32</th><th>float32</th><th>float64</th></tr></thead>\n",
       "<tr><td>2402</td><td>333778852.5099249</td><td>84.59457</td><td>22.03088</td><td>0.18194601</td><td>0.39349195931383935</td></tr>\n",
       "<tr><td>2408</td><td>333778852.5267153</td><td>84.21462</td><td>23.44914</td><td>0.08397394</td><td>0.8919526792392973</td></tr>\n",
       "<tr><td>2434</td><td>333778852.61315054</td><td>83.524704</td><td>22.725792</td><td>0.10596932</td><td>0.4579789031294724</td></tr>\n",
       "<tr><td>2445</td><td>333778852.6690142</td><td>83.76957</td><td>22.451006</td><td>0.19733498</td><td>0.11641860219368931</td></tr>\n",
       "<tr><td>2478</td><td>333778852.7627939</td><td>83.478516</td><td>23.484594</td><td>0.08522219</td><td>0.9004806857711186</td></tr>\n",
       "<tr><td>2481</td><td>333778852.7778549</td><td>83.71517</td><td>21.985115</td><td>1.0020943</td><td>0.34760116922550754</td></tr>\n",
       "<tr><td>2513</td><td>333778852.8644467</td><td>82.421196</td><td>22.567652</td><td>0.14374068</td><td>0.9182741001617851</td></tr>\n",
       "<tr><td>2544</td><td>333778852.9826064</td><td>83.64136</td><td>22.041315</td><td>0.10316629</td><td>0.4261124944482102</td></tr>\n",
       "<tr><td>2559</td><td>333778853.0269414</td><td>84.069176</td><td>22.97337</td><td>0.047184493</td><td>0.7422975124443432</td></tr>\n",
       "<tr><td>2561</td><td>333778853.0339344</td><td>84.84237</td><td>22.175398</td><td>0.118843034</td><td>0.9499004135732199</td></tr>\n",
       "<tr><td>2612</td><td>333778853.20117164</td><td>82.21805</td><td>21.617695</td><td>0.2293238</td><td>0.914715764718254</td></tr>\n",
       "<tr><td>2666</td><td>333778853.3477573</td><td>83.10489</td><td>22.165325</td><td>0.13139088</td><td>0.26644226141221616</td></tr>\n",
       "<tr><td>2687</td><td>333778853.42124623</td><td>84.232056</td><td>22.624523</td><td>0.12255095</td><td>0.4481280525780723</td></tr>\n",
       "<tr><td>2744</td><td>333778853.6358385</td><td>83.538376</td><td>23.062138</td><td>0.05365582</td><td>0.8187853857104989</td></tr>\n",
       "<tr><td>2773</td><td>333778853.72578907</td><td>83.128845</td><td>22.573744</td><td>0.060143396</td><td>0.489171332079635</td></tr>\n",
       "<tr><td>2846</td><td>333778853.9389342</td><td>84.5564</td><td>21.062351</td><td>0.078672685</td><td>0.816867006910445</td></tr>\n",
       "<tr><td>2848</td><td>333778853.94359934</td><td>84.63283</td><td>22.767942</td><td>0.066196926</td><td>0.9553621328435127</td></tr>\n",
       "<tr><td>2917</td><td>333778854.18804204</td><td>84.70885</td><td>22.951252</td><td>0.16177177</td><td>0.21219682330281667</td></tr>\n",
       "<tr><td>2962</td><td>333778854.3340173</td><td>84.176834</td><td>22.481804</td><td>0.19015822</td><td>0.5458018917889804</td></tr>\n",
       "<tr><td>...</td><td>...</td><td>...</td><td>...</td><td>...</td><td>...</td></tr>\n",
       "<tr><td>356033</td><td>333780038.87027675</td><td>84.868324</td><td>22.122936</td><td>0.053648368</td><td>0.18276416442524185</td></tr>\n",
       "<tr><td>356036</td><td>333780038.89050585</td><td>84.28431</td><td>22.485682</td><td>0.1434038</td><td>0.7833107384227094</td></tr>\n",
       "<tr><td>356064</td><td>333780038.9660876</td><td>83.56388</td><td>23.119524</td><td>0.044686373</td><td>0.027125113986569402</td></tr>\n",
       "<tr><td>356068</td><td>333780038.9721074</td><td>85.152534</td><td>22.07673</td><td>0.16445196</td><td>0.20583738672696805</td></tr>\n",
       "<tr><td>356116</td><td>333780039.1024301</td><td>84.09231</td><td>22.101425</td><td>0.074603334</td><td>0.07476098612929384</td></tr>\n",
       "<tr><td>356125</td><td>333780039.1388719</td><td>84.2133</td><td>22.039534</td><td>0.057559364</td><td>0.15661823626587118</td></tr>\n",
       "<tr><td>356138</td><td>333780039.17792755</td><td>83.998665</td><td>22.431725</td><td>0.14909887</td><td>0.31607329601145606</td></tr>\n",
       "<tr><td>356167</td><td>333780039.2743846</td><td>84.22705</td><td>22.348415</td><td>0.19341666</td><td>0.17961914317435548</td></tr>\n",
       "<tr><td>356192</td><td>333780039.33778954</td><td>84.08523</td><td>22.571606</td><td>0.07879259</td><td>0.061937365492268866</td></tr>\n",
       "<tr><td>356222</td><td>333780039.4520397</td><td>84.74482</td><td>20.894981</td><td>0.043312162</td><td>0.4537121484157113</td></tr>\n",
       "<tr><td>356223</td><td>333780039.4600492</td><td>84.11615</td><td>22.557505</td><td>0.08110082</td><td>0.6914920488703008</td></tr>\n",
       "<tr><td>356227</td><td>333780039.47105366</td><td>83.41534</td><td>21.67344</td><td>0.2096362</td><td>0.018183944316962984</td></tr>\n",
       "<tr><td>356242</td><td>333780039.5179095</td><td>83.55165</td><td>22.772985</td><td>0.17672835</td><td>0.40920620046641115</td></tr>\n",
       "<tr><td>356282</td><td>333780039.62997514</td><td>84.46133</td><td>21.69357</td><td>0.05068718</td><td>0.7361270955486778</td></tr>\n",
       "<tr><td>356473</td><td>333780040.3386479</td><td>84.45441</td><td>21.159828</td><td>0.1831569</td><td>0.7746789521146872</td></tr>\n",
       "<tr><td>356478</td><td>333780040.3548926</td><td>83.68336</td><td>23.444988</td><td>0.06305169</td><td>0.2569398572226654</td></tr>\n",
       "<tr><td>356485</td><td>333780040.3741322</td><td>84.33517</td><td>21.28338</td><td>0.060539745</td><td>0.8281109722104576</td></tr>\n",
       "<tr><td>356486</td><td>333780040.3755159</td><td>84.85886</td><td>22.116222</td><td>0.123453744</td><td>0.8691881135544401</td></tr>\n",
       "<tr><td>356526</td><td>333780040.52476007</td><td>84.86929</td><td>21.290916</td><td>0.13630114</td><td>0.29983901925054285</td></tr>\n",
       "</table></div>"
      ],
      "text/plain": [
       "<Table length=11189>\n",
       "EVENT_ID        TIME            RA       DEC       ENERGY          PHASE        \n",
       "                 s             deg       deg        TeV                         \n",
       " int64        float64        float32   float32    float32         float64       \n",
       "-------- ------------------ --------- --------- ----------- --------------------\n",
       "    2402  333778852.5099249  84.59457  22.03088  0.18194601  0.39349195931383935\n",
       "    2408  333778852.5267153  84.21462  23.44914  0.08397394   0.8919526792392973\n",
       "    2434 333778852.61315054 83.524704 22.725792  0.10596932   0.4579789031294724\n",
       "    2445  333778852.6690142  83.76957 22.451006  0.19733498  0.11641860219368931\n",
       "    2478  333778852.7627939 83.478516 23.484594  0.08522219   0.9004806857711186\n",
       "    2481  333778852.7778549  83.71517 21.985115   1.0020943  0.34760116922550754\n",
       "    2513  333778852.8644467 82.421196 22.567652  0.14374068   0.9182741001617851\n",
       "    2544  333778852.9826064  83.64136 22.041315  0.10316629   0.4261124944482102\n",
       "    2559  333778853.0269414 84.069176  22.97337 0.047184493   0.7422975124443432\n",
       "    2561  333778853.0339344  84.84237 22.175398 0.118843034   0.9499004135732199\n",
       "    2612 333778853.20117164  82.21805 21.617695   0.2293238    0.914715764718254\n",
       "    2666  333778853.3477573  83.10489 22.165325  0.13139088  0.26644226141221616\n",
       "    2687 333778853.42124623 84.232056 22.624523  0.12255095   0.4481280525780723\n",
       "    2744  333778853.6358385 83.538376 23.062138  0.05365582   0.8187853857104989\n",
       "    2773 333778853.72578907 83.128845 22.573744 0.060143396    0.489171332079635\n",
       "    2846  333778853.9389342   84.5564 21.062351 0.078672685    0.816867006910445\n",
       "    2848 333778853.94359934  84.63283 22.767942 0.066196926   0.9553621328435127\n",
       "    2917 333778854.18804204  84.70885 22.951252  0.16177177  0.21219682330281667\n",
       "    2962  333778854.3340173 84.176834 22.481804  0.19015822   0.5458018917889804\n",
       "     ...                ...       ...       ...         ...                  ...\n",
       "  356033 333780038.87027675 84.868324 22.122936 0.053648368  0.18276416442524185\n",
       "  356036 333780038.89050585  84.28431 22.485682   0.1434038   0.7833107384227094\n",
       "  356064  333780038.9660876  83.56388 23.119524 0.044686373 0.027125113986569402\n",
       "  356068  333780038.9721074 85.152534  22.07673  0.16445196  0.20583738672696805\n",
       "  356116  333780039.1024301  84.09231 22.101425 0.074603334  0.07476098612929384\n",
       "  356125  333780039.1388719   84.2133 22.039534 0.057559364  0.15661823626587118\n",
       "  356138 333780039.17792755 83.998665 22.431725  0.14909887  0.31607329601145606\n",
       "  356167  333780039.2743846  84.22705 22.348415  0.19341666  0.17961914317435548\n",
       "  356192 333780039.33778954  84.08523 22.571606  0.07879259 0.061937365492268866\n",
       "  356222  333780039.4520397  84.74482 20.894981 0.043312162   0.4537121484157113\n",
       "  356223  333780039.4600492  84.11615 22.557505  0.08110082   0.6914920488703008\n",
       "  356227 333780039.47105366  83.41534  21.67344   0.2096362 0.018183944316962984\n",
       "  356242  333780039.5179095  83.55165 22.772985  0.17672835  0.40920620046641115\n",
       "  356282 333780039.62997514  84.46133  21.69357  0.05068718   0.7361270955486778\n",
       "  356473  333780040.3386479  84.45441 21.159828   0.1831569   0.7746789521146872\n",
       "  356478  333780040.3548926  83.68336 23.444988  0.06305169   0.2569398572226654\n",
       "  356485  333780040.3741322  84.33517  21.28338 0.060539745   0.8281109722104576\n",
       "  356486  333780040.3755159  84.85886 22.116222 0.123453744   0.8691881135544401\n",
       "  356526 333780040.52476007  84.86929 21.290916  0.13630114  0.29983901925054285"
      ]
     },
     "execution_count": 22,
     "metadata": {},
     "output_type": "execute_result"
    }
   ],
   "source": [
    "# Show table with phases\n",
    "table"
   ]
  },
  {
   "cell_type": "markdown",
   "id": "227ab320",
   "metadata": {},
   "source": [
    "Now we can see that the 'PHASE' column has been added to the table"
   ]
  },
  {
   "cell_type": "markdown",
   "id": "ea9ba223",
   "metadata": {},
   "source": [
    "At this point, we also want to add meta data to the table. It is very useful to keep track of what has been done to the file. For instance, if we have multiple pulsars in the same file, we want to be able to know quickly which column correspond to which pulsar. Moreover, experience shows that one often use different ephemeris file for the same pulsar. Therefore it is very useful to have several phase columns in the same file and to be able to know which column correspond to which ephemeris file, parameters, etc.\n",
    "\n",
    "Since there is not yet a \"standard\" format for such metadata, we propose a template for the essential informations that one wants to save in the header of the event file. "
   ]
  },
  {
   "cell_type": "code",
   "execution_count": 23,
   "id": "af220557",
   "metadata": {
    "scrolled": false
   },
   "outputs": [
    {
     "data": {
      "text/plain": [
       "OrderedDict([('EXTNAME', 'EVENTS'),\n",
       "             ('HDUCLASS', 'GADF'),\n",
       "             ('HDUDOC',\n",
       "              'https://github.com/open-gamma-ray-astro/gamma-astro-data-formats'),\n",
       "             ('HDUVERS', '0.2'),\n",
       "             ('HDUCLAS1', 'EVENTS'),\n",
       "             ('OBS_ID', 5029747),\n",
       "             ('TSTART', 333778852.435217),\n",
       "             ('TSTOP', 333780040.546979),\n",
       "             ('ONTIME', 1188.111761868),\n",
       "             ('LIVETIME', 1178.06621791733),\n",
       "             ('DEADC', 0.991545),\n",
       "             ('EQUINOX', 2000.0),\n",
       "             ('RADECSYS', 'FK5'),\n",
       "             ('ORIGIN', 'MAGIC Collaboration'),\n",
       "             ('TELESCOP', 'MAGIC'),\n",
       "             ('INSTRUME', 'MAGIC stereo'),\n",
       "             ('CREATOR', 'MAGIC_DL3'),\n",
       "             ('VERSION', '0.1.8'),\n",
       "             ('MJDREFI', 52706),\n",
       "             ('MJDREFF', 0.0),\n",
       "             ('TIMEUNIT', 's'),\n",
       "             ('TIMESYS', 'UTC'),\n",
       "             ('TIMEREF', 'local'),\n",
       "             ('OBJECT', 'CrabNebula'),\n",
       "             ('RA_OBJ', 83.63333),\n",
       "             ('DEC_OBJ', 22.01444),\n",
       "             ('OBS_MODE', 'POINTING'),\n",
       "             ('RA_PNT', 83.98333),\n",
       "             ('DEC_PNT', 22.24389),\n",
       "             ('GEOLON', -17.89),\n",
       "             ('GEOLAT', 28.761944),\n",
       "             ('ALTITUDE', 2231.28),\n",
       "             ('ALT_PNT', 69.69974),\n",
       "             ('AZ_PNT', 103.8848)])"
      ]
     },
     "execution_count": 23,
     "metadata": {},
     "output_type": "execute_result"
    }
   ],
   "source": [
    "table.meta"
   ]
  },
  {
   "cell_type": "code",
   "execution_count": 24,
   "id": "c2285fcd",
   "metadata": {},
   "outputs": [],
   "source": [
    "def get_log(ephemeris_file , phase_column_name = 'PHASE'):\n",
    "    return ('COLUMN_PHASE: ' + str(phase_column_name) \n",
    "+ '; PINT_VERS: ' + pint.__version__ \n",
    "+ '; GAMMAPY_VERS: ' + gammapy.__version__ \n",
    "+ '; EPHEM_FILE: ' + ephemeris_file \n",
    "+ '; PSRJ :' + str(model.PSR.value) \n",
    "+ '; START: ' + str(model.START.value) \n",
    "+ '; FINISH: ' + str(model.FINISH.value) \n",
    "+ '; TZRMJD: ' + str(model.TZRMJD.value) \n",
    "+ '; TZRSITE: ' + str(model.TZRSITE.value) \n",
    "+ '; TZRFREQ: ' + str(model.TZRFRQ.value) \n",
    "+ '; EPHEM: ' + str(model.EPHEM.value) \n",
    "+ '; EPHEM_RA: ' + str(model.RAJ.value) \n",
    "+ '; EPHEM_DEC: ' + str(model.DECJ.value)\n",
    "+ '; PHASE_OFFSET: ' + 'default = 0'\n",
    "+ '; DATE: ' + str(Time.now().mjd) + ';')"
   ]
  },
  {
   "cell_type": "code",
   "execution_count": 25,
   "id": "8c866a5c",
   "metadata": {},
   "outputs": [
    {
     "name": "stdout",
     "output_type": "stream",
     "text": [
      "COLUMN_PHASE: PHASE; PINT_VERS: 0.9.3; GAMMAPY_VERS: 1.0; EPHEM_FILE: ./0534+2200_ApJ_708_1254_2010.par; PSRJ :J0534+2200; START: 54686.1526259; FINISH: 56583.1591704; TZRMJD: 55638.155277599951656; TZRSITE: coe; TZRFREQ: inf; EPHEM: DE405; EPHEM_RA: 5.575538888888889; EPHEM_DEC: 22.01447222222222; PHASE_OFFSET: default = 0; DATE: 60009.36459243983;\n"
     ]
    }
   ],
   "source": [
    "phase_log = get_log(ephemeris_file=ephemeris_file, phase_column_name = 'PHASE')\n",
    "print(phase_log)"
   ]
  },
  {
   "cell_type": "code",
   "execution_count": 26,
   "id": "5a3e56d2",
   "metadata": {},
   "outputs": [],
   "source": [
    "# Add the generated string to the meta data of the table\n",
    "table.meta['PH_LOG'] = phase_log"
   ]
  },
  {
   "cell_type": "code",
   "execution_count": 27,
   "id": "f6b44e25",
   "metadata": {},
   "outputs": [
    {
     "data": {
      "text/plain": [
       "OrderedDict([('EXTNAME', 'EVENTS'),\n",
       "             ('HDUCLASS', 'GADF'),\n",
       "             ('HDUDOC',\n",
       "              'https://github.com/open-gamma-ray-astro/gamma-astro-data-formats'),\n",
       "             ('HDUVERS', '0.2'),\n",
       "             ('HDUCLAS1', 'EVENTS'),\n",
       "             ('OBS_ID', 5029747),\n",
       "             ('TSTART', 333778852.435217),\n",
       "             ('TSTOP', 333780040.546979),\n",
       "             ('ONTIME', 1188.111761868),\n",
       "             ('LIVETIME', 1178.06621791733),\n",
       "             ('DEADC', 0.991545),\n",
       "             ('EQUINOX', 2000.0),\n",
       "             ('RADECSYS', 'FK5'),\n",
       "             ('ORIGIN', 'MAGIC Collaboration'),\n",
       "             ('TELESCOP', 'MAGIC'),\n",
       "             ('INSTRUME', 'MAGIC stereo'),\n",
       "             ('CREATOR', 'MAGIC_DL3'),\n",
       "             ('VERSION', '0.1.8'),\n",
       "             ('MJDREFI', 52706),\n",
       "             ('MJDREFF', 0.0),\n",
       "             ('TIMEUNIT', 's'),\n",
       "             ('TIMESYS', 'UTC'),\n",
       "             ('TIMEREF', 'local'),\n",
       "             ('OBJECT', 'CrabNebula'),\n",
       "             ('RA_OBJ', 83.63333),\n",
       "             ('DEC_OBJ', 22.01444),\n",
       "             ('OBS_MODE', 'POINTING'),\n",
       "             ('RA_PNT', 83.98333),\n",
       "             ('DEC_PNT', 22.24389),\n",
       "             ('GEOLON', -17.89),\n",
       "             ('GEOLAT', 28.761944),\n",
       "             ('ALTITUDE', 2231.28),\n",
       "             ('ALT_PNT', 69.69974),\n",
       "             ('AZ_PNT', 103.8848),\n",
       "             ('PH_LOG',\n",
       "              'COLUMN_PHASE: PHASE; PINT_VERS: 0.9.3; GAMMAPY_VERS: 1.0; EPHEM_FILE: ./0534+2200_ApJ_708_1254_2010.par; PSRJ :J0534+2200; START: 54686.1526259; FINISH: 56583.1591704; TZRMJD: 55638.155277599951656; TZRSITE: coe; TZRFREQ: inf; EPHEM: DE405; EPHEM_RA: 5.575538888888889; EPHEM_DEC: 22.01447222222222; PHASE_OFFSET: default = 0; DATE: 60009.36459243983;')])"
      ]
     },
     "execution_count": 27,
     "metadata": {},
     "output_type": "execute_result"
    }
   ],
   "source": [
    "table.meta"
   ]
  },
  {
   "cell_type": "markdown",
   "id": "26592cbb",
   "metadata": {},
   "source": [
    "Once this is done, we can put back the table in a new `EventList` object and in a new `Observation` object. "
   ]
  },
  {
   "cell_type": "code",
   "execution_count": 29,
   "id": "12545bff",
   "metadata": {},
   "outputs": [],
   "source": [
    "# Create new event list and add it to observation object\n",
    "new_event_list = EventList(table)\n",
    "new_obs = observation.copy(in_memory=True, events=new_event_list)"
   ]
  },
  {
   "cell_type": "markdown",
   "id": "934d147a",
   "metadata": {},
   "source": [
    "## 4. Save new Event List and writing a modify HDU index table"
   ]
  },
  {
   "cell_type": "markdown",
   "id": "e369d2dc",
   "metadata": {},
   "source": [
    "In the following, we show how to write the files in a directory contained in the original datastore directory. This follows the logic of DL3 data store and facilitate the manipulation of the HDU table.\n",
    "\n",
    "If one does not want to save the events files and directly perform the pulsar analysis, this step is not required as well as the step of the meta data handling. However, be aware that for large dataset, the computation of phases can take tens of minutes. "
   ]
  },
  {
   "cell_type": "code",
   "execution_count": 30,
   "id": "f3c8410c",
   "metadata": {},
   "outputs": [
    {
     "data": {
      "text/plain": [
       "PosixPath('/Users/mregeard/Workspace/data/gammapy-data/gammapy-datasets/dev/magic/rad_max/data')"
      ]
     },
     "execution_count": 30,
     "metadata": {},
     "output_type": "execute_result"
    }
   ],
   "source": [
    "data_store.hdu_table.base_dir"
   ]
  },
  {
   "cell_type": "code",
   "execution_count": 31,
   "id": "8fd2ce31",
   "metadata": {},
   "outputs": [],
   "source": [
    "# Define output directory and filename\n",
    "datastore_dir = str(data_store.hdu_table.base_dir) + '/'\n",
    "output_directory = 'pulsar_events_file/'\n",
    "output_path = datastore_dir + output_directory\n",
    "filename = f'dl3_pulsar_{observation.obs_id:04d}.fits.gz'\n",
    "file_path = output_path + filename\n",
    "\n",
    "Path(output_path).mkdir(parents=True, exist_ok=True)"
   ]
  },
  {
   "cell_type": "code",
   "execution_count": 32,
   "id": "e6e38fc1",
   "metadata": {},
   "outputs": [
    {
     "data": {
      "text/plain": [
       "'/Users/mregeard/Workspace/data/gammapy-data/gammapy-datasets/dev/magic/rad_max/data/pulsar_events_file/'"
      ]
     },
     "execution_count": 32,
     "metadata": {},
     "output_type": "execute_result"
    }
   ],
   "source": [
    "output_path"
   ]
  },
  {
   "cell_type": "code",
   "execution_count": 33,
   "id": "f339c797",
   "metadata": {
    "scrolled": true
   },
   "outputs": [
    {
     "name": "stdout",
     "output_type": "stream",
     "text": [
      "Writing outputfile in /Users/mregeard/Workspace/data/gammapy-data/gammapy-datasets/dev/magic/rad_max/data/pulsar_events_file/dl3_pulsar_5029747.fits.gz\n"
     ]
    }
   ],
   "source": [
    "# Save the observation object in the specified file_path\n",
    "print('Writing outputfile in '+str(file_path))\n",
    "observation.events.write(filename = file_path, gti = observation.gti, overwrite=True)"
   ]
  },
  {
   "cell_type": "markdown",
   "id": "7250c1af",
   "metadata": {},
   "source": [
    "Once the file has been written, we want to write a modified version of the HDU table. This is mandatory if we want to open the phased events file together with its associated IRFs. "
   ]
  },
  {
   "cell_type": "code",
   "execution_count": 34,
   "id": "4b8dd431",
   "metadata": {},
   "outputs": [
    {
     "data": {
      "text/html": [
       "<div><i>HDUIndexTable length=10</i>\n",
       "<table id=\"table6207102208\" class=\"table-striped table-bordered table-condensed\">\n",
       "<thead><tr><th>OBS_ID</th><th>HDU_TYPE</th><th>HDU_CLASS</th><th>FILE_DIR</th><th>FILE_NAME</th><th>HDU_NAME</th></tr></thead>\n",
       "<thead><tr><th>int64</th><th>bytes30</th><th>bytes30</th><th>bytes100</th><th>bytes50</th><th>bytes30</th></tr></thead>\n",
       "<tr><td>5029748</td><td>events</td><td>events</td><td>./</td><td>20131004_05029748_DL3_CrabNebula-W0.40+215.fits</td><td>EVENTS</td></tr>\n",
       "<tr><td>5029748</td><td>gti</td><td>gti</td><td>./</td><td>20131004_05029748_DL3_CrabNebula-W0.40+215.fits</td><td>GTI</td></tr>\n",
       "<tr><td>5029748</td><td>rad_max</td><td>rad_max_2d</td><td>./</td><td>20131004_05029748_DL3_CrabNebula-W0.40+215.fits</td><td>RAD_MAX</td></tr>\n",
       "<tr><td>5029748</td><td>aeff</td><td>aeff_2d</td><td>./</td><td>20131004_05029748_DL3_CrabNebula-W0.40+215.fits</td><td>EFFECTIVE AREA</td></tr>\n",
       "<tr><td>5029748</td><td>edisp</td><td>edisp_2d</td><td>./</td><td>20131004_05029748_DL3_CrabNebula-W0.40+215.fits</td><td>ENERGY DISPERSION</td></tr>\n",
       "<tr><td>5029747</td><td>events</td><td>events</td><td>./</td><td>20131004_05029747_DL3_CrabNebula-W0.40+035.fits</td><td>EVENTS</td></tr>\n",
       "<tr><td>5029747</td><td>gti</td><td>gti</td><td>./</td><td>20131004_05029747_DL3_CrabNebula-W0.40+035.fits</td><td>GTI</td></tr>\n",
       "<tr><td>5029747</td><td>rad_max</td><td>rad_max_2d</td><td>./</td><td>20131004_05029747_DL3_CrabNebula-W0.40+035.fits</td><td>RAD_MAX</td></tr>\n",
       "<tr><td>5029747</td><td>aeff</td><td>aeff_2d</td><td>./</td><td>20131004_05029747_DL3_CrabNebula-W0.40+035.fits</td><td>EFFECTIVE AREA</td></tr>\n",
       "<tr><td>5029747</td><td>edisp</td><td>edisp_2d</td><td>./</td><td>20131004_05029747_DL3_CrabNebula-W0.40+035.fits</td><td>ENERGY DISPERSION</td></tr>\n",
       "</table></div>"
      ],
      "text/plain": [
       "<HDUIndexTable length=10>\n",
       " OBS_ID HDU_TYPE HDU_CLASS  FILE_DIR                    FILE_NAME                         HDU_NAME    \n",
       " int64  bytes30   bytes30   bytes100                     bytes50                          bytes30     \n",
       "------- -------- ---------- -------- ----------------------------------------------- -----------------\n",
       "5029748   events     events       ./ 20131004_05029748_DL3_CrabNebula-W0.40+215.fits            EVENTS\n",
       "5029748      gti        gti       ./ 20131004_05029748_DL3_CrabNebula-W0.40+215.fits               GTI\n",
       "5029748  rad_max rad_max_2d       ./ 20131004_05029748_DL3_CrabNebula-W0.40+215.fits           RAD_MAX\n",
       "5029748     aeff    aeff_2d       ./ 20131004_05029748_DL3_CrabNebula-W0.40+215.fits    EFFECTIVE AREA\n",
       "5029748    edisp   edisp_2d       ./ 20131004_05029748_DL3_CrabNebula-W0.40+215.fits ENERGY DISPERSION\n",
       "5029747   events     events       ./ 20131004_05029747_DL3_CrabNebula-W0.40+035.fits            EVENTS\n",
       "5029747      gti        gti       ./ 20131004_05029747_DL3_CrabNebula-W0.40+035.fits               GTI\n",
       "5029747  rad_max rad_max_2d       ./ 20131004_05029747_DL3_CrabNebula-W0.40+035.fits           RAD_MAX\n",
       "5029747     aeff    aeff_2d       ./ 20131004_05029747_DL3_CrabNebula-W0.40+035.fits    EFFECTIVE AREA\n",
       "5029747    edisp   edisp_2d       ./ 20131004_05029747_DL3_CrabNebula-W0.40+035.fits ENERGY DISPERSION"
      ]
     },
     "execution_count": 34,
     "metadata": {},
     "output_type": "execute_result"
    }
   ],
   "source": [
    "# Print the current data store HDU table. \n",
    "new_hdu = data_store.hdu_table.copy()\n",
    "new_hdu"
   ]
  },
  {
   "cell_type": "code",
   "execution_count": 35,
   "id": "6f37e101",
   "metadata": {},
   "outputs": [],
   "source": [
    "for entry in new_hdu: \n",
    "    if entry['HDU_NAME'] == 'EVENTS' and entry['OBS_ID'] == observation.obs_id:\n",
    "        entry['FILE_DIR'] = './' + str(output_directory)\n",
    "        entry['FILE_NAME'] = filename"
   ]
  },
  {
   "cell_type": "code",
   "execution_count": 36,
   "id": "d89a7739",
   "metadata": {},
   "outputs": [
    {
     "data": {
      "text/html": [
       "<div><i>HDUIndexTable length=10</i>\n",
       "<table id=\"table6207102208\" class=\"table-striped table-bordered table-condensed\">\n",
       "<thead><tr><th>OBS_ID</th><th>HDU_TYPE</th><th>HDU_CLASS</th><th>FILE_DIR</th><th>FILE_NAME</th><th>HDU_NAME</th></tr></thead>\n",
       "<thead><tr><th>int64</th><th>bytes30</th><th>bytes30</th><th>bytes100</th><th>bytes50</th><th>bytes30</th></tr></thead>\n",
       "<tr><td>5029748</td><td>events</td><td>events</td><td>./</td><td>20131004_05029748_DL3_CrabNebula-W0.40+215.fits</td><td>EVENTS</td></tr>\n",
       "<tr><td>5029748</td><td>gti</td><td>gti</td><td>./</td><td>20131004_05029748_DL3_CrabNebula-W0.40+215.fits</td><td>GTI</td></tr>\n",
       "<tr><td>5029748</td><td>rad_max</td><td>rad_max_2d</td><td>./</td><td>20131004_05029748_DL3_CrabNebula-W0.40+215.fits</td><td>RAD_MAX</td></tr>\n",
       "<tr><td>5029748</td><td>aeff</td><td>aeff_2d</td><td>./</td><td>20131004_05029748_DL3_CrabNebula-W0.40+215.fits</td><td>EFFECTIVE AREA</td></tr>\n",
       "<tr><td>5029748</td><td>edisp</td><td>edisp_2d</td><td>./</td><td>20131004_05029748_DL3_CrabNebula-W0.40+215.fits</td><td>ENERGY DISPERSION</td></tr>\n",
       "<tr><td>5029747</td><td>events</td><td>events</td><td>./pulsar_events_file/</td><td>dl3_pulsar_5029747.fits.gz</td><td>EVENTS</td></tr>\n",
       "<tr><td>5029747</td><td>gti</td><td>gti</td><td>./</td><td>20131004_05029747_DL3_CrabNebula-W0.40+035.fits</td><td>GTI</td></tr>\n",
       "<tr><td>5029747</td><td>rad_max</td><td>rad_max_2d</td><td>./</td><td>20131004_05029747_DL3_CrabNebula-W0.40+035.fits</td><td>RAD_MAX</td></tr>\n",
       "<tr><td>5029747</td><td>aeff</td><td>aeff_2d</td><td>./</td><td>20131004_05029747_DL3_CrabNebula-W0.40+035.fits</td><td>EFFECTIVE AREA</td></tr>\n",
       "<tr><td>5029747</td><td>edisp</td><td>edisp_2d</td><td>./</td><td>20131004_05029747_DL3_CrabNebula-W0.40+035.fits</td><td>ENERGY DISPERSION</td></tr>\n",
       "</table></div>"
      ],
      "text/plain": [
       "<HDUIndexTable length=10>\n",
       " OBS_ID HDU_TYPE HDU_CLASS         FILE_DIR                          FILE_NAME                         HDU_NAME    \n",
       " int64  bytes30   bytes30          bytes100                           bytes50                          bytes30     \n",
       "------- -------- ---------- --------------------- ----------------------------------------------- -----------------\n",
       "5029748   events     events                    ./ 20131004_05029748_DL3_CrabNebula-W0.40+215.fits            EVENTS\n",
       "5029748      gti        gti                    ./ 20131004_05029748_DL3_CrabNebula-W0.40+215.fits               GTI\n",
       "5029748  rad_max rad_max_2d                    ./ 20131004_05029748_DL3_CrabNebula-W0.40+215.fits           RAD_MAX\n",
       "5029748     aeff    aeff_2d                    ./ 20131004_05029748_DL3_CrabNebula-W0.40+215.fits    EFFECTIVE AREA\n",
       "5029748    edisp   edisp_2d                    ./ 20131004_05029748_DL3_CrabNebula-W0.40+215.fits ENERGY DISPERSION\n",
       "5029747   events     events ./pulsar_events_file/                      dl3_pulsar_5029747.fits.gz            EVENTS\n",
       "5029747      gti        gti                    ./ 20131004_05029747_DL3_CrabNebula-W0.40+035.fits               GTI\n",
       "5029747  rad_max rad_max_2d                    ./ 20131004_05029747_DL3_CrabNebula-W0.40+035.fits           RAD_MAX\n",
       "5029747     aeff    aeff_2d                    ./ 20131004_05029747_DL3_CrabNebula-W0.40+035.fits    EFFECTIVE AREA\n",
       "5029747    edisp   edisp_2d                    ./ 20131004_05029747_DL3_CrabNebula-W0.40+035.fits ENERGY DISPERSION"
      ]
     },
     "execution_count": 36,
     "metadata": {},
     "output_type": "execute_result"
    }
   ],
   "source": [
    "new_hdu"
   ]
  },
  {
   "cell_type": "markdown",
   "id": "19453d2d",
   "metadata": {},
   "source": [
    "We see that the `FILE_DIR`and `FILE_NAME`entry have been modified for our phased events file."
   ]
  },
  {
   "cell_type": "markdown",
   "id": "e08bf493",
   "metadata": {},
   "source": [
    "Finally, we need to save the new HDU table in the origianl DL3 directory. Here one should be very careful to not name the new HDU file with the same name as the original HDU file of the data store. Otherwise, the original HDU file will be overwrited. "
   ]
  },
  {
   "cell_type": "code",
   "execution_count": 37,
   "id": "b1633cd5",
   "metadata": {},
   "outputs": [],
   "source": [
    "new_hdu.write(datastore_dir + 'hdu-index-pulsar.fits.gz', format='fits', overwrite=True)"
   ]
  },
  {
   "cell_type": "markdown",
   "id": "e92cf68c",
   "metadata": {},
   "source": [
    "**Note: Here we use only one approach that could be useful, showing the steps to save the new Event files in a random directory and generate a new modified HDU index table. However, the user is free to chose the absolute path of the EventList and DataStore.  For instance, another approach could be making a full copy of the DataStore, or changing the location of the pulsar event files to one that could be more convinient for the user.**"
   ]
  },
  {
   "cell_type": "markdown",
   "id": "6dfca2b8",
   "metadata": {},
   "source": [
    "## 5. Opening the new DataStore"
   ]
  },
  {
   "cell_type": "markdown",
   "id": "e1036448",
   "metadata": {},
   "source": [
    "Once all of this is done, we just have to open the data store using `DataStore.from_dir()`and passing the pulsar HDU table to it :"
   ]
  },
  {
   "cell_type": "code",
   "execution_count": 38,
   "id": "88a0e9c1",
   "metadata": {},
   "outputs": [],
   "source": [
    "pulsar_datastore = DataStore.from_dir(DL3_direc, hdu_table_filename='hdu-index-pulsar.fits.gz')"
   ]
  },
  {
   "cell_type": "code",
   "execution_count": 39,
   "id": "f7c60c18",
   "metadata": {},
   "outputs": [
    {
     "data": {
      "image/png": "[encoded data removed]",
      "text/plain": [
       "<Figure size 1500x1000 with 7 Axes>"
      ]
     },
     "metadata": {},
     "output_type": "display_data"
    }
   ],
   "source": [
    "observations = pulsar_datastore.get_observations([5029747], required_irf = \"point-like\")\n",
    "observations[0].peek()"
   ]
  },
  {
   "cell_type": "code",
   "execution_count": 40,
   "id": "4ae8ebd2",
   "metadata": {},
   "outputs": [
    {
     "data": {
      "text/html": [
       "<div><i>Table length=11189</i>\n",
       "<table id=\"table6131356144\" class=\"table-striped table-bordered table-condensed\">\n",
       "<thead><tr><th>EVENT_ID</th><th>TIME</th><th>RA</th><th>DEC</th><th>ENERGY</th></tr></thead>\n",
       "<thead><tr><th></th><th>s</th><th>deg</th><th>deg</th><th>TeV</th></tr></thead>\n",
       "<thead><tr><th>int64</th><th>float64</th><th>float32</th><th>float32</th><th>float32</th></tr></thead>\n",
       "<tr><td>2402</td><td>333778852.5099249</td><td>84.59457</td><td>22.03088</td><td>0.18194601</td></tr>\n",
       "<tr><td>2408</td><td>333778852.5267153</td><td>84.21462</td><td>23.44914</td><td>0.08397394</td></tr>\n",
       "<tr><td>2434</td><td>333778852.61315054</td><td>83.524704</td><td>22.725792</td><td>0.10596932</td></tr>\n",
       "<tr><td>2445</td><td>333778852.6690142</td><td>83.76957</td><td>22.451006</td><td>0.19733498</td></tr>\n",
       "<tr><td>2478</td><td>333778852.7627939</td><td>83.478516</td><td>23.484594</td><td>0.08522219</td></tr>\n",
       "<tr><td>2481</td><td>333778852.7778549</td><td>83.71517</td><td>21.985115</td><td>1.0020943</td></tr>\n",
       "<tr><td>2513</td><td>333778852.8644467</td><td>82.421196</td><td>22.567652</td><td>0.14374068</td></tr>\n",
       "<tr><td>2544</td><td>333778852.9826064</td><td>83.64136</td><td>22.041315</td><td>0.10316629</td></tr>\n",
       "<tr><td>2559</td><td>333778853.0269414</td><td>84.069176</td><td>22.97337</td><td>0.047184493</td></tr>\n",
       "<tr><td>2561</td><td>333778853.0339344</td><td>84.84237</td><td>22.175398</td><td>0.118843034</td></tr>\n",
       "<tr><td>2612</td><td>333778853.20117164</td><td>82.21805</td><td>21.617695</td><td>0.2293238</td></tr>\n",
       "<tr><td>2666</td><td>333778853.3477573</td><td>83.10489</td><td>22.165325</td><td>0.13139088</td></tr>\n",
       "<tr><td>2687</td><td>333778853.42124623</td><td>84.232056</td><td>22.624523</td><td>0.12255095</td></tr>\n",
       "<tr><td>2744</td><td>333778853.6358385</td><td>83.538376</td><td>23.062138</td><td>0.05365582</td></tr>\n",
       "<tr><td>2773</td><td>333778853.72578907</td><td>83.128845</td><td>22.573744</td><td>0.060143396</td></tr>\n",
       "<tr><td>2846</td><td>333778853.9389342</td><td>84.5564</td><td>21.062351</td><td>0.078672685</td></tr>\n",
       "<tr><td>2848</td><td>333778853.94359934</td><td>84.63283</td><td>22.767942</td><td>0.066196926</td></tr>\n",
       "<tr><td>2917</td><td>333778854.18804204</td><td>84.70885</td><td>22.951252</td><td>0.16177177</td></tr>\n",
       "<tr><td>2962</td><td>333778854.3340173</td><td>84.176834</td><td>22.481804</td><td>0.19015822</td></tr>\n",
       "<tr><td>...</td><td>...</td><td>...</td><td>...</td><td>...</td></tr>\n",
       "<tr><td>356033</td><td>333780038.87027675</td><td>84.868324</td><td>22.122936</td><td>0.053648368</td></tr>\n",
       "<tr><td>356036</td><td>333780038.89050585</td><td>84.28431</td><td>22.485682</td><td>0.1434038</td></tr>\n",
       "<tr><td>356064</td><td>333780038.9660876</td><td>83.56388</td><td>23.119524</td><td>0.044686373</td></tr>\n",
       "<tr><td>356068</td><td>333780038.9721074</td><td>85.152534</td><td>22.07673</td><td>0.16445196</td></tr>\n",
       "<tr><td>356116</td><td>333780039.1024301</td><td>84.09231</td><td>22.101425</td><td>0.074603334</td></tr>\n",
       "<tr><td>356125</td><td>333780039.1388719</td><td>84.2133</td><td>22.039534</td><td>0.057559364</td></tr>\n",
       "<tr><td>356138</td><td>333780039.17792755</td><td>83.998665</td><td>22.431725</td><td>0.14909887</td></tr>\n",
       "<tr><td>356167</td><td>333780039.2743846</td><td>84.22705</td><td>22.348415</td><td>0.19341666</td></tr>\n",
       "<tr><td>356192</td><td>333780039.33778954</td><td>84.08523</td><td>22.571606</td><td>0.07879259</td></tr>\n",
       "<tr><td>356222</td><td>333780039.4520397</td><td>84.74482</td><td>20.894981</td><td>0.043312162</td></tr>\n",
       "<tr><td>356223</td><td>333780039.4600492</td><td>84.11615</td><td>22.557505</td><td>0.08110082</td></tr>\n",
       "<tr><td>356227</td><td>333780039.47105366</td><td>83.41534</td><td>21.67344</td><td>0.2096362</td></tr>\n",
       "<tr><td>356242</td><td>333780039.5179095</td><td>83.55165</td><td>22.772985</td><td>0.17672835</td></tr>\n",
       "<tr><td>356282</td><td>333780039.62997514</td><td>84.46133</td><td>21.69357</td><td>0.05068718</td></tr>\n",
       "<tr><td>356473</td><td>333780040.3386479</td><td>84.45441</td><td>21.159828</td><td>0.1831569</td></tr>\n",
       "<tr><td>356478</td><td>333780040.3548926</td><td>83.68336</td><td>23.444988</td><td>0.06305169</td></tr>\n",
       "<tr><td>356485</td><td>333780040.3741322</td><td>84.33517</td><td>21.28338</td><td>0.060539745</td></tr>\n",
       "<tr><td>356486</td><td>333780040.3755159</td><td>84.85886</td><td>22.116222</td><td>0.123453744</td></tr>\n",
       "<tr><td>356526</td><td>333780040.52476007</td><td>84.86929</td><td>21.290916</td><td>0.13630114</td></tr>\n",
       "</table></div>"
      ],
      "text/plain": [
       "<Table length=11189>\n",
       "EVENT_ID        TIME            RA       DEC       ENERGY  \n",
       "                 s             deg       deg        TeV    \n",
       " int64        float64        float32   float32    float32  \n",
       "-------- ------------------ --------- --------- -----------\n",
       "    2402  333778852.5099249  84.59457  22.03088  0.18194601\n",
       "    2408  333778852.5267153  84.21462  23.44914  0.08397394\n",
       "    2434 333778852.61315054 83.524704 22.725792  0.10596932\n",
       "    2445  333778852.6690142  83.76957 22.451006  0.19733498\n",
       "    2478  333778852.7627939 83.478516 23.484594  0.08522219\n",
       "    2481  333778852.7778549  83.71517 21.985115   1.0020943\n",
       "    2513  333778852.8644467 82.421196 22.567652  0.14374068\n",
       "    2544  333778852.9826064  83.64136 22.041315  0.10316629\n",
       "    2559  333778853.0269414 84.069176  22.97337 0.047184493\n",
       "    2561  333778853.0339344  84.84237 22.175398 0.118843034\n",
       "    2612 333778853.20117164  82.21805 21.617695   0.2293238\n",
       "    2666  333778853.3477573  83.10489 22.165325  0.13139088\n",
       "    2687 333778853.42124623 84.232056 22.624523  0.12255095\n",
       "    2744  333778853.6358385 83.538376 23.062138  0.05365582\n",
       "    2773 333778853.72578907 83.128845 22.573744 0.060143396\n",
       "    2846  333778853.9389342   84.5564 21.062351 0.078672685\n",
       "    2848 333778853.94359934  84.63283 22.767942 0.066196926\n",
       "    2917 333778854.18804204  84.70885 22.951252  0.16177177\n",
       "    2962  333778854.3340173 84.176834 22.481804  0.19015822\n",
       "     ...                ...       ...       ...         ...\n",
       "  356033 333780038.87027675 84.868324 22.122936 0.053648368\n",
       "  356036 333780038.89050585  84.28431 22.485682   0.1434038\n",
       "  356064  333780038.9660876  83.56388 23.119524 0.044686373\n",
       "  356068  333780038.9721074 85.152534  22.07673  0.16445196\n",
       "  356116  333780039.1024301  84.09231 22.101425 0.074603334\n",
       "  356125  333780039.1388719   84.2133 22.039534 0.057559364\n",
       "  356138 333780039.17792755 83.998665 22.431725  0.14909887\n",
       "  356167  333780039.2743846  84.22705 22.348415  0.19341666\n",
       "  356192 333780039.33778954  84.08523 22.571606  0.07879259\n",
       "  356222  333780039.4520397  84.74482 20.894981 0.043312162\n",
       "  356223  333780039.4600492  84.11615 22.557505  0.08110082\n",
       "  356227 333780039.47105366  83.41534  21.67344   0.2096362\n",
       "  356242  333780039.5179095  83.55165 22.772985  0.17672835\n",
       "  356282 333780039.62997514  84.46133  21.69357  0.05068718\n",
       "  356473  333780040.3386479  84.45441 21.159828   0.1831569\n",
       "  356478  333780040.3548926  83.68336 23.444988  0.06305169\n",
       "  356485  333780040.3741322  84.33517  21.28338 0.060539745\n",
       "  356486  333780040.3755159  84.85886 22.116222 0.123453744\n",
       "  356526 333780040.52476007  84.86929 21.290916  0.13630114"
      ]
     },
     "execution_count": 40,
     "metadata": {},
     "output_type": "execute_result"
    }
   ],
   "source": [
    "observations[0].events.table"
   ]
  },
  {
   "cell_type": "markdown",
   "id": "d37ae9b2",
   "metadata": {},
   "source": [
    "We can see that we recover both the IRFs and the events file with the phase column."
   ]
  },
  {
   "cell_type": "markdown",
   "id": "972ba493",
   "metadata": {},
   "source": [
    "## 6. Pulsar analysis tools with gammapy"
   ]
  },
  {
   "cell_type": "markdown",
   "id": "1fe89d60",
   "metadata": {},
   "source": [
    "Once we have the corret DataStore and the modified EventList with the phase information, we can do the pulsar analysis using different tools for Gammapy to compute the phaseogram, maps, SED, lightcurve, etc... To do so, one can check the following [Gammapy tutorial](https://docs.gammapy.org/1.0/tutorials/analysis-time/pulsar_analysis.html#sphx-glr-tutorials-analysis-time-pulsar-analysis-py)."
   ]
  },
  {
   "cell_type": "markdown",
   "id": "3d495311",
   "metadata": {},
   "source": [
    "\n",
    "Recipe made by [Alvaros Mas](https://github.com/alvmas), [Maxime Regeard](https://github.com/MRegeard), [Jan Lukas Schubert](https://github.com/jalu98)."
   ]
  }
 ],
 "metadata": {
  "kernelspec": {
   "display_name": "Python 3 (ipykernel)",
   "language": "python",
   "name": "python3"
  },
  "language_info": {
   "codemirror_mode": {
    "name": "ipython",
    "version": 3
   },
   "file_extension": ".py",
   "mimetype": "text/x-python",
   "name": "python",
   "nbconvert_exporter": "python",
   "pygments_lexer": "ipython3",
   "version": "3.9.15"
  }
 },
 "nbformat": 4,
 "nbformat_minor": 5
}
